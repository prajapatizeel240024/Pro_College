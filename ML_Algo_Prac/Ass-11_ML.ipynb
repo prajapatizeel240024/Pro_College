{
 "cells": [
  {
   "cell_type": "markdown",
   "id": "af5b8fb4",
   "metadata": {},
   "source": [
    "# Part-1: Data Exploration and Pre-processing."
   ]
  },
  {
   "cell_type": "code",
   "execution_count": 1,
   "id": "bb632dfb",
   "metadata": {},
   "outputs": [],
   "source": [
    "from sklearn.cluster import KMeans\n",
    "import pandas as pd\n",
    "from matplotlib import pyplot as plt\n",
    "%matplotlib inline\n",
    "import seaborn as sns"
   ]
  },
  {
   "cell_type": "markdown",
   "id": "69213804",
   "metadata": {},
   "source": [
    "1. Load dataset."
   ]
  },
  {
   "cell_type": "code",
   "execution_count": 25,
   "id": "689259dd",
   "metadata": {},
   "outputs": [
    {
     "name": "stdout",
     "output_type": "stream",
     "text": [
      "E:\\Data Sci\\Machince_Langauage\\Ass\n"
     ]
    }
   ],
   "source": [
    "cd E:\\Data Sci\\Machince_Langauage\\Ass"
   ]
  },
  {
   "cell_type": "code",
   "execution_count": 26,
   "id": "83afded1",
   "metadata": {},
   "outputs": [],
   "source": [
    "data = pd.read_csv(\"Ass-11.csv\")"
   ]
  },
  {
   "cell_type": "code",
   "execution_count": 27,
   "id": "891082c5",
   "metadata": {},
   "outputs": [
    {
     "data": {
      "text/html": [
       "<div>\n",
       "<style scoped>\n",
       "    .dataframe tbody tr th:only-of-type {\n",
       "        vertical-align: middle;\n",
       "    }\n",
       "\n",
       "    .dataframe tbody tr th {\n",
       "        vertical-align: top;\n",
       "    }\n",
       "\n",
       "    .dataframe thead th {\n",
       "        text-align: right;\n",
       "    }\n",
       "</style>\n",
       "<table border=\"1\" class=\"dataframe\">\n",
       "  <thead>\n",
       "    <tr style=\"text-align: right;\">\n",
       "      <th></th>\n",
       "      <th>Gender</th>\n",
       "      <th>Chain_smoker</th>\n",
       "      <th>Consumes_other_tobacco_products</th>\n",
       "      <th>HighBP</th>\n",
       "      <th>Obese</th>\n",
       "      <th>Diabetes</th>\n",
       "      <th>Metabolic_syndrome</th>\n",
       "      <th>Use_of_stimulant_drugs</th>\n",
       "      <th>Family_history</th>\n",
       "      <th>History_of_preeclampsia</th>\n",
       "      <th>CABG_history</th>\n",
       "      <th>Respiratory_illness</th>\n",
       "      <th>UnderRisk</th>\n",
       "    </tr>\n",
       "  </thead>\n",
       "  <tbody>\n",
       "    <tr>\n",
       "      <th>0</th>\n",
       "      <td>1</td>\n",
       "      <td>1</td>\n",
       "      <td>1</td>\n",
       "      <td>0</td>\n",
       "      <td>1</td>\n",
       "      <td>0</td>\n",
       "      <td>0</td>\n",
       "      <td>0</td>\n",
       "      <td>1</td>\n",
       "      <td>0</td>\n",
       "      <td>0</td>\n",
       "      <td>0</td>\n",
       "      <td>no</td>\n",
       "    </tr>\n",
       "    <tr>\n",
       "      <th>1</th>\n",
       "      <td>1</td>\n",
       "      <td>0</td>\n",
       "      <td>1</td>\n",
       "      <td>0</td>\n",
       "      <td>1</td>\n",
       "      <td>0</td>\n",
       "      <td>0</td>\n",
       "      <td>0</td>\n",
       "      <td>1</td>\n",
       "      <td>0</td>\n",
       "      <td>0</td>\n",
       "      <td>0</td>\n",
       "      <td>no</td>\n",
       "    </tr>\n",
       "    <tr>\n",
       "      <th>2</th>\n",
       "      <td>1</td>\n",
       "      <td>0</td>\n",
       "      <td>1</td>\n",
       "      <td>0</td>\n",
       "      <td>1</td>\n",
       "      <td>0</td>\n",
       "      <td>0</td>\n",
       "      <td>0</td>\n",
       "      <td>1</td>\n",
       "      <td>0</td>\n",
       "      <td>0</td>\n",
       "      <td>0</td>\n",
       "      <td>no</td>\n",
       "    </tr>\n",
       "    <tr>\n",
       "      <th>3</th>\n",
       "      <td>1</td>\n",
       "      <td>0</td>\n",
       "      <td>1</td>\n",
       "      <td>0</td>\n",
       "      <td>1</td>\n",
       "      <td>0</td>\n",
       "      <td>0</td>\n",
       "      <td>0</td>\n",
       "      <td>1</td>\n",
       "      <td>0</td>\n",
       "      <td>0</td>\n",
       "      <td>0</td>\n",
       "      <td>no</td>\n",
       "    </tr>\n",
       "    <tr>\n",
       "      <th>4</th>\n",
       "      <td>1</td>\n",
       "      <td>0</td>\n",
       "      <td>0</td>\n",
       "      <td>0</td>\n",
       "      <td>0</td>\n",
       "      <td>0</td>\n",
       "      <td>1</td>\n",
       "      <td>1</td>\n",
       "      <td>0</td>\n",
       "      <td>0</td>\n",
       "      <td>0</td>\n",
       "      <td>0</td>\n",
       "      <td>no</td>\n",
       "    </tr>\n",
       "  </tbody>\n",
       "</table>\n",
       "</div>"
      ],
      "text/plain": [
       "   Gender  Chain_smoker  Consumes_other_tobacco_products  HighBP  Obese  \\\n",
       "0       1             1                                1       0      1   \n",
       "1       1             0                                1       0      1   \n",
       "2       1             0                                1       0      1   \n",
       "3       1             0                                1       0      1   \n",
       "4       1             0                                0       0      0   \n",
       "\n",
       "   Diabetes  Metabolic_syndrome  Use_of_stimulant_drugs  Family_history  \\\n",
       "0         0                   0                       0               1   \n",
       "1         0                   0                       0               1   \n",
       "2         0                   0                       0               1   \n",
       "3         0                   0                       0               1   \n",
       "4         0                   1                       1               0   \n",
       "\n",
       "   History_of_preeclampsia  CABG_history  Respiratory_illness UnderRisk  \n",
       "0                        0             0                    0        no  \n",
       "1                        0             0                    0        no  \n",
       "2                        0             0                    0        no  \n",
       "3                        0             0                    0        no  \n",
       "4                        0             0                    0        no  "
      ]
     },
     "execution_count": 27,
     "metadata": {},
     "output_type": "execute_result"
    }
   ],
   "source": [
    "data.head()"
   ]
  },
  {
   "cell_type": "markdown",
   "id": "7c47f16f",
   "metadata": {},
   "source": [
    "2. Check null values."
   ]
  },
  {
   "cell_type": "code",
   "execution_count": 28,
   "id": "90db9d21",
   "metadata": {},
   "outputs": [
    {
     "data": {
      "text/plain": [
       "Gender                             0\n",
       "Chain_smoker                       0\n",
       "Consumes_other_tobacco_products    0\n",
       "HighBP                             0\n",
       "Obese                              0\n",
       "Diabetes                           0\n",
       "Metabolic_syndrome                 0\n",
       "Use_of_stimulant_drugs             0\n",
       "Family_history                     0\n",
       "History_of_preeclampsia            0\n",
       "CABG_history                       0\n",
       "Respiratory_illness                0\n",
       "UnderRisk                          0\n",
       "dtype: int64"
      ]
     },
     "execution_count": 28,
     "metadata": {},
     "output_type": "execute_result"
    }
   ],
   "source": [
    "data.isnull().sum()"
   ]
  },
  {
   "cell_type": "markdown",
   "id": "9596bfd5",
   "metadata": {},
   "source": [
    "3. Print information about dataset."
   ]
  },
  {
   "cell_type": "code",
   "execution_count": 29,
   "id": "b11befd3",
   "metadata": {},
   "outputs": [
    {
     "name": "stdout",
     "output_type": "stream",
     "text": [
      "<class 'pandas.core.frame.DataFrame'>\n",
      "RangeIndex: 889 entries, 0 to 888\n",
      "Data columns (total 13 columns):\n",
      " #   Column                           Non-Null Count  Dtype \n",
      "---  ------                           --------------  ----- \n",
      " 0   Gender                           889 non-null    int64 \n",
      " 1   Chain_smoker                     889 non-null    int64 \n",
      " 2   Consumes_other_tobacco_products  889 non-null    int64 \n",
      " 3   HighBP                           889 non-null    int64 \n",
      " 4   Obese                            889 non-null    int64 \n",
      " 5   Diabetes                         889 non-null    int64 \n",
      " 6   Metabolic_syndrome               889 non-null    int64 \n",
      " 7   Use_of_stimulant_drugs           889 non-null    int64 \n",
      " 8   Family_history                   889 non-null    int64 \n",
      " 9   History_of_preeclampsia          889 non-null    int64 \n",
      " 10  CABG_history                     889 non-null    int64 \n",
      " 11  Respiratory_illness              889 non-null    int64 \n",
      " 12  UnderRisk                        889 non-null    object\n",
      "dtypes: int64(12), object(1)\n",
      "memory usage: 90.4+ KB\n"
     ]
    }
   ],
   "source": [
    "data.info()"
   ]
  },
  {
   "cell_type": "markdown",
   "id": "180160c3",
   "metadata": {},
   "source": [
    "4. Describe dataset in statistic form."
   ]
  },
  {
   "cell_type": "code",
   "execution_count": 30,
   "id": "de9c9798",
   "metadata": {},
   "outputs": [
    {
     "data": {
      "text/html": [
       "<div>\n",
       "<style scoped>\n",
       "    .dataframe tbody tr th:only-of-type {\n",
       "        vertical-align: middle;\n",
       "    }\n",
       "\n",
       "    .dataframe tbody tr th {\n",
       "        vertical-align: top;\n",
       "    }\n",
       "\n",
       "    .dataframe thead th {\n",
       "        text-align: right;\n",
       "    }\n",
       "</style>\n",
       "<table border=\"1\" class=\"dataframe\">\n",
       "  <thead>\n",
       "    <tr style=\"text-align: right;\">\n",
       "      <th></th>\n",
       "      <th>Gender</th>\n",
       "      <th>Chain_smoker</th>\n",
       "      <th>Consumes_other_tobacco_products</th>\n",
       "      <th>HighBP</th>\n",
       "      <th>Obese</th>\n",
       "      <th>Diabetes</th>\n",
       "      <th>Metabolic_syndrome</th>\n",
       "      <th>Use_of_stimulant_drugs</th>\n",
       "      <th>Family_history</th>\n",
       "      <th>History_of_preeclampsia</th>\n",
       "      <th>CABG_history</th>\n",
       "      <th>Respiratory_illness</th>\n",
       "    </tr>\n",
       "  </thead>\n",
       "  <tbody>\n",
       "    <tr>\n",
       "      <th>count</th>\n",
       "      <td>889.000000</td>\n",
       "      <td>889.000000</td>\n",
       "      <td>889.00000</td>\n",
       "      <td>889.000000</td>\n",
       "      <td>889.000000</td>\n",
       "      <td>889.000000</td>\n",
       "      <td>889.000000</td>\n",
       "      <td>889.000000</td>\n",
       "      <td>889.000000</td>\n",
       "      <td>889.000000</td>\n",
       "      <td>889.000000</td>\n",
       "      <td>889.000000</td>\n",
       "    </tr>\n",
       "    <tr>\n",
       "      <th>mean</th>\n",
       "      <td>1.258718</td>\n",
       "      <td>0.120360</td>\n",
       "      <td>0.83802</td>\n",
       "      <td>0.086614</td>\n",
       "      <td>0.919010</td>\n",
       "      <td>0.055118</td>\n",
       "      <td>0.042745</td>\n",
       "      <td>0.082115</td>\n",
       "      <td>0.925759</td>\n",
       "      <td>0.017998</td>\n",
       "      <td>0.021372</td>\n",
       "      <td>0.032621</td>\n",
       "    </tr>\n",
       "    <tr>\n",
       "      <th>std</th>\n",
       "      <td>0.500557</td>\n",
       "      <td>0.325565</td>\n",
       "      <td>0.36864</td>\n",
       "      <td>0.281427</td>\n",
       "      <td>0.272973</td>\n",
       "      <td>0.228339</td>\n",
       "      <td>0.202395</td>\n",
       "      <td>0.274694</td>\n",
       "      <td>0.262310</td>\n",
       "      <td>0.133018</td>\n",
       "      <td>0.144704</td>\n",
       "      <td>0.177742</td>\n",
       "    </tr>\n",
       "    <tr>\n",
       "      <th>min</th>\n",
       "      <td>0.000000</td>\n",
       "      <td>0.000000</td>\n",
       "      <td>0.00000</td>\n",
       "      <td>0.000000</td>\n",
       "      <td>0.000000</td>\n",
       "      <td>0.000000</td>\n",
       "      <td>0.000000</td>\n",
       "      <td>0.000000</td>\n",
       "      <td>0.000000</td>\n",
       "      <td>0.000000</td>\n",
       "      <td>0.000000</td>\n",
       "      <td>0.000000</td>\n",
       "    </tr>\n",
       "    <tr>\n",
       "      <th>25%</th>\n",
       "      <td>1.000000</td>\n",
       "      <td>0.000000</td>\n",
       "      <td>1.00000</td>\n",
       "      <td>0.000000</td>\n",
       "      <td>1.000000</td>\n",
       "      <td>0.000000</td>\n",
       "      <td>0.000000</td>\n",
       "      <td>0.000000</td>\n",
       "      <td>1.000000</td>\n",
       "      <td>0.000000</td>\n",
       "      <td>0.000000</td>\n",
       "      <td>0.000000</td>\n",
       "    </tr>\n",
       "    <tr>\n",
       "      <th>50%</th>\n",
       "      <td>1.000000</td>\n",
       "      <td>0.000000</td>\n",
       "      <td>1.00000</td>\n",
       "      <td>0.000000</td>\n",
       "      <td>1.000000</td>\n",
       "      <td>0.000000</td>\n",
       "      <td>0.000000</td>\n",
       "      <td>0.000000</td>\n",
       "      <td>1.000000</td>\n",
       "      <td>0.000000</td>\n",
       "      <td>0.000000</td>\n",
       "      <td>0.000000</td>\n",
       "    </tr>\n",
       "    <tr>\n",
       "      <th>75%</th>\n",
       "      <td>2.000000</td>\n",
       "      <td>0.000000</td>\n",
       "      <td>1.00000</td>\n",
       "      <td>0.000000</td>\n",
       "      <td>1.000000</td>\n",
       "      <td>0.000000</td>\n",
       "      <td>0.000000</td>\n",
       "      <td>0.000000</td>\n",
       "      <td>1.000000</td>\n",
       "      <td>0.000000</td>\n",
       "      <td>0.000000</td>\n",
       "      <td>0.000000</td>\n",
       "    </tr>\n",
       "    <tr>\n",
       "      <th>max</th>\n",
       "      <td>2.000000</td>\n",
       "      <td>1.000000</td>\n",
       "      <td>1.00000</td>\n",
       "      <td>1.000000</td>\n",
       "      <td>1.000000</td>\n",
       "      <td>1.000000</td>\n",
       "      <td>1.000000</td>\n",
       "      <td>1.000000</td>\n",
       "      <td>1.000000</td>\n",
       "      <td>1.000000</td>\n",
       "      <td>1.000000</td>\n",
       "      <td>1.000000</td>\n",
       "    </tr>\n",
       "  </tbody>\n",
       "</table>\n",
       "</div>"
      ],
      "text/plain": [
       "           Gender  Chain_smoker  Consumes_other_tobacco_products      HighBP  \\\n",
       "count  889.000000    889.000000                        889.00000  889.000000   \n",
       "mean     1.258718      0.120360                          0.83802    0.086614   \n",
       "std      0.500557      0.325565                          0.36864    0.281427   \n",
       "min      0.000000      0.000000                          0.00000    0.000000   \n",
       "25%      1.000000      0.000000                          1.00000    0.000000   \n",
       "50%      1.000000      0.000000                          1.00000    0.000000   \n",
       "75%      2.000000      0.000000                          1.00000    0.000000   \n",
       "max      2.000000      1.000000                          1.00000    1.000000   \n",
       "\n",
       "            Obese    Diabetes  Metabolic_syndrome  Use_of_stimulant_drugs  \\\n",
       "count  889.000000  889.000000          889.000000              889.000000   \n",
       "mean     0.919010    0.055118            0.042745                0.082115   \n",
       "std      0.272973    0.228339            0.202395                0.274694   \n",
       "min      0.000000    0.000000            0.000000                0.000000   \n",
       "25%      1.000000    0.000000            0.000000                0.000000   \n",
       "50%      1.000000    0.000000            0.000000                0.000000   \n",
       "75%      1.000000    0.000000            0.000000                0.000000   \n",
       "max      1.000000    1.000000            1.000000                1.000000   \n",
       "\n",
       "       Family_history  History_of_preeclampsia  CABG_history  \\\n",
       "count      889.000000               889.000000    889.000000   \n",
       "mean         0.925759                 0.017998      0.021372   \n",
       "std          0.262310                 0.133018      0.144704   \n",
       "min          0.000000                 0.000000      0.000000   \n",
       "25%          1.000000                 0.000000      0.000000   \n",
       "50%          1.000000                 0.000000      0.000000   \n",
       "75%          1.000000                 0.000000      0.000000   \n",
       "max          1.000000                 1.000000      1.000000   \n",
       "\n",
       "       Respiratory_illness  \n",
       "count           889.000000  \n",
       "mean              0.032621  \n",
       "std               0.177742  \n",
       "min               0.000000  \n",
       "25%               0.000000  \n",
       "50%               0.000000  \n",
       "75%               0.000000  \n",
       "max               1.000000  "
      ]
     },
     "execution_count": 30,
     "metadata": {},
     "output_type": "execute_result"
    }
   ],
   "source": [
    "data.describe()"
   ]
  },
  {
   "cell_type": "markdown",
   "id": "f42a9ae1",
   "metadata": {},
   "source": [
    "5. Drop under risk column."
   ]
  },
  {
   "cell_type": "code",
   "execution_count": 31,
   "id": "c410ce28",
   "metadata": {},
   "outputs": [],
   "source": [
    "data1 = data.drop(['UnderRisk'] , axis = 1 )"
   ]
  },
  {
   "cell_type": "code",
   "execution_count": 32,
   "id": "6969510b",
   "metadata": {},
   "outputs": [
    {
     "name": "stdout",
     "output_type": "stream",
     "text": [
      "<class 'pandas.core.frame.DataFrame'>\n",
      "RangeIndex: 889 entries, 0 to 888\n",
      "Data columns (total 12 columns):\n",
      " #   Column                           Non-Null Count  Dtype\n",
      "---  ------                           --------------  -----\n",
      " 0   Gender                           889 non-null    int64\n",
      " 1   Chain_smoker                     889 non-null    int64\n",
      " 2   Consumes_other_tobacco_products  889 non-null    int64\n",
      " 3   HighBP                           889 non-null    int64\n",
      " 4   Obese                            889 non-null    int64\n",
      " 5   Diabetes                         889 non-null    int64\n",
      " 6   Metabolic_syndrome               889 non-null    int64\n",
      " 7   Use_of_stimulant_drugs           889 non-null    int64\n",
      " 8   Family_history                   889 non-null    int64\n",
      " 9   History_of_preeclampsia          889 non-null    int64\n",
      " 10  CABG_history                     889 non-null    int64\n",
      " 11  Respiratory_illness              889 non-null    int64\n",
      "dtypes: int64(12)\n",
      "memory usage: 83.5 KB\n"
     ]
    }
   ],
   "source": [
    "data1.info()"
   ]
  },
  {
   "cell_type": "markdown",
   "id": "d2e5df38",
   "metadata": {},
   "source": [
    "# Part-2: Working with Models"
   ]
  },
  {
   "cell_type": "markdown",
   "id": "7df89de4",
   "metadata": {},
   "source": [
    "1. Apply Kmean clustering on dataset."
   ]
  },
  {
   "cell_type": "code",
   "execution_count": 33,
   "id": "1a479f03",
   "metadata": {
    "scrolled": true
   },
   "outputs": [
    {
     "data": {
      "text/plain": [
       "KMeans(n_clusters=2)"
      ]
     },
     "execution_count": 33,
     "metadata": {},
     "output_type": "execute_result"
    }
   ],
   "source": [
    "km = KMeans(n_clusters=2,)\n",
    "km.fit(data1)"
   ]
  },
  {
   "cell_type": "markdown",
   "id": "92dcad36",
   "metadata": {},
   "source": [
    "Check the wcss score if n_cluster = 2."
   ]
  },
  {
   "cell_type": "code",
   "execution_count": 14,
   "id": "04359338",
   "metadata": {},
   "outputs": [
    {
     "data": {
      "text/plain": [
       "645.4620853080589"
      ]
     },
     "execution_count": 14,
     "metadata": {},
     "output_type": "execute_result"
    }
   ],
   "source": [
    "wcss = km.inertia_\n",
    "wcss"
   ]
  },
  {
   "cell_type": "markdown",
   "id": "8f3c31d1",
   "metadata": {},
   "source": [
    "3. Try different n and find wcss score."
   ]
  },
  {
   "cell_type": "code",
   "execution_count": 34,
   "id": "b0c55226",
   "metadata": {},
   "outputs": [],
   "source": [
    "import warnings\n",
    "warnings.filterwarnings(\"ignore\")"
   ]
  },
  {
   "cell_type": "code",
   "execution_count": 35,
   "id": "a64d45b3",
   "metadata": {},
   "outputs": [],
   "source": [
    "#create empty list\n",
    "wcss = []\n",
    "#select k value from 1 to 10\n",
    "for i in range(1, 11):\n",
    "    km = KMeans(n_clusters = i, random_state = 42)\n",
    "    km.fit(data1)\n",
    "    # inertia method returns wcss for that model\n",
    "    wcss.append(km.inertia_)"
   ]
  },
  {
   "cell_type": "code",
   "execution_count": 36,
   "id": "595535d8",
   "metadata": {},
   "outputs": [
    {
     "data": {
      "image/png": "[encoded data removed]",
      "text/plain": [
       "<Figure size 720x360 with 1 Axes>"
      ]
     },
     "metadata": {
      "needs_background": "light"
     },
     "output_type": "display_data"
    }
   ],
   "source": [
    "plt.figure(figsize=(10,5))\n",
    "sns.lineplot(range(1, 11), wcss,marker='o',color='red')\n",
    "plt.title('The Elbow Method')\n",
    "plt.xlabel('Number of clusters')\n",
    "plt.ylabel('WCSS')\n",
    "plt.show()"
   ]
  },
  {
   "cell_type": "markdown",
   "id": "e86e6278",
   "metadata": {},
   "source": [
    "So ellbow=6 "
   ]
  },
  {
   "cell_type": "markdown",
   "id": "d2aaffe8",
   "metadata": {},
   "source": [
    "Try again kmeans with best no. cluster according wo wcss score."
   ]
  },
  {
   "cell_type": "code",
   "execution_count": 37,
   "id": "1044260e",
   "metadata": {},
   "outputs": [],
   "source": [
    "# Fitting K-Means to the dataset\n",
    "kmeans = KMeans(n_clusters = 6, init = 'k-means++', random_state = 42)\n",
    "y_kmeans = kmeans.fit_predict(data1)"
   ]
  },
  {
   "cell_type": "code",
   "execution_count": 38,
   "id": "a2e19ebc",
   "metadata": {
    "scrolled": true
   },
   "outputs": [
    {
     "data": {
      "text/plain": [
       "array([0, 2, 2, 2, 3, 1, 4, 1, 2, 4, 2, 1, 5, 2, 2, 2, 1, 2, 0, 2, 2, 2,\n",
       "       0, 1, 2, 0, 2, 4, 2, 2, 1, 0, 1, 0, 1, 2, 2, 1, 2, 2, 2, 1, 5, 1,\n",
       "       2, 1, 1, 2, 1, 3, 2, 5, 2, 1, 2, 2, 2, 2, 1, 2, 1, 1, 2, 2, 2, 2,\n",
       "       2, 2, 2, 0, 1, 2, 5, 2, 2, 2, 0, 5, 2, 0, 0, 5, 1, 4, 2, 1, 2, 0,\n",
       "       5, 2, 0, 1, 0, 2, 2, 2, 5, 2, 0, 1, 2, 2, 1, 2, 2, 2, 2, 1, 1, 2,\n",
       "       0, 2, 5, 2, 2, 1, 1, 2, 1, 4, 3, 5, 2, 1, 4, 2, 2, 5, 0, 1, 5, 5,\n",
       "       5, 2, 2, 0, 1, 1, 1, 2, 5, 2, 2, 1, 1, 2, 2, 0, 3, 2, 0, 2, 2, 1,\n",
       "       2, 2, 5, 2, 2, 2, 2, 0, 4, 0, 5, 1, 1, 1, 4, 5, 2, 5, 2, 2, 2, 2,\n",
       "       2, 0, 2, 1, 1, 2, 2, 2, 1, 1, 2, 2, 0, 1, 2, 2, 1, 1, 2, 2, 2, 5,\n",
       "       5, 2, 1, 1, 0, 1, 1, 0, 0, 2, 1, 4, 2, 1, 2, 2, 5, 2, 1, 2, 2, 2,\n",
       "       0, 2, 2, 3, 2, 2, 2, 2, 5, 5, 2, 2, 1, 2, 2, 0, 3, 5, 1, 2, 2, 1,\n",
       "       1, 2, 2, 2, 2, 2, 1, 1, 2, 4, 2, 2, 0, 2, 1, 0, 2, 1, 2, 2, 2, 2,\n",
       "       2, 0, 1, 2, 0, 1, 1, 2, 1, 5, 2, 1, 2, 1, 2, 1, 2, 2, 0, 2, 4, 2,\n",
       "       2, 2, 5, 1, 1, 2, 2, 2, 0, 1, 2, 5, 1, 1, 2, 5, 1, 2, 2, 2, 2, 2,\n",
       "       2, 4, 2, 1, 4, 2, 1, 4, 1, 0, 2, 2, 2, 0, 4, 2, 2, 3, 4, 1, 1, 2,\n",
       "       2, 2, 3, 2, 2, 1, 2, 3, 0, 5, 3, 1, 1, 2, 2, 4, 4, 1, 1, 1, 1, 4,\n",
       "       2, 2, 2, 2, 0, 0, 1, 2, 1, 2, 2, 2, 5, 2, 2, 2, 4, 1, 0, 0, 1, 2,\n",
       "       1, 5, 2, 3, 2, 1, 1, 2, 1, 2, 0, 2, 1, 2, 2, 1, 1, 1, 5, 2, 2, 4,\n",
       "       2, 2, 5, 0, 2, 3, 2, 1, 0, 2, 2, 2, 2, 1, 2, 1, 0, 2, 5, 1, 2, 1,\n",
       "       1, 3, 1, 0, 2, 1, 3, 1, 0, 0, 2, 2, 2, 3, 2, 2, 1, 2, 1, 2, 0, 2,\n",
       "       2, 1, 1, 1, 2, 2, 4, 1, 0, 5, 2, 4, 2, 2, 2, 2, 1, 2, 2, 2, 2, 2,\n",
       "       2, 2, 4, 1, 3, 4, 2, 1, 5, 2, 3, 2, 5, 2, 3, 2, 3, 2, 0, 1, 2, 1,\n",
       "       1, 2, 2, 2, 2, 1, 2, 2, 1, 2, 1, 0, 2, 2, 2, 0, 1, 2, 2, 2, 2, 1,\n",
       "       2, 2, 2, 1, 2, 2, 3, 2, 2, 5, 3, 2, 3, 1, 1, 1, 2, 4, 4, 1, 4, 2,\n",
       "       1, 5, 5, 1, 1, 2, 1, 1, 2, 0, 1, 2, 2, 1, 1, 0, 2, 5, 2, 5, 2, 0,\n",
       "       5, 5, 2, 3, 2, 1, 3, 2, 2, 2, 0, 2, 5, 0, 1, 1, 0, 2, 1, 2, 2, 0,\n",
       "       2, 2, 5, 2, 0, 1, 2, 2, 5, 2, 2, 0, 0, 1, 2, 2, 0, 0, 1, 2, 2, 2,\n",
       "       1, 3, 2, 1, 2, 2, 4, 4, 1, 2, 5, 5, 5, 2, 2, 0, 0, 1, 2, 5, 2, 0,\n",
       "       2, 2, 2, 1, 1, 1, 2, 2, 0, 2, 2, 1, 1, 2, 2, 2, 5, 2, 1, 2, 2, 2,\n",
       "       2, 3, 2, 1, 1, 1, 2, 2, 2, 2, 2, 1, 2, 1, 2, 1, 2, 2, 5, 2, 2, 2,\n",
       "       2, 2, 2, 0, 2, 2, 2, 0, 1, 1, 2, 5, 1, 1, 1, 3, 1, 1, 2, 2, 1, 1,\n",
       "       5, 2, 2, 1, 1, 1, 2, 2, 0, 2, 0, 0, 2, 5, 1, 3, 2, 1, 2, 3, 1, 0,\n",
       "       0, 1, 1, 4, 4, 1, 2, 5, 1, 2, 1, 2, 0, 2, 1, 2, 0, 2, 0, 1, 1, 1,\n",
       "       4, 2, 2, 1, 2, 0, 5, 2, 2, 2, 2, 2, 1, 2, 2, 0, 2, 2, 2, 0, 1, 0,\n",
       "       2, 0, 0, 1, 2, 2, 1, 5, 2, 5, 0, 2, 4, 3, 2, 3, 2, 1, 2, 2, 2, 0,\n",
       "       2, 2, 2, 5, 1, 1, 2, 2, 2, 1, 3, 2, 2, 1, 2, 1, 2, 2, 2, 2, 0, 2,\n",
       "       2, 3, 1, 1, 2, 5, 2, 2, 0, 1, 2, 2, 0, 0, 3, 1, 2, 2, 2, 1, 1, 2,\n",
       "       2, 1, 1, 2, 1, 2, 4, 2, 1, 0, 2, 2, 2, 1, 1, 1, 1, 1, 2, 2, 2, 0,\n",
       "       2, 2, 5, 3, 2, 5, 2, 2, 2, 2, 1, 1, 2, 2, 2, 0, 5, 0, 1, 2, 0, 1,\n",
       "       2, 1, 1, 2, 0, 5, 5, 3, 2, 2, 1, 2, 2, 0, 1, 0, 5, 0, 1, 1, 2, 0,\n",
       "       2, 0, 2, 1, 1, 2, 5, 4, 0])"
      ]
     },
     "execution_count": 38,
     "metadata": {},
     "output_type": "execute_result"
    }
   ],
   "source": [
    "y_kmeans"
   ]
  },
  {
   "cell_type": "markdown",
   "id": "74d62f6e",
   "metadata": {},
   "source": [
    "2. Print cluster centers."
   ]
  },
  {
   "cell_type": "code",
   "execution_count": 39,
   "id": "c087dcca",
   "metadata": {
    "scrolled": true
   },
   "outputs": [
    {
     "data": {
      "text/plain": [
       "array([[ 9.54802260e-01,  1.52655666e-16,  1.00000000e+00,\n",
       "         9.71445147e-17,  1.00000000e+00,  6.93889390e-17,\n",
       "        -4.16333634e-17, -4.16333634e-17,  9.83050847e-01,\n",
       "         1.97740113e-02,  1.69491525e-02,  3.38983051e-02],\n",
       "       [ 2.00000000e+00,  3.24074074e-02,  9.58333333e-01,\n",
       "         4.16666667e-02,  1.00000000e+00,  6.24500451e-17,\n",
       "        -2.77555756e-17,  4.62962963e-03,  9.90740741e-01,\n",
       "         0.00000000e+00,  4.62962963e-03,  3.70370370e-02],\n",
       "       [ 1.00000000e+00,  1.11111111e-01,  1.94444444e-01,\n",
       "         2.77777778e-02,  0.00000000e+00,  8.33333333e-02,\n",
       "         1.00000000e+00,  1.00000000e+00,  5.55555556e-02,\n",
       "         0.00000000e+00,  0.00000000e+00,  0.00000000e+00],\n",
       "       [ 1.03125000e+00,  1.00000000e+00,  1.00000000e+00,\n",
       "         1.56250000e-01,  1.00000000e+00,  0.00000000e+00,\n",
       "        -1.38777878e-17,  0.00000000e+00,  1.00000000e+00,\n",
       "         3.12500000e-02,  7.81250000e-02,  1.56250000e-02],\n",
       "       [ 1.16666667e+00,  7.14285714e-02,  1.00000000e+00,\n",
       "         1.38777878e-17,  1.00000000e+00,  1.00000000e+00,\n",
       "        -6.93889390e-18,  0.00000000e+00,  9.04761905e-01,\n",
       "         1.42857143e-01,  2.38095238e-02,  2.38095238e-02],\n",
       "       [ 1.38888889e+00,  4.16333634e-17,  1.00000000e+00,\n",
       "         8.33333333e-02,  0.00000000e+00,  2.77777778e-02,\n",
       "         2.77777778e-02,  1.00000000e+00,  1.00000000e+00,\n",
       "        -3.46944695e-18,  2.77777778e-02,  5.55555556e-02],\n",
       "       [ 1.10526316e+00,  2.63157895e-01,  2.22044605e-16,\n",
       "         1.00000000e+00,  1.00000000e+00, -6.93889390e-18,\n",
       "         0.00000000e+00,  0.00000000e+00,  1.00000000e+00,\n",
       "         0.00000000e+00,  0.00000000e+00,  0.00000000e+00],\n",
       "       [ 9.71428571e-01,  1.38777878e-17,  1.00000000e+00,\n",
       "         1.00000000e+00,  1.00000000e+00,  2.85714286e-02,\n",
       "         6.93889390e-18,  0.00000000e+00,  1.00000000e+00,\n",
       "         2.85714286e-02,  3.46944695e-18,  5.71428571e-02],\n",
       "       [ 1.01587302e+00,  2.77555756e-17,  3.33066907e-16,\n",
       "         0.00000000e+00,  1.00000000e+00,  3.17460317e-02,\n",
       "         1.58730159e-02,  0.00000000e+00,  7.46031746e-01,\n",
       "        -6.93889390e-18,  7.93650794e-02,  3.17460317e-02],\n",
       "       [ 1.20833333e+00,  1.00000000e+00,  2.22044605e-16,\n",
       "         1.38777878e-17,  1.00000000e+00,  6.93889390e-18,\n",
       "         0.00000000e+00,  1.38777878e-17,  8.33333333e-01,\n",
       "         0.00000000e+00,  0.00000000e+00,  4.16666667e-02]])"
      ]
     },
     "execution_count": 39,
     "metadata": {},
     "output_type": "execute_result"
    }
   ],
   "source": [
    "km.cluster_centers_"
   ]
  },
  {
   "cell_type": "markdown",
   "id": "11ba078e",
   "metadata": {},
   "source": [
    "3. Create column cluster for predicted labels value."
   ]
  },
  {
   "cell_type": "code",
   "execution_count": 40,
   "id": "d7edfa83",
   "metadata": {},
   "outputs": [
    {
     "data": {
      "text/html": [
       "<div>\n",
       "<style scoped>\n",
       "    .dataframe tbody tr th:only-of-type {\n",
       "        vertical-align: middle;\n",
       "    }\n",
       "\n",
       "    .dataframe tbody tr th {\n",
       "        vertical-align: top;\n",
       "    }\n",
       "\n",
       "    .dataframe thead th {\n",
       "        text-align: right;\n",
       "    }\n",
       "</style>\n",
       "<table border=\"1\" class=\"dataframe\">\n",
       "  <thead>\n",
       "    <tr style=\"text-align: right;\">\n",
       "      <th></th>\n",
       "      <th>Gender</th>\n",
       "      <th>Chain_smoker</th>\n",
       "      <th>Consumes_other_tobacco_products</th>\n",
       "      <th>HighBP</th>\n",
       "      <th>Obese</th>\n",
       "      <th>Diabetes</th>\n",
       "      <th>Metabolic_syndrome</th>\n",
       "      <th>Use_of_stimulant_drugs</th>\n",
       "      <th>Family_history</th>\n",
       "      <th>History_of_preeclampsia</th>\n",
       "      <th>CABG_history</th>\n",
       "      <th>Respiratory_illness</th>\n",
       "      <th>cluster</th>\n",
       "    </tr>\n",
       "  </thead>\n",
       "  <tbody>\n",
       "    <tr>\n",
       "      <th>0</th>\n",
       "      <td>1</td>\n",
       "      <td>1</td>\n",
       "      <td>1</td>\n",
       "      <td>0</td>\n",
       "      <td>1</td>\n",
       "      <td>0</td>\n",
       "      <td>0</td>\n",
       "      <td>0</td>\n",
       "      <td>1</td>\n",
       "      <td>0</td>\n",
       "      <td>0</td>\n",
       "      <td>0</td>\n",
       "      <td>0</td>\n",
       "    </tr>\n",
       "    <tr>\n",
       "      <th>1</th>\n",
       "      <td>1</td>\n",
       "      <td>0</td>\n",
       "      <td>1</td>\n",
       "      <td>0</td>\n",
       "      <td>1</td>\n",
       "      <td>0</td>\n",
       "      <td>0</td>\n",
       "      <td>0</td>\n",
       "      <td>1</td>\n",
       "      <td>0</td>\n",
       "      <td>0</td>\n",
       "      <td>0</td>\n",
       "      <td>2</td>\n",
       "    </tr>\n",
       "    <tr>\n",
       "      <th>2</th>\n",
       "      <td>1</td>\n",
       "      <td>0</td>\n",
       "      <td>1</td>\n",
       "      <td>0</td>\n",
       "      <td>1</td>\n",
       "      <td>0</td>\n",
       "      <td>0</td>\n",
       "      <td>0</td>\n",
       "      <td>1</td>\n",
       "      <td>0</td>\n",
       "      <td>0</td>\n",
       "      <td>0</td>\n",
       "      <td>2</td>\n",
       "    </tr>\n",
       "    <tr>\n",
       "      <th>3</th>\n",
       "      <td>1</td>\n",
       "      <td>0</td>\n",
       "      <td>1</td>\n",
       "      <td>0</td>\n",
       "      <td>1</td>\n",
       "      <td>0</td>\n",
       "      <td>0</td>\n",
       "      <td>0</td>\n",
       "      <td>1</td>\n",
       "      <td>0</td>\n",
       "      <td>0</td>\n",
       "      <td>0</td>\n",
       "      <td>2</td>\n",
       "    </tr>\n",
       "    <tr>\n",
       "      <th>4</th>\n",
       "      <td>1</td>\n",
       "      <td>0</td>\n",
       "      <td>0</td>\n",
       "      <td>0</td>\n",
       "      <td>0</td>\n",
       "      <td>0</td>\n",
       "      <td>1</td>\n",
       "      <td>1</td>\n",
       "      <td>0</td>\n",
       "      <td>0</td>\n",
       "      <td>0</td>\n",
       "      <td>0</td>\n",
       "      <td>3</td>\n",
       "    </tr>\n",
       "  </tbody>\n",
       "</table>\n",
       "</div>"
      ],
      "text/plain": [
       "   Gender  Chain_smoker  Consumes_other_tobacco_products  HighBP  Obese  \\\n",
       "0       1             1                                1       0      1   \n",
       "1       1             0                                1       0      1   \n",
       "2       1             0                                1       0      1   \n",
       "3       1             0                                1       0      1   \n",
       "4       1             0                                0       0      0   \n",
       "\n",
       "   Diabetes  Metabolic_syndrome  Use_of_stimulant_drugs  Family_history  \\\n",
       "0         0                   0                       0               1   \n",
       "1         0                   0                       0               1   \n",
       "2         0                   0                       0               1   \n",
       "3         0                   0                       0               1   \n",
       "4         0                   1                       1               0   \n",
       "\n",
       "   History_of_preeclampsia  CABG_history  Respiratory_illness  cluster  \n",
       "0                        0             0                    0        0  \n",
       "1                        0             0                    0        2  \n",
       "2                        0             0                    0        2  \n",
       "3                        0             0                    0        2  \n",
       "4                        0             0                    0        3  "
      ]
     },
     "execution_count": 40,
     "metadata": {},
     "output_type": "execute_result"
    }
   ],
   "source": [
    "data1['cluster']=  y_kmeans\n",
    "data1.head()"
   ]
  },
  {
   "cell_type": "markdown",
   "id": "8927f624",
   "metadata": {},
   "source": [
    "4. Plot the hierarchical clustering using scipy."
   ]
  },
  {
   "cell_type": "code",
   "execution_count": 41,
   "id": "3b1d675a",
   "metadata": {},
   "outputs": [],
   "source": [
    "df_h = data.drop('UnderRisk',axis=1)"
   ]
  },
  {
   "cell_type": "code",
   "execution_count": 42,
   "id": "9e380656",
   "metadata": {},
   "outputs": [
    {
     "data": {
      "image/png": "[encoded data removed]",
      "text/plain": [
       "<Figure size 432x288 with 1 Axes>"
      ]
     },
     "metadata": {
      "needs_background": "light"
     },
     "output_type": "display_data"
    }
   ],
   "source": [
    "#The following linkage methods are used to compute the distance between two clusters \n",
    "# method='ward' uses the Ward variance minimization algorithm\n",
    "from scipy.cluster.hierarchy import linkage,dendrogram\n",
    "merg = linkage(data1, method = \"ward\")\n",
    "#Plot the hierarchical clustering as a dendrogram.\n",
    "#leaf_rotation : double, optional Specifies the angle (in degrees) to rotate the leaf labels.\n",
    "\n",
    "dendrogram(merg, leaf_rotation = 90)\n",
    "plt.xlabel(\"data points\")\n",
    "plt.ylabel(\"euclidean distance\")\n",
    "plt.show()"
   ]
  },
  {
   "cell_type": "markdown",
   "id": "d090252c",
   "metadata": {},
   "source": [
    "5. Apply Agglomerative Clustering using number of clusters."
   ]
  },
  {
   "cell_type": "code",
   "execution_count": 43,
   "id": "c8a963a6",
   "metadata": {},
   "outputs": [],
   "source": [
    "from sklearn.cluster import AgglomerativeClustering"
   ]
  },
  {
   "cell_type": "code",
   "execution_count": 44,
   "id": "bb26334e",
   "metadata": {},
   "outputs": [],
   "source": [
    "hc = AgglomerativeClustering(n_clusters = 6, affinity = \"euclidean\", linkage = \"ward\")\n",
    "cluster = hc.fit_predict(df_h)"
   ]
  },
  {
   "cell_type": "markdown",
   "id": "43908864",
   "metadata": {},
   "source": [
    "6. Create label column for predicted cluster label."
   ]
  },
  {
   "cell_type": "code",
   "execution_count": 45,
   "id": "a4cfb955",
   "metadata": {},
   "outputs": [],
   "source": [
    "df_h[\"label\"] = cluster"
   ]
  },
  {
   "cell_type": "code",
   "execution_count": 46,
   "id": "9799c9ee",
   "metadata": {},
   "outputs": [
    {
     "data": {
      "text/html": [
       "<div>\n",
       "<style scoped>\n",
       "    .dataframe tbody tr th:only-of-type {\n",
       "        vertical-align: middle;\n",
       "    }\n",
       "\n",
       "    .dataframe tbody tr th {\n",
       "        vertical-align: top;\n",
       "    }\n",
       "\n",
       "    .dataframe thead th {\n",
       "        text-align: right;\n",
       "    }\n",
       "</style>\n",
       "<table border=\"1\" class=\"dataframe\">\n",
       "  <thead>\n",
       "    <tr style=\"text-align: right;\">\n",
       "      <th></th>\n",
       "      <th>Gender</th>\n",
       "      <th>Chain_smoker</th>\n",
       "      <th>Consumes_other_tobacco_products</th>\n",
       "      <th>HighBP</th>\n",
       "      <th>Obese</th>\n",
       "      <th>Diabetes</th>\n",
       "      <th>Metabolic_syndrome</th>\n",
       "      <th>Use_of_stimulant_drugs</th>\n",
       "      <th>Family_history</th>\n",
       "      <th>History_of_preeclampsia</th>\n",
       "      <th>CABG_history</th>\n",
       "      <th>Respiratory_illness</th>\n",
       "      <th>label</th>\n",
       "    </tr>\n",
       "  </thead>\n",
       "  <tbody>\n",
       "    <tr>\n",
       "      <th>0</th>\n",
       "      <td>1</td>\n",
       "      <td>1</td>\n",
       "      <td>1</td>\n",
       "      <td>0</td>\n",
       "      <td>1</td>\n",
       "      <td>0</td>\n",
       "      <td>0</td>\n",
       "      <td>0</td>\n",
       "      <td>1</td>\n",
       "      <td>0</td>\n",
       "      <td>0</td>\n",
       "      <td>0</td>\n",
       "      <td>2</td>\n",
       "    </tr>\n",
       "    <tr>\n",
       "      <th>1</th>\n",
       "      <td>1</td>\n",
       "      <td>0</td>\n",
       "      <td>1</td>\n",
       "      <td>0</td>\n",
       "      <td>1</td>\n",
       "      <td>0</td>\n",
       "      <td>0</td>\n",
       "      <td>0</td>\n",
       "      <td>1</td>\n",
       "      <td>0</td>\n",
       "      <td>0</td>\n",
       "      <td>0</td>\n",
       "      <td>1</td>\n",
       "    </tr>\n",
       "    <tr>\n",
       "      <th>2</th>\n",
       "      <td>1</td>\n",
       "      <td>0</td>\n",
       "      <td>1</td>\n",
       "      <td>0</td>\n",
       "      <td>1</td>\n",
       "      <td>0</td>\n",
       "      <td>0</td>\n",
       "      <td>0</td>\n",
       "      <td>1</td>\n",
       "      <td>0</td>\n",
       "      <td>0</td>\n",
       "      <td>0</td>\n",
       "      <td>1</td>\n",
       "    </tr>\n",
       "    <tr>\n",
       "      <th>3</th>\n",
       "      <td>1</td>\n",
       "      <td>0</td>\n",
       "      <td>1</td>\n",
       "      <td>0</td>\n",
       "      <td>1</td>\n",
       "      <td>0</td>\n",
       "      <td>0</td>\n",
       "      <td>0</td>\n",
       "      <td>1</td>\n",
       "      <td>0</td>\n",
       "      <td>0</td>\n",
       "      <td>0</td>\n",
       "      <td>1</td>\n",
       "    </tr>\n",
       "    <tr>\n",
       "      <th>4</th>\n",
       "      <td>1</td>\n",
       "      <td>0</td>\n",
       "      <td>0</td>\n",
       "      <td>0</td>\n",
       "      <td>0</td>\n",
       "      <td>0</td>\n",
       "      <td>1</td>\n",
       "      <td>1</td>\n",
       "      <td>0</td>\n",
       "      <td>0</td>\n",
       "      <td>0</td>\n",
       "      <td>0</td>\n",
       "      <td>0</td>\n",
       "    </tr>\n",
       "  </tbody>\n",
       "</table>\n",
       "</div>"
      ],
      "text/plain": [
       "   Gender  Chain_smoker  Consumes_other_tobacco_products  HighBP  Obese  \\\n",
       "0       1             1                                1       0      1   \n",
       "1       1             0                                1       0      1   \n",
       "2       1             0                                1       0      1   \n",
       "3       1             0                                1       0      1   \n",
       "4       1             0                                0       0      0   \n",
       "\n",
       "   Diabetes  Metabolic_syndrome  Use_of_stimulant_drugs  Family_history  \\\n",
       "0         0                   0                       0               1   \n",
       "1         0                   0                       0               1   \n",
       "2         0                   0                       0               1   \n",
       "3         0                   0                       0               1   \n",
       "4         0                   1                       1               0   \n",
       "\n",
       "   History_of_preeclampsia  CABG_history  Respiratory_illness  label  \n",
       "0                        0             0                    0      2  \n",
       "1                        0             0                    0      1  \n",
       "2                        0             0                    0      1  \n",
       "3                        0             0                    0      1  \n",
       "4                        0             0                    0      0  "
      ]
     },
     "execution_count": 46,
     "metadata": {},
     "output_type": "execute_result"
    }
   ],
   "source": [
    "df_h.head()"
   ]
  },
  {
   "cell_type": "markdown",
   "id": "c348d856",
   "metadata": {},
   "source": [
    "7. Show label counts."
   ]
  },
  {
   "cell_type": "code",
   "execution_count": 48,
   "id": "6c00b629",
   "metadata": {},
   "outputs": [
    {
     "data": {
      "text/plain": [
       "1    412\n",
       "5    191\n",
       "4     91\n",
       "0     72\n",
       "3     63\n",
       "2     60\n",
       "Name: label, dtype: int64"
      ]
     },
     "execution_count": 48,
     "metadata": {},
     "output_type": "execute_result"
    }
   ],
   "source": [
    "df_h['label'].value_counts()"
   ]
  },
  {
   "cell_type": "markdown",
   "id": "ff0d5467",
   "metadata": {},
   "source": [
    "8. Show a silhouette score."
   ]
  },
  {
   "cell_type": "code",
   "execution_count": 49,
   "id": "09b6fcf7",
   "metadata": {},
   "outputs": [],
   "source": [
    "from sklearn.metrics import silhouette_score"
   ]
  },
  {
   "cell_type": "code",
   "execution_count": 50,
   "id": "a3eb569f",
   "metadata": {},
   "outputs": [
    {
     "data": {
      "text/plain": [
       "0.6832654795236572"
      ]
     },
     "execution_count": 50,
     "metadata": {},
     "output_type": "execute_result"
    }
   ],
   "source": [
    "score_agg = silhouette_score(df_h, cluster)\n",
    "score_agg"
   ]
  }
 ],
 "metadata": {
  "kernelspec": {
   "display_name": "Python 3",
   "language": "python",
   "name": "python3"
  },
  "language_info": {
   "codemirror_mode": {
    "name": "ipython",
    "version": 3
   },
   "file_extension": ".py",
   "mimetype": "text/x-python",
   "name": "python",
   "nbconvert_exporter": "python",
   "pygments_lexer": "ipython3",
   "version": "3.8.8"
  }
 },
 "nbformat": 4,
 "nbformat_minor": 5
}

{
 "cells": [
  {
   "cell_type": "markdown",
   "id": "a917f735",
   "metadata": {},
   "source": [
    "# Part-1: Data Exploration and Pre-processing"
   ]
  },
  {
   "cell_type": "markdown",
   "id": "37b536e3",
   "metadata": {},
   "source": [
    "Importing the files"
   ]
  },
  {
   "cell_type": "code",
   "execution_count": 13,
   "id": "d2c4edd9",
   "metadata": {},
   "outputs": [],
   "source": [
    "from sklearn.cluster import KMeans\n",
    "import pandas as pd\n",
    "from matplotlib import pyplot as plt\n",
    "%matplotlib inline\n",
    "import seaborn as sns"
   ]
  },
  {
   "cell_type": "markdown",
   "id": "d5aeb338",
   "metadata": {},
   "source": [
    "1. Load dataset."
   ]
  },
  {
   "cell_type": "code",
   "execution_count": 2,
   "id": "122df150",
   "metadata": {},
   "outputs": [
    {
     "name": "stdout",
     "output_type": "stream",
     "text": [
      "E:\\Data Sci\\Machince_Langauage\\Ass\n"
     ]
    }
   ],
   "source": [
    "cd E:\\Data Sci\\Machince_Langauage\\Ass"
   ]
  },
  {
   "cell_type": "code",
   "execution_count": 3,
   "id": "b744dd7d",
   "metadata": {},
   "outputs": [],
   "source": [
    "data = pd.read_csv(\"Ass-10.csv\")"
   ]
  },
  {
   "cell_type": "markdown",
   "id": "775dc078",
   "metadata": {},
   "source": [
    "2. Find shape of dataset."
   ]
  },
  {
   "cell_type": "code",
   "execution_count": 4,
   "id": "970d679d",
   "metadata": {},
   "outputs": [
    {
     "data": {
      "text/plain": [
       "(569, 32)"
      ]
     },
     "execution_count": 4,
     "metadata": {},
     "output_type": "execute_result"
    }
   ],
   "source": [
    "data.shape"
   ]
  },
  {
   "cell_type": "markdown",
   "id": "aa0f6f11",
   "metadata": {},
   "source": [
    "3. Show basic information of data."
   ]
  },
  {
   "cell_type": "code",
   "execution_count": 5,
   "id": "a2f0d9a4",
   "metadata": {},
   "outputs": [
    {
     "name": "stdout",
     "output_type": "stream",
     "text": [
      "<class 'pandas.core.frame.DataFrame'>\n",
      "RangeIndex: 569 entries, 0 to 568\n",
      "Data columns (total 32 columns):\n",
      " #   Column                   Non-Null Count  Dtype  \n",
      "---  ------                   --------------  -----  \n",
      " 0   id                       569 non-null    int64  \n",
      " 1   diagnosis                569 non-null    object \n",
      " 2   radius_mean              569 non-null    float64\n",
      " 3   texture_mean             569 non-null    float64\n",
      " 4   perimeter_mean           569 non-null    float64\n",
      " 5   area_mean                569 non-null    float64\n",
      " 6   smoothness_mean          569 non-null    float64\n",
      " 7   compactness_mean         569 non-null    float64\n",
      " 8   concavity_mean           569 non-null    float64\n",
      " 9   concave points_mean      569 non-null    float64\n",
      " 10  symmetry_mean            569 non-null    float64\n",
      " 11  fractal_dimension_mean   569 non-null    float64\n",
      " 12  radius_se                569 non-null    float64\n",
      " 13  texture_se               569 non-null    float64\n",
      " 14  perimeter_se             569 non-null    float64\n",
      " 15  area_se                  569 non-null    float64\n",
      " 16  smoothness_se            569 non-null    float64\n",
      " 17  compactness_se           569 non-null    float64\n",
      " 18  concavity_se             569 non-null    float64\n",
      " 19  concave points_se        569 non-null    float64\n",
      " 20  symmetry_se              569 non-null    float64\n",
      " 21  fractal_dimension_se     569 non-null    float64\n",
      " 22  radius_worst             569 non-null    float64\n",
      " 23  texture_worst            569 non-null    float64\n",
      " 24  perimeter_worst          569 non-null    float64\n",
      " 25  area_worst               569 non-null    float64\n",
      " 26  smoothness_worst         569 non-null    float64\n",
      " 27  compactness_worst        569 non-null    float64\n",
      " 28  concavity_worst          569 non-null    float64\n",
      " 29  concave points_worst     569 non-null    float64\n",
      " 30  symmetry_worst           569 non-null    float64\n",
      " 31  fractal_dimension_worst  569 non-null    float64\n",
      "dtypes: float64(30), int64(1), object(1)\n",
      "memory usage: 142.4+ KB\n"
     ]
    }
   ],
   "source": [
    "data.info()"
   ]
  },
  {
   "cell_type": "markdown",
   "id": "9b9cbb14",
   "metadata": {},
   "source": [
    "4. Check null values."
   ]
  },
  {
   "cell_type": "code",
   "execution_count": 6,
   "id": "aa6ace54",
   "metadata": {},
   "outputs": [
    {
     "data": {
      "text/plain": [
       "id                         0\n",
       "diagnosis                  0\n",
       "radius_mean                0\n",
       "texture_mean               0\n",
       "perimeter_mean             0\n",
       "area_mean                  0\n",
       "smoothness_mean            0\n",
       "compactness_mean           0\n",
       "concavity_mean             0\n",
       "concave points_mean        0\n",
       "symmetry_mean              0\n",
       "fractal_dimension_mean     0\n",
       "radius_se                  0\n",
       "texture_se                 0\n",
       "perimeter_se               0\n",
       "area_se                    0\n",
       "smoothness_se              0\n",
       "compactness_se             0\n",
       "concavity_se               0\n",
       "concave points_se          0\n",
       "symmetry_se                0\n",
       "fractal_dimension_se       0\n",
       "radius_worst               0\n",
       "texture_worst              0\n",
       "perimeter_worst            0\n",
       "area_worst                 0\n",
       "smoothness_worst           0\n",
       "compactness_worst          0\n",
       "concavity_worst            0\n",
       "concave points_worst       0\n",
       "symmetry_worst             0\n",
       "fractal_dimension_worst    0\n",
       "dtype: int64"
      ]
     },
     "execution_count": 6,
     "metadata": {},
     "output_type": "execute_result"
    }
   ],
   "source": [
    "data.isnull().sum()"
   ]
  },
  {
   "cell_type": "markdown",
   "id": "579ac51d",
   "metadata": {},
   "source": [
    "5. Drop unnamed and id columns."
   ]
  },
  {
   "cell_type": "code",
   "execution_count": 7,
   "id": "248bf614",
   "metadata": {},
   "outputs": [],
   "source": [
    "data = data.drop(['id'],axis = 1)"
   ]
  },
  {
   "cell_type": "markdown",
   "id": "abf5a5fa",
   "metadata": {},
   "source": [
    "6. Show values counts in diagnosis column."
   ]
  },
  {
   "cell_type": "code",
   "execution_count": 9,
   "id": "73552c3a",
   "metadata": {},
   "outputs": [
    {
     "data": {
      "text/plain": [
       "B    357\n",
       "M    212\n",
       "Name: diagnosis, dtype: int64"
      ]
     },
     "execution_count": 9,
     "metadata": {},
     "output_type": "execute_result"
    }
   ],
   "source": [
    "data['diagnosis'].value_counts()"
   ]
  },
  {
   "cell_type": "markdown",
   "id": "4d08512d",
   "metadata": {},
   "source": [
    "7. Remove Label column diagnosis."
   ]
  },
  {
   "cell_type": "code",
   "execution_count": 10,
   "id": "98845a25",
   "metadata": {},
   "outputs": [],
   "source": [
    "data1 = data.drop(['diagnosis'] , axis =1)"
   ]
  },
  {
   "cell_type": "code",
   "execution_count": 11,
   "id": "a3705f36",
   "metadata": {},
   "outputs": [
    {
     "name": "stdout",
     "output_type": "stream",
     "text": [
      "<class 'pandas.core.frame.DataFrame'>\n",
      "RangeIndex: 569 entries, 0 to 568\n",
      "Data columns (total 30 columns):\n",
      " #   Column                   Non-Null Count  Dtype  \n",
      "---  ------                   --------------  -----  \n",
      " 0   radius_mean              569 non-null    float64\n",
      " 1   texture_mean             569 non-null    float64\n",
      " 2   perimeter_mean           569 non-null    float64\n",
      " 3   area_mean                569 non-null    float64\n",
      " 4   smoothness_mean          569 non-null    float64\n",
      " 5   compactness_mean         569 non-null    float64\n",
      " 6   concavity_mean           569 non-null    float64\n",
      " 7   concave points_mean      569 non-null    float64\n",
      " 8   symmetry_mean            569 non-null    float64\n",
      " 9   fractal_dimension_mean   569 non-null    float64\n",
      " 10  radius_se                569 non-null    float64\n",
      " 11  texture_se               569 non-null    float64\n",
      " 12  perimeter_se             569 non-null    float64\n",
      " 13  area_se                  569 non-null    float64\n",
      " 14  smoothness_se            569 non-null    float64\n",
      " 15  compactness_se           569 non-null    float64\n",
      " 16  concavity_se             569 non-null    float64\n",
      " 17  concave points_se        569 non-null    float64\n",
      " 18  symmetry_se              569 non-null    float64\n",
      " 19  fractal_dimension_se     569 non-null    float64\n",
      " 20  radius_worst             569 non-null    float64\n",
      " 21  texture_worst            569 non-null    float64\n",
      " 22  perimeter_worst          569 non-null    float64\n",
      " 23  area_worst               569 non-null    float64\n",
      " 24  smoothness_worst         569 non-null    float64\n",
      " 25  compactness_worst        569 non-null    float64\n",
      " 26  concavity_worst          569 non-null    float64\n",
      " 27  concave points_worst     569 non-null    float64\n",
      " 28  symmetry_worst           569 non-null    float64\n",
      " 29  fractal_dimension_worst  569 non-null    float64\n",
      "dtypes: float64(30)\n",
      "memory usage: 133.5 KB\n"
     ]
    }
   ],
   "source": [
    "data1.info()"
   ]
  },
  {
   "cell_type": "markdown",
   "id": "8afd6665",
   "metadata": {},
   "source": [
    "8. Create pair plot between two column radius_mean and radius_mean by diagnosis."
   ]
  },
  {
   "cell_type": "code",
   "execution_count": 14,
   "id": "f05b3ca6",
   "metadata": {},
   "outputs": [
    {
     "data": {
      "image/png": "[encoded data removed]",
      "text/plain": [
       "<Figure size 775.5x720 with 6 Axes>"
      ]
     },
     "metadata": {
      "needs_background": "light"
     },
     "output_type": "display_data"
    }
   ],
   "source": [
    "sns.pairplot(data.loc[:,['radius_mean','texture_mean', 'diagnosis']], hue = \"diagnosis\", height = 5)\n",
    "plt.show()"
   ]
  },
  {
   "cell_type": "markdown",
   "id": "b558c91a",
   "metadata": {},
   "source": [
    "9. Select only two feature radius_mean & texture_mean for clustering in new dataset."
   ]
  },
  {
   "cell_type": "code",
   "execution_count": 17,
   "id": "651587bf",
   "metadata": {},
   "outputs": [
    {
     "data": {
      "text/html": [
       "<div>\n",
       "<style scoped>\n",
       "    .dataframe tbody tr th:only-of-type {\n",
       "        vertical-align: middle;\n",
       "    }\n",
       "\n",
       "    .dataframe tbody tr th {\n",
       "        vertical-align: top;\n",
       "    }\n",
       "\n",
       "    .dataframe thead th {\n",
       "        text-align: right;\n",
       "    }\n",
       "</style>\n",
       "<table border=\"1\" class=\"dataframe\">\n",
       "  <thead>\n",
       "    <tr style=\"text-align: right;\">\n",
       "      <th></th>\n",
       "      <th>radius_mean</th>\n",
       "      <th>texture_mean</th>\n",
       "    </tr>\n",
       "  </thead>\n",
       "  <tbody>\n",
       "    <tr>\n",
       "      <th>0</th>\n",
       "      <td>17.99</td>\n",
       "      <td>10.38</td>\n",
       "    </tr>\n",
       "    <tr>\n",
       "      <th>1</th>\n",
       "      <td>20.57</td>\n",
       "      <td>17.77</td>\n",
       "    </tr>\n",
       "    <tr>\n",
       "      <th>2</th>\n",
       "      <td>19.69</td>\n",
       "      <td>21.25</td>\n",
       "    </tr>\n",
       "    <tr>\n",
       "      <th>3</th>\n",
       "      <td>11.42</td>\n",
       "      <td>20.38</td>\n",
       "    </tr>\n",
       "    <tr>\n",
       "      <th>4</th>\n",
       "      <td>20.29</td>\n",
       "      <td>14.34</td>\n",
       "    </tr>\n",
       "  </tbody>\n",
       "</table>\n",
       "</div>"
      ],
      "text/plain": [
       "   radius_mean  texture_mean\n",
       "0        17.99         10.38\n",
       "1        20.57         17.77\n",
       "2        19.69         21.25\n",
       "3        11.42         20.38\n",
       "4        20.29         14.34"
      ]
     },
     "execution_count": 17,
     "metadata": {},
     "output_type": "execute_result"
    }
   ],
   "source": [
    "new_data = data.loc[:,['radius_mean','texture_mean']]\n",
    "new_data.head()"
   ]
  },
  {
   "cell_type": "markdown",
   "id": "a15e42e8",
   "metadata": {},
   "source": [
    "10.Apply scaling on new dataset."
   ]
  },
  {
   "cell_type": "code",
   "execution_count": 18,
   "id": "b784acde",
   "metadata": {},
   "outputs": [],
   "source": [
    "from sklearn.preprocessing import RobustScaler"
   ]
  },
  {
   "cell_type": "code",
   "execution_count": 23,
   "id": "1de26704",
   "metadata": {},
   "outputs": [],
   "source": [
    "Ro_scaler = RobustScaler()"
   ]
  },
  {
   "cell_type": "code",
   "execution_count": 24,
   "id": "2e645627",
   "metadata": {},
   "outputs": [],
   "source": [
    "new_data= Ro_scaler.fit_transform(new_data)"
   ]
  },
  {
   "cell_type": "code",
   "execution_count": 26,
   "id": "ebb5849a",
   "metadata": {},
   "outputs": [],
   "source": [
    "new_data1 = Ro_scaler.fit_transform(new_data)"
   ]
  },
  {
   "cell_type": "code",
   "execution_count": 27,
   "id": "58c00367",
   "metadata": {},
   "outputs": [],
   "source": [
    "new_data1 =pd.DataFrame(new_data , columns=['radius_mean','texture_mean'])"
   ]
  },
  {
   "cell_type": "code",
   "execution_count": 28,
   "id": "c60a0a19",
   "metadata": {},
   "outputs": [
    {
     "data": {
      "text/html": [
       "<div>\n",
       "<style scoped>\n",
       "    .dataframe tbody tr th:only-of-type {\n",
       "        vertical-align: middle;\n",
       "    }\n",
       "\n",
       "    .dataframe tbody tr th {\n",
       "        vertical-align: top;\n",
       "    }\n",
       "\n",
       "    .dataframe thead th {\n",
       "        text-align: right;\n",
       "    }\n",
       "</style>\n",
       "<table border=\"1\" class=\"dataframe\">\n",
       "  <thead>\n",
       "    <tr style=\"text-align: right;\">\n",
       "      <th></th>\n",
       "      <th>radius_mean</th>\n",
       "      <th>texture_mean</th>\n",
       "    </tr>\n",
       "  </thead>\n",
       "  <tbody>\n",
       "    <tr>\n",
       "      <th>0</th>\n",
       "      <td>1.132353</td>\n",
       "      <td>-1.502664</td>\n",
       "    </tr>\n",
       "    <tr>\n",
       "      <th>1</th>\n",
       "      <td>1.764706</td>\n",
       "      <td>-0.190053</td>\n",
       "    </tr>\n",
       "    <tr>\n",
       "      <th>2</th>\n",
       "      <td>1.549020</td>\n",
       "      <td>0.428064</td>\n",
       "    </tr>\n",
       "    <tr>\n",
       "      <th>3</th>\n",
       "      <td>-0.477941</td>\n",
       "      <td>0.273535</td>\n",
       "    </tr>\n",
       "    <tr>\n",
       "      <th>4</th>\n",
       "      <td>1.696078</td>\n",
       "      <td>-0.799290</td>\n",
       "    </tr>\n",
       "    <tr>\n",
       "      <th>...</th>\n",
       "      <td>...</td>\n",
       "      <td>...</td>\n",
       "    </tr>\n",
       "    <tr>\n",
       "      <th>564</th>\n",
       "      <td>2.007353</td>\n",
       "      <td>0.630551</td>\n",
       "    </tr>\n",
       "    <tr>\n",
       "      <th>565</th>\n",
       "      <td>1.656863</td>\n",
       "      <td>1.671403</td>\n",
       "    </tr>\n",
       "    <tr>\n",
       "      <th>566</th>\n",
       "      <td>0.791667</td>\n",
       "      <td>1.641208</td>\n",
       "    </tr>\n",
       "    <tr>\n",
       "      <th>567</th>\n",
       "      <td>1.772059</td>\n",
       "      <td>1.863233</td>\n",
       "    </tr>\n",
       "    <tr>\n",
       "      <th>568</th>\n",
       "      <td>-1.375000</td>\n",
       "      <td>1.012433</td>\n",
       "    </tr>\n",
       "  </tbody>\n",
       "</table>\n",
       "<p>569 rows × 2 columns</p>\n",
       "</div>"
      ],
      "text/plain": [
       "     radius_mean  texture_mean\n",
       "0       1.132353     -1.502664\n",
       "1       1.764706     -0.190053\n",
       "2       1.549020      0.428064\n",
       "3      -0.477941      0.273535\n",
       "4       1.696078     -0.799290\n",
       "..           ...           ...\n",
       "564     2.007353      0.630551\n",
       "565     1.656863      1.671403\n",
       "566     0.791667      1.641208\n",
       "567     1.772059      1.863233\n",
       "568    -1.375000      1.012433\n",
       "\n",
       "[569 rows x 2 columns]"
      ]
     },
     "execution_count": 28,
     "metadata": {},
     "output_type": "execute_result"
    }
   ],
   "source": [
    "new_data1"
   ]
  },
  {
   "cell_type": "markdown",
   "id": "60fa722a",
   "metadata": {},
   "source": [
    "# Part-2: Working with Models"
   ]
  },
  {
   "cell_type": "markdown",
   "id": "4b6b9279",
   "metadata": {},
   "source": [
    "1. Display hierarchical clustering as a dendrogram using scipy."
   ]
  },
  {
   "cell_type": "code",
   "execution_count": 30,
   "id": "9525413e",
   "metadata": {},
   "outputs": [
    {
     "data": {
      "image/png": "[encoded data removed]",
      "text/plain": [
       "<Figure size 432x288 with 1 Axes>"
      ]
     },
     "metadata": {
      "needs_background": "light"
     },
     "output_type": "display_data"
    }
   ],
   "source": [
    "#The following linkage methods are used to compute the distance between two clusters \n",
    "# method='ward' uses the Ward variance minimization algorithm\n",
    "from scipy.cluster.hierarchy import linkage,dendrogram\n",
    "merg = linkage(new_data1, method = \"ward\")\n",
    "#Plot the hierarchical clustering as a dendrogram.\n",
    "#leaf_rotation : double, optional Specifies the angle (in degrees) to rotate the leaf labels.\n",
    "dendrogram(merg, leaf_rotation = 90)\n",
    "plt.xlabel(\"data points\")\n",
    "plt.ylabel(\"euclidean distance\")\n",
    "plt.show()"
   ]
  },
  {
   "cell_type": "markdown",
   "id": "6dfafd27",
   "metadata": {},
   "source": [
    "2. Apply Agglomerative Clustering on dataset with 2 n number of clusters."
   ]
  },
  {
   "cell_type": "code",
   "execution_count": 31,
   "id": "5eedfe96",
   "metadata": {},
   "outputs": [],
   "source": [
    "from sklearn.cluster import AgglomerativeClustering"
   ]
  },
  {
   "cell_type": "markdown",
   "id": "9462ab3c",
   "metadata": {},
   "source": [
    "3. Predict the cluster and create new column for cluster label data."
   ]
  },
  {
   "cell_type": "code",
   "execution_count": 32,
   "id": "445191d1",
   "metadata": {},
   "outputs": [],
   "source": [
    "hc = AgglomerativeClustering(n_clusters = 2, affinity = \"euclidean\", linkage = \"ward\")\n",
    "cluster = hc.fit_predict(new_data1) #cluster = y_predicted"
   ]
  },
  {
   "cell_type": "code",
   "execution_count": 33,
   "id": "3777f7d3",
   "metadata": {},
   "outputs": [],
   "source": [
    "from sklearn.cluster import AgglomerativeClustering"
   ]
  },
  {
   "cell_type": "code",
   "execution_count": 34,
   "id": "ac5d423e",
   "metadata": {},
   "outputs": [],
   "source": [
    "new_data1[\"label\"] = cluster"
   ]
  },
  {
   "cell_type": "code",
   "execution_count": 35,
   "id": "283d2928",
   "metadata": {},
   "outputs": [
    {
     "data": {
      "text/html": [
       "<div>\n",
       "<style scoped>\n",
       "    .dataframe tbody tr th:only-of-type {\n",
       "        vertical-align: middle;\n",
       "    }\n",
       "\n",
       "    .dataframe tbody tr th {\n",
       "        vertical-align: top;\n",
       "    }\n",
       "\n",
       "    .dataframe thead th {\n",
       "        text-align: right;\n",
       "    }\n",
       "</style>\n",
       "<table border=\"1\" class=\"dataframe\">\n",
       "  <thead>\n",
       "    <tr style=\"text-align: right;\">\n",
       "      <th></th>\n",
       "      <th>radius_mean</th>\n",
       "      <th>texture_mean</th>\n",
       "      <th>label</th>\n",
       "    </tr>\n",
       "  </thead>\n",
       "  <tbody>\n",
       "    <tr>\n",
       "      <th>0</th>\n",
       "      <td>1.132353</td>\n",
       "      <td>-1.502664</td>\n",
       "      <td>1</td>\n",
       "    </tr>\n",
       "    <tr>\n",
       "      <th>1</th>\n",
       "      <td>1.764706</td>\n",
       "      <td>-0.190053</td>\n",
       "      <td>0</td>\n",
       "    </tr>\n",
       "    <tr>\n",
       "      <th>2</th>\n",
       "      <td>1.549020</td>\n",
       "      <td>0.428064</td>\n",
       "      <td>0</td>\n",
       "    </tr>\n",
       "    <tr>\n",
       "      <th>3</th>\n",
       "      <td>-0.477941</td>\n",
       "      <td>0.273535</td>\n",
       "      <td>1</td>\n",
       "    </tr>\n",
       "    <tr>\n",
       "      <th>4</th>\n",
       "      <td>1.696078</td>\n",
       "      <td>-0.799290</td>\n",
       "      <td>0</td>\n",
       "    </tr>\n",
       "  </tbody>\n",
       "</table>\n",
       "</div>"
      ],
      "text/plain": [
       "   radius_mean  texture_mean  label\n",
       "0     1.132353     -1.502664      1\n",
       "1     1.764706     -0.190053      0\n",
       "2     1.549020      0.428064      0\n",
       "3    -0.477941      0.273535      1\n",
       "4     1.696078     -0.799290      0"
      ]
     },
     "execution_count": 35,
     "metadata": {},
     "output_type": "execute_result"
    }
   ],
   "source": [
    "new_data1.head()"
   ]
  },
  {
   "cell_type": "markdown",
   "id": "4e6e183d",
   "metadata": {},
   "source": [
    "4. Check count of label."
   ]
  },
  {
   "cell_type": "code",
   "execution_count": 36,
   "id": "9eeee651",
   "metadata": {},
   "outputs": [
    {
     "data": {
      "text/plain": [
       "1    299\n",
       "0    270\n",
       "Name: label, dtype: int64"
      ]
     },
     "execution_count": 36,
     "metadata": {},
     "output_type": "execute_result"
    }
   ],
   "source": [
    "new_data1['label'].value_counts()"
   ]
  },
  {
   "cell_type": "markdown",
   "id": "0b9bacbe",
   "metadata": {},
   "source": [
    "5. Plot the label data."
   ]
  },
  {
   "cell_type": "code",
   "execution_count": 38,
   "id": "6d788ef0",
   "metadata": {},
   "outputs": [
    {
     "data": {
      "image/png": "[encoded data removed]",
      "text/plain": [
       "<Figure size 1080x720 with 1 Axes>"
      ]
     },
     "metadata": {
      "needs_background": "light"
     },
     "output_type": "display_data"
    }
   ],
   "source": [
    "plt.figure(figsize = (15, 10))\n",
    "plt.scatter(new_data1[\"radius_mean\"][new_data1.label == 0], new_data1[\"texture_mean\"][new_data1.label == 0], color = \"red\")\n",
    "plt.scatter(new_data1[\"radius_mean\"][new_data1.label == 1], new_data1[\"texture_mean\"][new_data1.label == 1], color = \"blue\")\n",
    "\n",
    "plt.xlabel(\"radius_mean\")\n",
    "plt.ylabel(\"texture_mean\")\n",
    "plt.show()"
   ]
  },
  {
   "cell_type": "markdown",
   "id": "b4e84c4b",
   "metadata": {},
   "source": [
    "6. Check the silhouette score."
   ]
  },
  {
   "cell_type": "code",
   "execution_count": 39,
   "id": "721e4b87",
   "metadata": {},
   "outputs": [],
   "source": [
    "from sklearn.metrics import silhouette_score"
   ]
  },
  {
   "cell_type": "code",
   "execution_count": 41,
   "id": "5944c407",
   "metadata": {},
   "outputs": [
    {
     "data": {
      "text/plain": [
       "0.4938962664862693"
      ]
     },
     "execution_count": 41,
     "metadata": {},
     "output_type": "execute_result"
    }
   ],
   "source": [
    "score = silhouette_score(new_data1, cluster)\n",
    "score"
   ]
  },
  {
   "cell_type": "markdown",
   "id": "ca4831f1",
   "metadata": {},
   "source": [
    "7. Now apply kmeans clustering no dataset with 2 number of clusters."
   ]
  },
  {
   "cell_type": "code",
   "execution_count": 44,
   "id": "c4fb9eaf",
   "metadata": {},
   "outputs": [
    {
     "data": {
      "text/html": [
       "<div>\n",
       "<style scoped>\n",
       "    .dataframe tbody tr th:only-of-type {\n",
       "        vertical-align: middle;\n",
       "    }\n",
       "\n",
       "    .dataframe tbody tr th {\n",
       "        vertical-align: top;\n",
       "    }\n",
       "\n",
       "    .dataframe thead th {\n",
       "        text-align: right;\n",
       "    }\n",
       "</style>\n",
       "<table border=\"1\" class=\"dataframe\">\n",
       "  <thead>\n",
       "    <tr style=\"text-align: right;\">\n",
       "      <th></th>\n",
       "      <th>radius_mean</th>\n",
       "      <th>texture_mean</th>\n",
       "    </tr>\n",
       "  </thead>\n",
       "  <tbody>\n",
       "    <tr>\n",
       "      <th>0</th>\n",
       "      <td>17.99</td>\n",
       "      <td>10.38</td>\n",
       "    </tr>\n",
       "    <tr>\n",
       "      <th>1</th>\n",
       "      <td>20.57</td>\n",
       "      <td>17.77</td>\n",
       "    </tr>\n",
       "    <tr>\n",
       "      <th>2</th>\n",
       "      <td>19.69</td>\n",
       "      <td>21.25</td>\n",
       "    </tr>\n",
       "    <tr>\n",
       "      <th>3</th>\n",
       "      <td>11.42</td>\n",
       "      <td>20.38</td>\n",
       "    </tr>\n",
       "    <tr>\n",
       "      <th>4</th>\n",
       "      <td>20.29</td>\n",
       "      <td>14.34</td>\n",
       "    </tr>\n",
       "  </tbody>\n",
       "</table>\n",
       "</div>"
      ],
      "text/plain": [
       "   radius_mean  texture_mean\n",
       "0        17.99         10.38\n",
       "1        20.57         17.77\n",
       "2        19.69         21.25\n",
       "3        11.42         20.38\n",
       "4        20.29         14.34"
      ]
     },
     "execution_count": 44,
     "metadata": {},
     "output_type": "execute_result"
    }
   ],
   "source": [
    "new_data_k = data.loc[:,['radius_mean','texture_mean']]\n",
    "new_data_k.head()"
   ]
  },
  {
   "cell_type": "code",
   "execution_count": 45,
   "id": "2061052a",
   "metadata": {},
   "outputs": [
    {
     "data": {
      "text/plain": [
       "KMeans(n_clusters=2)"
      ]
     },
     "execution_count": 45,
     "metadata": {},
     "output_type": "execute_result"
    }
   ],
   "source": [
    "km = KMeans(n_clusters=2,)\n",
    "km.fit(new_data_k)"
   ]
  },
  {
   "cell_type": "markdown",
   "id": "f466790f",
   "metadata": {},
   "source": [
    "8. Check wcss score."
   ]
  },
  {
   "cell_type": "code",
   "execution_count": 46,
   "id": "53c99210",
   "metadata": {},
   "outputs": [
    {
     "data": {
      "text/plain": [
       "9403.76824064772"
      ]
     },
     "execution_count": 46,
     "metadata": {},
     "output_type": "execute_result"
    }
   ],
   "source": [
    "wcss = km.inertia_\n",
    "wcss"
   ]
  },
  {
   "cell_type": "markdown",
   "id": "c1d3980f",
   "metadata": {},
   "source": [
    "9. Try different N number from 1 to 10 and plot the result of wcss score."
   ]
  },
  {
   "cell_type": "code",
   "execution_count": 50,
   "id": "483d3bf9",
   "metadata": {},
   "outputs": [],
   "source": [
    "import warnings\n",
    "warnings.filterwarnings(\"ignore\")"
   ]
  },
  {
   "cell_type": "code",
   "execution_count": 52,
   "id": "1d8103b4",
   "metadata": {
    "scrolled": true
   },
   "outputs": [],
   "source": [
    "#create empty list\n",
    "wcss = []\n",
    "#select k value from 1 to 10\n",
    "for i in range(1, 11):\n",
    "    km = KMeans(n_clusters = i, random_state = 42)\n",
    "    km.fit(new_data_k)\n",
    "    # inertia method returns wcss for that model\n",
    "    wcss.append(km.inertia_)"
   ]
  },
  {
   "cell_type": "markdown",
   "id": "ef059143",
   "metadata": {},
   "source": [
    "For K value we will found Ellbow."
   ]
  },
  {
   "cell_type": "code",
   "execution_count": 53,
   "id": "62a5cd35",
   "metadata": {},
   "outputs": [
    {
     "data": {
      "image/png": "[encoded data removed]",
      "text/plain": [
       "<Figure size 720x360 with 1 Axes>"
      ]
     },
     "metadata": {
      "needs_background": "light"
     },
     "output_type": "display_data"
    }
   ],
   "source": [
    "plt.figure(figsize=(10,5))\n",
    "sns.lineplot(range(1, 11), wcss,marker='o',color='red')\n",
    "plt.title('The Elbow Method')\n",
    "plt.xlabel('Number of clusters')\n",
    "plt.ylabel('WCSS')\n",
    "plt.show()"
   ]
  },
  {
   "cell_type": "markdown",
   "id": "104d69f0",
   "metadata": {},
   "source": [
    "10.Apply kmeans again with different no. of cluster according to best wcss score."
   ]
  },
  {
   "cell_type": "code",
   "execution_count": 54,
   "id": "1e229c98",
   "metadata": {},
   "outputs": [],
   "source": [
    "kmeans = KMeans(n_clusters = 4, init = 'k-means++', random_state = 42)\n",
    "y_kmeans = kmeans.fit_predict(new_data_k)"
   ]
  },
  {
   "cell_type": "markdown",
   "id": "96578429",
   "metadata": {},
   "source": [
    "11.Create column for label cluster."
   ]
  },
  {
   "cell_type": "code",
   "execution_count": 55,
   "id": "d754f807",
   "metadata": {},
   "outputs": [],
   "source": [
    "new_data_k[\"label\"] = y_kmeans"
   ]
  },
  {
   "cell_type": "code",
   "execution_count": 56,
   "id": "080a83e1",
   "metadata": {},
   "outputs": [
    {
     "data": {
      "text/html": [
       "<div>\n",
       "<style scoped>\n",
       "    .dataframe tbody tr th:only-of-type {\n",
       "        vertical-align: middle;\n",
       "    }\n",
       "\n",
       "    .dataframe tbody tr th {\n",
       "        vertical-align: top;\n",
       "    }\n",
       "\n",
       "    .dataframe thead th {\n",
       "        text-align: right;\n",
       "    }\n",
       "</style>\n",
       "<table border=\"1\" class=\"dataframe\">\n",
       "  <thead>\n",
       "    <tr style=\"text-align: right;\">\n",
       "      <th></th>\n",
       "      <th>radius_mean</th>\n",
       "      <th>texture_mean</th>\n",
       "      <th>label</th>\n",
       "    </tr>\n",
       "  </thead>\n",
       "  <tbody>\n",
       "    <tr>\n",
       "      <th>0</th>\n",
       "      <td>17.99</td>\n",
       "      <td>10.38</td>\n",
       "      <td>0</td>\n",
       "    </tr>\n",
       "    <tr>\n",
       "      <th>1</th>\n",
       "      <td>20.57</td>\n",
       "      <td>17.77</td>\n",
       "      <td>1</td>\n",
       "    </tr>\n",
       "    <tr>\n",
       "      <th>2</th>\n",
       "      <td>19.69</td>\n",
       "      <td>21.25</td>\n",
       "      <td>1</td>\n",
       "    </tr>\n",
       "    <tr>\n",
       "      <th>3</th>\n",
       "      <td>11.42</td>\n",
       "      <td>20.38</td>\n",
       "      <td>3</td>\n",
       "    </tr>\n",
       "    <tr>\n",
       "      <th>4</th>\n",
       "      <td>20.29</td>\n",
       "      <td>14.34</td>\n",
       "      <td>1</td>\n",
       "    </tr>\n",
       "  </tbody>\n",
       "</table>\n",
       "</div>"
      ],
      "text/plain": [
       "   radius_mean  texture_mean  label\n",
       "0        17.99         10.38      0\n",
       "1        20.57         17.77      1\n",
       "2        19.69         21.25      1\n",
       "3        11.42         20.38      3\n",
       "4        20.29         14.34      1"
      ]
     },
     "execution_count": 56,
     "metadata": {},
     "output_type": "execute_result"
    }
   ],
   "source": [
    "new_data_k.head()"
   ]
  }
 ],
 "metadata": {
  "kernelspec": {
   "display_name": "Python 3",
   "language": "python",
   "name": "python3"
  },
  "language_info": {
   "codemirror_mode": {
    "name": "ipython",
    "version": 3
   },
   "file_extension": ".py",
   "mimetype": "text/x-python",
   "name": "python",
   "nbconvert_exporter": "python",
   "pygments_lexer": "ipython3",
   "version": "3.8.8"
  }
 },
 "nbformat": 4,
 "nbformat_minor": 5
}

{
 "cells": [
  {
   "cell_type": "code",
   "execution_count": null,
   "id": "945ba268",
   "metadata": {},
   "outputs": [],
   "source": [
    "#importing lib"
   ]
  },
  {
   "cell_type": "code",
   "execution_count": 3,
   "id": "9458663f",
   "metadata": {},
   "outputs": [],
   "source": [
    "import pandas as pd\n",
    "import numpy as np \n",
    "import matplotlib.pyplot as plt\n",
    "%matplotlib inline\n",
    "from sklearn.linear_model import LinearRegression \n",
    "from sklearn.metrics import r2_score,mean_absolute_error,mean_squared_error \n",
    "import seaborn as sns\n",
    "import seaborn as sns\n",
    "import datetime\n",
    "import time\n",
    "import math\n",
    "from sklearn.preprocessing import LabelEncoder\n",
    "from sklearn.preprocessing import OneHotEncoder"
   ]
  },
  {
   "cell_type": "code",
   "execution_count": 4,
   "id": "eff23005",
   "metadata": {},
   "outputs": [],
   "source": [
    "#Part-1: Data Exploration and Pre-processing"
   ]
  },
  {
   "cell_type": "code",
   "execution_count": null,
   "id": "aa81ada9",
   "metadata": {},
   "outputs": [],
   "source": [
    "#1)Load the given dataset"
   ]
  },
  {
   "cell_type": "code",
   "execution_count": 5,
   "id": "55db8e36",
   "metadata": {},
   "outputs": [
    {
     "name": "stdout",
     "output_type": "stream",
     "text": [
      "E:\\Data Sci\\Machince_Langauage\\Ass\n"
     ]
    }
   ],
   "source": [
    "cd E:\\Data Sci\\Machince_Langauage\\Ass"
   ]
  },
  {
   "cell_type": "code",
   "execution_count": 6,
   "id": "87d53306",
   "metadata": {},
   "outputs": [
    {
     "data": {
      "text/html": [
       "<div>\n",
       "<style scoped>\n",
       "    .dataframe tbody tr th:only-of-type {\n",
       "        vertical-align: middle;\n",
       "    }\n",
       "\n",
       "    .dataframe tbody tr th {\n",
       "        vertical-align: top;\n",
       "    }\n",
       "\n",
       "    .dataframe thead th {\n",
       "        text-align: right;\n",
       "    }\n",
       "</style>\n",
       "<table border=\"1\" class=\"dataframe\">\n",
       "  <thead>\n",
       "    <tr style=\"text-align: right;\">\n",
       "      <th></th>\n",
       "      <th>age</th>\n",
       "      <th>sex</th>\n",
       "      <th>bmi</th>\n",
       "      <th>children</th>\n",
       "      <th>smoker</th>\n",
       "      <th>region</th>\n",
       "      <th>charges</th>\n",
       "    </tr>\n",
       "  </thead>\n",
       "  <tbody>\n",
       "    <tr>\n",
       "      <th>0</th>\n",
       "      <td>19</td>\n",
       "      <td>female</td>\n",
       "      <td>27.900</td>\n",
       "      <td>0</td>\n",
       "      <td>yes</td>\n",
       "      <td>southwest</td>\n",
       "      <td>16884.92400</td>\n",
       "    </tr>\n",
       "    <tr>\n",
       "      <th>1</th>\n",
       "      <td>18</td>\n",
       "      <td>male</td>\n",
       "      <td>33.770</td>\n",
       "      <td>1</td>\n",
       "      <td>no</td>\n",
       "      <td>southeast</td>\n",
       "      <td>1725.55230</td>\n",
       "    </tr>\n",
       "    <tr>\n",
       "      <th>2</th>\n",
       "      <td>28</td>\n",
       "      <td>male</td>\n",
       "      <td>33.000</td>\n",
       "      <td>3</td>\n",
       "      <td>no</td>\n",
       "      <td>southeast</td>\n",
       "      <td>4449.46200</td>\n",
       "    </tr>\n",
       "    <tr>\n",
       "      <th>3</th>\n",
       "      <td>33</td>\n",
       "      <td>male</td>\n",
       "      <td>22.705</td>\n",
       "      <td>0</td>\n",
       "      <td>no</td>\n",
       "      <td>northwest</td>\n",
       "      <td>21984.47061</td>\n",
       "    </tr>\n",
       "    <tr>\n",
       "      <th>4</th>\n",
       "      <td>32</td>\n",
       "      <td>male</td>\n",
       "      <td>28.880</td>\n",
       "      <td>0</td>\n",
       "      <td>no</td>\n",
       "      <td>northwest</td>\n",
       "      <td>3866.85520</td>\n",
       "    </tr>\n",
       "    <tr>\n",
       "      <th>...</th>\n",
       "      <td>...</td>\n",
       "      <td>...</td>\n",
       "      <td>...</td>\n",
       "      <td>...</td>\n",
       "      <td>...</td>\n",
       "      <td>...</td>\n",
       "      <td>...</td>\n",
       "    </tr>\n",
       "    <tr>\n",
       "      <th>1333</th>\n",
       "      <td>50</td>\n",
       "      <td>male</td>\n",
       "      <td>30.970</td>\n",
       "      <td>3</td>\n",
       "      <td>no</td>\n",
       "      <td>northwest</td>\n",
       "      <td>10600.54830</td>\n",
       "    </tr>\n",
       "    <tr>\n",
       "      <th>1334</th>\n",
       "      <td>18</td>\n",
       "      <td>female</td>\n",
       "      <td>31.920</td>\n",
       "      <td>0</td>\n",
       "      <td>no</td>\n",
       "      <td>northeast</td>\n",
       "      <td>2205.98080</td>\n",
       "    </tr>\n",
       "    <tr>\n",
       "      <th>1335</th>\n",
       "      <td>18</td>\n",
       "      <td>female</td>\n",
       "      <td>36.850</td>\n",
       "      <td>0</td>\n",
       "      <td>no</td>\n",
       "      <td>southeast</td>\n",
       "      <td>1629.83350</td>\n",
       "    </tr>\n",
       "    <tr>\n",
       "      <th>1336</th>\n",
       "      <td>21</td>\n",
       "      <td>female</td>\n",
       "      <td>25.800</td>\n",
       "      <td>0</td>\n",
       "      <td>no</td>\n",
       "      <td>southwest</td>\n",
       "      <td>2007.94500</td>\n",
       "    </tr>\n",
       "    <tr>\n",
       "      <th>1337</th>\n",
       "      <td>61</td>\n",
       "      <td>female</td>\n",
       "      <td>29.070</td>\n",
       "      <td>0</td>\n",
       "      <td>yes</td>\n",
       "      <td>northwest</td>\n",
       "      <td>29141.36030</td>\n",
       "    </tr>\n",
       "  </tbody>\n",
       "</table>\n",
       "<p>1338 rows × 7 columns</p>\n",
       "</div>"
      ],
      "text/plain": [
       "      age     sex     bmi  children smoker     region      charges\n",
       "0      19  female  27.900         0    yes  southwest  16884.92400\n",
       "1      18    male  33.770         1     no  southeast   1725.55230\n",
       "2      28    male  33.000         3     no  southeast   4449.46200\n",
       "3      33    male  22.705         0     no  northwest  21984.47061\n",
       "4      32    male  28.880         0     no  northwest   3866.85520\n",
       "...   ...     ...     ...       ...    ...        ...          ...\n",
       "1333   50    male  30.970         3     no  northwest  10600.54830\n",
       "1334   18  female  31.920         0     no  northeast   2205.98080\n",
       "1335   18  female  36.850         0     no  southeast   1629.83350\n",
       "1336   21  female  25.800         0     no  southwest   2007.94500\n",
       "1337   61  female  29.070         0    yes  northwest  29141.36030\n",
       "\n",
       "[1338 rows x 7 columns]"
      ]
     },
     "execution_count": 6,
     "metadata": {},
     "output_type": "execute_result"
    }
   ],
   "source": [
    "data = pd.read_csv(\"Ass-3.csv\")\n",
    "data"
   ]
  },
  {
   "cell_type": "code",
   "execution_count": 7,
   "id": "adc864a0",
   "metadata": {},
   "outputs": [
    {
     "data": {
      "text/plain": [
       "age         0\n",
       "sex         0\n",
       "bmi         0\n",
       "children    0\n",
       "smoker      0\n",
       "region      0\n",
       "charges     0\n",
       "dtype: int64"
      ]
     },
     "execution_count": 7,
     "metadata": {},
     "output_type": "execute_result"
    }
   ],
   "source": [
    "data.isnull().sum()"
   ]
  },
  {
   "cell_type": "code",
   "execution_count": null,
   "id": "31ec1d34",
   "metadata": {},
   "outputs": [],
   "source": [
    "#4) Display a scatter plot between age and children"
   ]
  },
  {
   "cell_type": "code",
   "execution_count": 22,
   "id": "afba1275",
   "metadata": {},
   "outputs": [
    {
     "data": {
      "image/png": "[encoded data removed]",
      "text/plain": [
       "<Figure size 720x720 with 1 Axes>"
      ]
     },
     "metadata": {
      "needs_background": "light"
     },
     "output_type": "display_data"
    }
   ],
   "source": [
    "import matplotlib.pyplot as plt\n",
    "x = data['age']\n",
    "y = data['children']\n",
    "plt.figure(figsize=(10,10))\n",
    "plt.xlabel(\"Age\")\n",
    "plt.ylabel(\"Children\")\n",
    "plt.scatter(x,y)\n",
    "plt.show()"
   ]
  },
  {
   "cell_type": "code",
   "execution_count": null,
   "id": "543d8a33",
   "metadata": {},
   "outputs": [],
   "source": [
    "#5) Display bar plot between bmi and children "
   ]
  },
  {
   "cell_type": "code",
   "execution_count": 25,
   "id": "8af6b282",
   "metadata": {},
   "outputs": [
    {
     "data": {
      "image/png": "[encoded data removed]",
      "text/plain": [
       "<Figure size 720x720 with 1 Axes>"
      ]
     },
     "metadata": {
      "needs_background": "light"
     },
     "output_type": "display_data"
    }
   ],
   "source": [
    "x1 = data[\"children\"]\n",
    "y1 = data[\"bmi\"]\n",
    "plt.figure(figsize=(10,10))\n",
    "plt.xlabel(\"Children\")\n",
    "plt.ylabel(\"BMI\")\n",
    "plt.bar(x1,y1)\n",
    "plt.show()"
   ]
  },
  {
   "cell_type": "code",
   "execution_count": 26,
   "id": "97970282",
   "metadata": {},
   "outputs": [
    {
     "name": "stdout",
     "output_type": "stream",
     "text": [
      "<class 'pandas.core.frame.DataFrame'>\n",
      "RangeIndex: 1338 entries, 0 to 1337\n",
      "Data columns (total 7 columns):\n",
      " #   Column    Non-Null Count  Dtype  \n",
      "---  ------    --------------  -----  \n",
      " 0   age       1338 non-null   int64  \n",
      " 1   sex       1338 non-null   object \n",
      " 2   bmi       1338 non-null   float64\n",
      " 3   children  1338 non-null   int64  \n",
      " 4   smoker    1338 non-null   object \n",
      " 5   region    1338 non-null   object \n",
      " 6   charges   1338 non-null   float64\n",
      "dtypes: float64(2), int64(2), object(3)\n",
      "memory usage: 73.3+ KB\n"
     ]
    }
   ],
   "source": [
    "data.info()"
   ]
  },
  {
   "cell_type": "code",
   "execution_count": 28,
   "id": "ba34f6c2",
   "metadata": {},
   "outputs": [],
   "source": [
    "#Separate feature data from target data"
   ]
  },
  {
   "cell_type": "code",
   "execution_count": 32,
   "id": "064bff4e",
   "metadata": {},
   "outputs": [],
   "source": [
    "Y = data[\"charges\"]\n",
    "X = data.drop([\"charges\"],axis = 1)"
   ]
  },
  {
   "cell_type": "code",
   "execution_count": 33,
   "id": "f224d50c",
   "metadata": {},
   "outputs": [],
   "source": [
    "#Perform encoding to convert character data into numerical data "
   ]
  },
  {
   "cell_type": "code",
   "execution_count": 34,
   "id": "a8375ac6",
   "metadata": {},
   "outputs": [],
   "source": [
    "from sklearn.preprocessing import LabelEncoder\n",
    "X=X.apply(LabelEncoder().fit_transform)"
   ]
  },
  {
   "cell_type": "code",
   "execution_count": null,
   "id": "e40546ef",
   "metadata": {},
   "outputs": [],
   "source": [
    "#7) Perform scaling"
   ]
  },
  {
   "cell_type": "code",
   "execution_count": 35,
   "id": "926c391f",
   "metadata": {},
   "outputs": [],
   "source": [
    "from sklearn.preprocessing import PolynomialFeatures\n",
    "poly=PolynomialFeatures(3)\n",
    "X=poly.fit_transform(X)"
   ]
  },
  {
   "cell_type": "code",
   "execution_count": null,
   "id": "6a876a8b",
   "metadata": {},
   "outputs": [],
   "source": [
    "#Spliting Data"
   ]
  },
  {
   "cell_type": "code",
   "execution_count": 36,
   "id": "e34ac146",
   "metadata": {},
   "outputs": [],
   "source": [
    "from sklearn.model_selection import train_test_split\n",
    "X_train,X_test,Y_train,Y_test=train_test_split(X,Y,test_size=0.2,random_state=10)"
   ]
  },
  {
   "cell_type": "code",
   "execution_count": 37,
   "id": "f431ab8e",
   "metadata": {},
   "outputs": [
    {
     "name": "stdout",
     "output_type": "stream",
     "text": [
      "Shape:-  (1070, 84)\n",
      "Shape:-  (1070,)\n",
      "Shape:-  (268, 84)\n",
      "Shape:-  (268,)\n"
     ]
    }
   ],
   "source": [
    "print(\"Shape:- \",X_train.shape)\n",
    "print(\"Shape:- \",Y_train.shape)\n",
    "print(\"Shape:- \",X_test.shape)\n",
    "print(\"Shape:- \",Y_test.shape)"
   ]
  },
  {
   "cell_type": "code",
   "execution_count": 38,
   "id": "c0b869b5",
   "metadata": {},
   "outputs": [],
   "source": [
    "#Model Fitting"
   ]
  },
  {
   "cell_type": "code",
   "execution_count": 39,
   "id": "efbc0ce1",
   "metadata": {},
   "outputs": [],
   "source": [
    "import warnings\n",
    "warnings.filterwarnings(\"ignore\")"
   ]
  },
  {
   "cell_type": "code",
   "execution_count": 40,
   "id": "85a3cd5c",
   "metadata": {},
   "outputs": [],
   "source": [
    "from sklearn.linear_model import LinearRegression,Ridge,Lasso\n",
    "LR=LinearRegression()"
   ]
  },
  {
   "cell_type": "code",
   "execution_count": 41,
   "id": "7ef1610d",
   "metadata": {},
   "outputs": [
    {
     "data": {
      "text/plain": [
       "LinearRegression()"
      ]
     },
     "execution_count": 41,
     "metadata": {},
     "output_type": "execute_result"
    }
   ],
   "source": [
    "LR.fit(X_train,Y_train)"
   ]
  },
  {
   "cell_type": "code",
   "execution_count": null,
   "id": "4085497f",
   "metadata": {},
   "outputs": [],
   "source": [
    "#Model Evalution\n",
    "#Score"
   ]
  },
  {
   "cell_type": "code",
   "execution_count": 42,
   "id": "6f480ecf",
   "metadata": {},
   "outputs": [],
   "source": [
    "#3) Display the test score and training score"
   ]
  },
  {
   "cell_type": "code",
   "execution_count": 44,
   "id": "dd59c0d5",
   "metadata": {},
   "outputs": [
    {
     "name": "stdout",
     "output_type": "stream",
     "text": [
      "Score for Traning data :-  0.8409272414865196\n",
      "Score for Testing data :-  0.7410533614857959\n"
     ]
    }
   ],
   "source": [
    "print(\"Score for Traning data :- \",LR.score(X_train,Y_train))\n",
    "print(\"Score for Testing data :- \",LR.score(X_test,Y_test))"
   ]
  },
  {
   "cell_type": "code",
   "execution_count": 46,
   "id": "f244d628",
   "metadata": {},
   "outputs": [
    {
     "data": {
      "text/plain": [
       "array([ 8.11584866e+03,  4.21713503e+03,  1.27906200e+04,  1.58226239e+04,\n",
       "        2.80017304e+03,  7.49310662e+03,  2.71777692e+04,  2.29415133e+04,\n",
       "        7.83079622e+03,  1.53354410e+04,  3.05638598e+03,  2.02864475e+03,\n",
       "        8.36299942e+03,  1.02811453e+04,  1.13263953e+04,  1.53780905e+04,\n",
       "        6.88030451e+03,  1.77609982e+04,  1.16429780e+04,  2.75152517e+04,\n",
       "        3.51697086e+04,  2.02042605e+03,  8.82969517e+02,  4.69704516e+03,\n",
       "        5.50065186e+03,  1.57168440e+04,  1.07364710e+04,  1.44755411e+04,\n",
       "        7.72180015e+03,  2.85555055e+04,  2.80829561e+03,  4.04629742e+04,\n",
       "        7.70219551e+03,  9.83114109e+03,  7.66067134e+03,  6.99482023e+03,\n",
       "        1.53606934e+04,  1.12017353e+04,  8.36080903e+03,  6.81189850e+03,\n",
       "        1.88971444e+04,  1.00532689e+04,  4.43642071e+03,  8.32433497e+03,\n",
       "        1.13016408e+03,  6.15504620e+03,  1.28017054e+04,  3.51675996e+04,\n",
       "        1.46951144e+04,  1.25836610e+04,  5.62611840e+04,  3.14239896e+03,\n",
       "        9.60584523e+03,  1.18308788e+04,  1.11629512e+04,  1.44456571e+04,\n",
       "        9.27108066e+03,  7.20858821e+03,  6.49587613e+03,  3.99135934e+04,\n",
       "       -1.02008322e+03,  2.85676219e+04,  3.04400532e+04,  7.81547334e+02,\n",
       "        1.83299487e+04,  8.09259311e+03,  5.75840472e+03,  8.62020348e+03,\n",
       "        5.89200637e+03,  6.13532614e+03,  5.79744391e+03,  1.95811423e+03,\n",
       "        6.22391229e+03,  9.20773201e+03,  7.26021232e+03,  1.06475801e+04,\n",
       "        4.51517737e+03,  5.78720885e+03,  3.40715845e+03,  1.24694313e+04,\n",
       "        1.21970445e+04,  1.09949690e+04,  2.20212784e+04,  5.08066088e+03,\n",
       "        2.05459747e+04,  5.29680431e+03,  1.18402992e+03,  3.93243113e+03,\n",
       "        8.04931345e+03,  8.71079040e+03,  3.40978319e+04,  3.36141326e+04,\n",
       "        1.04259332e+04,  4.12118251e+04,  1.41324783e+04,  6.68018534e+03,\n",
       "        6.96890715e+03,  9.67162758e+03,  6.55708936e+03,  1.52252472e+04,\n",
       "        7.14046937e+03,  1.62698155e+03,  6.10040328e+03,  1.02772587e+04,\n",
       "        7.97291378e+03,  7.77878871e+03,  2.38860649e+04,  3.23930229e+04,\n",
       "        4.78533452e+04,  1.21144926e+03,  8.74567898e+03,  7.68937531e+03,\n",
       "        6.74779117e+03,  2.81359586e+04,  3.99364255e+04,  2.94762446e+04,\n",
       "        5.29005138e+03,  4.29422942e+04,  1.01052663e+04,  4.36902857e+03,\n",
       "        4.02657232e+04,  1.07133810e+04,  8.09739853e+03,  4.14915952e+02,\n",
       "        4.59647012e+04,  3.67541049e+03,  1.55282222e+04,  8.49085348e+03,\n",
       "        7.12096191e+03,  1.05562465e+04,  1.17531650e+04,  3.10955779e+04,\n",
       "        2.73499469e+04,  3.87687796e+04,  9.66313609e+03,  2.28727786e+04,\n",
       "        1.28726083e+04,  1.07382901e+04,  2.96278824e+04,  5.09678851e+03,\n",
       "        7.52315369e+03,  2.21724569e+04,  1.31913469e+04,  4.62544798e+03,\n",
       "        3.86560101e+03,  3.12797192e+04,  1.21466317e+04,  9.16817892e+03,\n",
       "        1.07942049e+04,  6.47064657e+03,  9.14896182e+03,  9.72772232e+03,\n",
       "        2.65331739e+03,  3.87370360e+04,  1.40589955e+04,  1.97469809e+03,\n",
       "        1.62596470e+04,  2.96267339e+02,  1.54553993e+04,  3.07976926e+04,\n",
       "        1.62183996e+04,  1.72319985e+03,  6.15096216e+03,  9.32662989e+03,\n",
       "        6.26909804e+03,  5.15992415e+04,  8.18601590e+03, -1.26155682e+03,\n",
       "        1.70913123e+03,  1.29738846e+04,  1.06483037e+04,  9.16651307e+03,\n",
       "        6.05208748e+03,  7.86830425e+03,  2.18921566e+04,  7.11532712e+03,\n",
       "        7.76116296e+03,  1.13837097e+04,  8.35902816e+03,  9.93289251e+03,\n",
       "        4.45420220e+04,  1.40825378e+04,  5.07473853e+03,  5.71975197e+02,\n",
       "        3.55145269e+04,  8.98757331e+03,  3.74502294e+04,  1.14149578e+04,\n",
       "        1.34240798e+04,  4.47753469e+03,  9.21010256e+03,  9.57118211e+03,\n",
       "        7.87458331e+03,  8.75469934e+03,  1.60468089e+04,  1.17728298e+04,\n",
       "        1.65985156e+04,  8.83749983e+03,  1.74926208e+04,  6.76718562e+03,\n",
       "        3.68721886e+03,  1.89817457e+01,  1.40582951e+04,  8.11054778e+03,\n",
       "        2.17463456e+03,  4.76330074e+04,  1.94910425e+04,  1.38218274e+04,\n",
       "        3.84712943e+04,  3.97048095e+03,  9.64485942e+03,  3.64171041e+04,\n",
       "        9.03186429e+03,  7.39566013e+03,  4.20638235e+04,  7.71433962e+03,\n",
       "        5.30786747e+03,  5.12961667e+03,  1.25917244e+04,  1.31994112e+04,\n",
       "        5.27978404e+03,  6.99311507e+03,  1.12902991e+03,  1.56143220e+04,\n",
       "        1.77251470e+03,  2.34001616e+04,  1.29967345e+04,  1.25361163e+03,\n",
       "        6.69954055e+03,  3.48417854e+04,  8.27367160e+03,  2.49555360e+04,\n",
       "        5.32715224e+03,  3.57528999e+04,  1.21983369e+04,  2.39213365e+03,\n",
       "        1.50229128e+04,  3.00241891e+04,  4.04472689e+03,  8.45410307e+03,\n",
       "        9.47071388e+03,  2.53391901e+04,  1.13135057e+04,  3.68623157e+04,\n",
       "        1.04310987e+04,  2.81823093e+03,  1.25200641e+04,  5.39039004e+03,\n",
       "        1.63037551e+04,  3.21399975e+03,  5.96638022e+03,  1.72678939e+04,\n",
       "        3.94175903e+04,  4.34755964e+03,  8.93102976e+03,  1.03684722e+04,\n",
       "        9.02468540e+03,  4.38337353e+03,  9.04236426e+03,  6.96756317e+03,\n",
       "        2.43114621e+03,  2.11949913e+04,  7.60133223e+03,  4.31709249e+04,\n",
       "        7.85859964e+02,  1.70187935e+03,  1.35117318e+04,  1.04415710e+04])"
      ]
     },
     "execution_count": 46,
     "metadata": {},
     "output_type": "execute_result"
    }
   ],
   "source": [
    "Y_pred = LR.predict(X_test)\n",
    "Y_pred"
   ]
  },
  {
   "cell_type": "code",
   "execution_count": null,
   "id": "36cb0f1e",
   "metadata": {},
   "outputs": [],
   "source": [
    "#4) Extract slope and intercept value from the model \n",
    "#5) Display Mean Squared Error \n",
    "#6) Display Mean Absolute Error \n",
    "#7) Display Root mean Squared error \n",
    "#8) Display R2 score"
   ]
  },
  {
   "cell_type": "code",
   "execution_count": 47,
   "id": "6260b230",
   "metadata": {},
   "outputs": [
    {
     "name": "stdout",
     "output_type": "stream",
     "text": [
      "Slope: [ 4.97011089e+09  1.44354686e+02 -2.14823043e+02 -7.72134878e+01\n",
      "  2.87075145e+03  3.05154310e+03  6.25583893e+02 -1.40957464e+00\n",
      "  2.09285942e+02 -1.12751849e-01 -2.21417668e+02 -9.08327578e+01\n",
      "  6.52004667e+01 -2.14823046e+02 -6.90463410e+00 -7.12033944e+02\n",
      " -9.97692389e+02 -4.45918108e+02  3.15635825e-01  1.30711875e+01\n",
      "  5.48109414e+01 -2.89033920e+00 -5.95597436e+02 -5.10397303e+02\n",
      " -7.03052005e+01  3.05154310e+03 -1.61953710e+03 -3.59284083e+02\n",
      "  9.27538960e-02 -7.20573432e+00  1.32825101e-02 -5.53704737e-01\n",
      " -3.95934553e+00 -1.10325844e-01  2.09285942e+02 -2.91909693e-01\n",
      "  4.28610718e+01  3.65611240e+01 -2.71485122e+01 -5.19262750e-04\n",
      " -7.13452339e-02  1.73803469e-01 -5.14424541e-02  6.01553325e+01\n",
      "  7.84621235e+01  3.22913815e+01 -9.08327579e+01  1.08177999e+02\n",
      " -1.95810757e+01 -2.14823046e+02 -6.90463409e+00 -7.12033944e+02\n",
      " -9.97692389e+02 -4.45918108e+02  2.66349711e-02 -7.16678207e-01\n",
      " -1.84652702e+00  3.44503349e+00  1.55975595e+02  2.68989773e+02\n",
      " -1.02060245e+02 -9.97692389e+02  3.04298392e+02  1.92260412e+02\n",
      " -3.52635799e-04  8.38976933e-03 -5.24433262e-02 -1.31703953e-02\n",
      " -3.83318445e+00 -1.01053226e+01 -1.08128391e+00  5.48109414e+01\n",
      " -5.37907215e+00  3.20287769e+00  4.58722499e+01  3.86148578e+02\n",
      "  8.50651501e+01 -5.10397303e+02  1.91719570e+02 -2.25247323e+02\n",
      "  3.05154310e+03 -1.61953710e+03  6.49188674e+02  4.53103336e-01]\n",
      "Intercept: -4970104294.087683\n",
      "MSE:  36317446.73747807\n",
      "MAE:  3653.310734819119\n",
      "Root of MSE:-  6026.395833122652\n",
      "R2_score:  0.7410533614857959\n"
     ]
    }
   ],
   "source": [
    "import math\n",
    "print('Slope:' ,LR.coef_) \n",
    "print('Intercept:',LR.intercept_)\n",
    "MSE = mean_squared_error(Y_test,Y_pred)\n",
    "print('MSE: ',mean_squared_error(Y_test,Y_pred))\n",
    "print('MAE: ',mean_absolute_error(Y_test,Y_pred))\n",
    "print(\"Root of MSE:- \",math.sqrt(MSE))\n",
    "print('R2_score: ',r2_score(Y_test,Y_pred))"
   ]
  }
 ],
 "metadata": {
  "kernelspec": {
   "display_name": "Python 3",
   "language": "python",
   "name": "python3"
  },
  "language_info": {
   "codemirror_mode": {
    "name": "ipython",
    "version": 3
   },
   "file_extension": ".py",
   "mimetype": "text/x-python",
   "name": "python",
   "nbconvert_exporter": "python",
   "pygments_lexer": "ipython3",
   "version": "3.8.8"
  }
 },
 "nbformat": 4,
 "nbformat_minor": 5
}

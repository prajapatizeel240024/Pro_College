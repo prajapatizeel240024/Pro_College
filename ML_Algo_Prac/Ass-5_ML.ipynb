{
 "cells": [
  {
   "cell_type": "markdown",
   "id": "87672cae",
   "metadata": {},
   "source": [
    "# Import Lib"
   ]
  },
  {
   "cell_type": "code",
   "execution_count": 1,
   "id": "4a839c7d",
   "metadata": {},
   "outputs": [],
   "source": [
    "import pandas as pd\n",
    "import numpy as np \n",
    "import matplotlib.pyplot as plt\n",
    "%matplotlib inline\n",
    "from sklearn.linear_model import LinearRegression \n",
    "from sklearn.metrics import r2_score,mean_absolute_error,mean_squared_error \n",
    "import seaborn as sns\n",
    "import seaborn as sns\n",
    "import datetime\n",
    "import time\n",
    "import math\n",
    "from sklearn.preprocessing import LabelEncoder\n",
    "from sklearn.preprocessing import OneHotEncoder"
   ]
  },
  {
   "cell_type": "code",
   "execution_count": 2,
   "id": "2c1931d3",
   "metadata": {
    "scrolled": true
   },
   "outputs": [
    {
     "name": "stdout",
     "output_type": "stream",
     "text": [
      "E:\\Data Sci\\Machince_Langauage\\Ass\n"
     ]
    }
   ],
   "source": [
    "cd E:\\Data Sci\\Machince_Langauage\\Ass"
   ]
  },
  {
   "cell_type": "markdown",
   "id": "32fbe65e",
   "metadata": {},
   "source": [
    "1) load the given dataset"
   ]
  },
  {
   "cell_type": "code",
   "execution_count": 3,
   "id": "e446d36d",
   "metadata": {},
   "outputs": [],
   "source": [
    "data = pd.read_csv(\"Ass-5.csv\")"
   ]
  },
  {
   "cell_type": "code",
   "execution_count": 4,
   "id": "028cf499",
   "metadata": {},
   "outputs": [
    {
     "data": {
      "text/html": [
       "<div>\n",
       "<style scoped>\n",
       "    .dataframe tbody tr th:only-of-type {\n",
       "        vertical-align: middle;\n",
       "    }\n",
       "\n",
       "    .dataframe tbody tr th {\n",
       "        vertical-align: top;\n",
       "    }\n",
       "\n",
       "    .dataframe thead th {\n",
       "        text-align: right;\n",
       "    }\n",
       "</style>\n",
       "<table border=\"1\" class=\"dataframe\">\n",
       "  <thead>\n",
       "    <tr style=\"text-align: right;\">\n",
       "      <th></th>\n",
       "      <th>Unnamed: 0</th>\n",
       "      <th>id</th>\n",
       "      <th>Gender</th>\n",
       "      <th>Customer Type</th>\n",
       "      <th>Age</th>\n",
       "      <th>Type of Travel</th>\n",
       "      <th>Class</th>\n",
       "      <th>Flight Distance</th>\n",
       "      <th>Inflight wifi service</th>\n",
       "      <th>Departure/Arrival time convenient</th>\n",
       "      <th>...</th>\n",
       "      <th>Inflight entertainment</th>\n",
       "      <th>On-board service</th>\n",
       "      <th>Leg room service</th>\n",
       "      <th>Baggage handling</th>\n",
       "      <th>Checkin service</th>\n",
       "      <th>Inflight service</th>\n",
       "      <th>Cleanliness</th>\n",
       "      <th>Departure Delay in Minutes</th>\n",
       "      <th>Arrival Delay in Minutes</th>\n",
       "      <th>satisfaction</th>\n",
       "    </tr>\n",
       "  </thead>\n",
       "  <tbody>\n",
       "    <tr>\n",
       "      <th>0</th>\n",
       "      <td>0</td>\n",
       "      <td>70172</td>\n",
       "      <td>Male</td>\n",
       "      <td>Loyal Customer</td>\n",
       "      <td>13</td>\n",
       "      <td>Personal Travel</td>\n",
       "      <td>Eco Plus</td>\n",
       "      <td>460</td>\n",
       "      <td>3</td>\n",
       "      <td>4</td>\n",
       "      <td>...</td>\n",
       "      <td>5</td>\n",
       "      <td>4</td>\n",
       "      <td>3</td>\n",
       "      <td>4</td>\n",
       "      <td>4</td>\n",
       "      <td>5</td>\n",
       "      <td>5</td>\n",
       "      <td>25</td>\n",
       "      <td>18.0</td>\n",
       "      <td>neutral or dissatisfied</td>\n",
       "    </tr>\n",
       "    <tr>\n",
       "      <th>1</th>\n",
       "      <td>1</td>\n",
       "      <td>5047</td>\n",
       "      <td>Male</td>\n",
       "      <td>disloyal Customer</td>\n",
       "      <td>25</td>\n",
       "      <td>Business travel</td>\n",
       "      <td>Business</td>\n",
       "      <td>235</td>\n",
       "      <td>3</td>\n",
       "      <td>2</td>\n",
       "      <td>...</td>\n",
       "      <td>1</td>\n",
       "      <td>1</td>\n",
       "      <td>5</td>\n",
       "      <td>3</td>\n",
       "      <td>1</td>\n",
       "      <td>4</td>\n",
       "      <td>1</td>\n",
       "      <td>1</td>\n",
       "      <td>6.0</td>\n",
       "      <td>neutral or dissatisfied</td>\n",
       "    </tr>\n",
       "    <tr>\n",
       "      <th>2</th>\n",
       "      <td>2</td>\n",
       "      <td>110028</td>\n",
       "      <td>Female</td>\n",
       "      <td>Loyal Customer</td>\n",
       "      <td>26</td>\n",
       "      <td>Business travel</td>\n",
       "      <td>Business</td>\n",
       "      <td>1142</td>\n",
       "      <td>2</td>\n",
       "      <td>2</td>\n",
       "      <td>...</td>\n",
       "      <td>5</td>\n",
       "      <td>4</td>\n",
       "      <td>3</td>\n",
       "      <td>4</td>\n",
       "      <td>4</td>\n",
       "      <td>4</td>\n",
       "      <td>5</td>\n",
       "      <td>0</td>\n",
       "      <td>0.0</td>\n",
       "      <td>satisfied</td>\n",
       "    </tr>\n",
       "    <tr>\n",
       "      <th>3</th>\n",
       "      <td>3</td>\n",
       "      <td>24026</td>\n",
       "      <td>Female</td>\n",
       "      <td>Loyal Customer</td>\n",
       "      <td>25</td>\n",
       "      <td>Business travel</td>\n",
       "      <td>Business</td>\n",
       "      <td>562</td>\n",
       "      <td>2</td>\n",
       "      <td>5</td>\n",
       "      <td>...</td>\n",
       "      <td>2</td>\n",
       "      <td>2</td>\n",
       "      <td>5</td>\n",
       "      <td>3</td>\n",
       "      <td>1</td>\n",
       "      <td>4</td>\n",
       "      <td>2</td>\n",
       "      <td>11</td>\n",
       "      <td>9.0</td>\n",
       "      <td>neutral or dissatisfied</td>\n",
       "    </tr>\n",
       "    <tr>\n",
       "      <th>4</th>\n",
       "      <td>4</td>\n",
       "      <td>119299</td>\n",
       "      <td>Male</td>\n",
       "      <td>Loyal Customer</td>\n",
       "      <td>61</td>\n",
       "      <td>Business travel</td>\n",
       "      <td>Business</td>\n",
       "      <td>214</td>\n",
       "      <td>3</td>\n",
       "      <td>3</td>\n",
       "      <td>...</td>\n",
       "      <td>3</td>\n",
       "      <td>3</td>\n",
       "      <td>4</td>\n",
       "      <td>4</td>\n",
       "      <td>3</td>\n",
       "      <td>3</td>\n",
       "      <td>3</td>\n",
       "      <td>0</td>\n",
       "      <td>0.0</td>\n",
       "      <td>satisfied</td>\n",
       "    </tr>\n",
       "    <tr>\n",
       "      <th>...</th>\n",
       "      <td>...</td>\n",
       "      <td>...</td>\n",
       "      <td>...</td>\n",
       "      <td>...</td>\n",
       "      <td>...</td>\n",
       "      <td>...</td>\n",
       "      <td>...</td>\n",
       "      <td>...</td>\n",
       "      <td>...</td>\n",
       "      <td>...</td>\n",
       "      <td>...</td>\n",
       "      <td>...</td>\n",
       "      <td>...</td>\n",
       "      <td>...</td>\n",
       "      <td>...</td>\n",
       "      <td>...</td>\n",
       "      <td>...</td>\n",
       "      <td>...</td>\n",
       "      <td>...</td>\n",
       "      <td>...</td>\n",
       "      <td>...</td>\n",
       "    </tr>\n",
       "    <tr>\n",
       "      <th>9995</th>\n",
       "      <td>9995</td>\n",
       "      <td>124365</td>\n",
       "      <td>Male</td>\n",
       "      <td>Loyal Customer</td>\n",
       "      <td>50</td>\n",
       "      <td>Business travel</td>\n",
       "      <td>Business</td>\n",
       "      <td>3599</td>\n",
       "      <td>3</td>\n",
       "      <td>3</td>\n",
       "      <td>...</td>\n",
       "      <td>5</td>\n",
       "      <td>5</td>\n",
       "      <td>5</td>\n",
       "      <td>5</td>\n",
       "      <td>5</td>\n",
       "      <td>5</td>\n",
       "      <td>4</td>\n",
       "      <td>12</td>\n",
       "      <td>24.0</td>\n",
       "      <td>satisfied</td>\n",
       "    </tr>\n",
       "    <tr>\n",
       "      <th>9996</th>\n",
       "      <td>9996</td>\n",
       "      <td>22044</td>\n",
       "      <td>Male</td>\n",
       "      <td>Loyal Customer</td>\n",
       "      <td>38</td>\n",
       "      <td>Business travel</td>\n",
       "      <td>Business</td>\n",
       "      <td>3873</td>\n",
       "      <td>5</td>\n",
       "      <td>5</td>\n",
       "      <td>...</td>\n",
       "      <td>4</td>\n",
       "      <td>4</td>\n",
       "      <td>4</td>\n",
       "      <td>4</td>\n",
       "      <td>3</td>\n",
       "      <td>4</td>\n",
       "      <td>5</td>\n",
       "      <td>0</td>\n",
       "      <td>0.0</td>\n",
       "      <td>satisfied</td>\n",
       "    </tr>\n",
       "    <tr>\n",
       "      <th>9997</th>\n",
       "      <td>9997</td>\n",
       "      <td>14057</td>\n",
       "      <td>Female</td>\n",
       "      <td>Loyal Customer</td>\n",
       "      <td>39</td>\n",
       "      <td>Business travel</td>\n",
       "      <td>Business</td>\n",
       "      <td>319</td>\n",
       "      <td>4</td>\n",
       "      <td>4</td>\n",
       "      <td>...</td>\n",
       "      <td>4</td>\n",
       "      <td>4</td>\n",
       "      <td>4</td>\n",
       "      <td>4</td>\n",
       "      <td>3</td>\n",
       "      <td>4</td>\n",
       "      <td>2</td>\n",
       "      <td>0</td>\n",
       "      <td>0.0</td>\n",
       "      <td>satisfied</td>\n",
       "    </tr>\n",
       "    <tr>\n",
       "      <th>9998</th>\n",
       "      <td>9998</td>\n",
       "      <td>113848</td>\n",
       "      <td>Male</td>\n",
       "      <td>Loyal Customer</td>\n",
       "      <td>52</td>\n",
       "      <td>Business travel</td>\n",
       "      <td>Business</td>\n",
       "      <td>1363</td>\n",
       "      <td>5</td>\n",
       "      <td>5</td>\n",
       "      <td>...</td>\n",
       "      <td>4</td>\n",
       "      <td>4</td>\n",
       "      <td>3</td>\n",
       "      <td>4</td>\n",
       "      <td>5</td>\n",
       "      <td>4</td>\n",
       "      <td>5</td>\n",
       "      <td>1</td>\n",
       "      <td>11.0</td>\n",
       "      <td>satisfied</td>\n",
       "    </tr>\n",
       "    <tr>\n",
       "      <th>9999</th>\n",
       "      <td>9999</td>\n",
       "      <td>1865</td>\n",
       "      <td>Female</td>\n",
       "      <td>Loyal Customer</td>\n",
       "      <td>41</td>\n",
       "      <td>Business travel</td>\n",
       "      <td>Business</td>\n",
       "      <td>3938</td>\n",
       "      <td>4</td>\n",
       "      <td>4</td>\n",
       "      <td>...</td>\n",
       "      <td>5</td>\n",
       "      <td>5</td>\n",
       "      <td>4</td>\n",
       "      <td>5</td>\n",
       "      <td>5</td>\n",
       "      <td>5</td>\n",
       "      <td>4</td>\n",
       "      <td>0</td>\n",
       "      <td>0.0</td>\n",
       "      <td>satisfied</td>\n",
       "    </tr>\n",
       "  </tbody>\n",
       "</table>\n",
       "<p>10000 rows × 25 columns</p>\n",
       "</div>"
      ],
      "text/plain": [
       "      Unnamed: 0      id  Gender      Customer Type  Age   Type of Travel  \\\n",
       "0              0   70172    Male     Loyal Customer   13  Personal Travel   \n",
       "1              1    5047    Male  disloyal Customer   25  Business travel   \n",
       "2              2  110028  Female     Loyal Customer   26  Business travel   \n",
       "3              3   24026  Female     Loyal Customer   25  Business travel   \n",
       "4              4  119299    Male     Loyal Customer   61  Business travel   \n",
       "...          ...     ...     ...                ...  ...              ...   \n",
       "9995        9995  124365    Male     Loyal Customer   50  Business travel   \n",
       "9996        9996   22044    Male     Loyal Customer   38  Business travel   \n",
       "9997        9997   14057  Female     Loyal Customer   39  Business travel   \n",
       "9998        9998  113848    Male     Loyal Customer   52  Business travel   \n",
       "9999        9999    1865  Female     Loyal Customer   41  Business travel   \n",
       "\n",
       "         Class  Flight Distance  Inflight wifi service  \\\n",
       "0     Eco Plus              460                      3   \n",
       "1     Business              235                      3   \n",
       "2     Business             1142                      2   \n",
       "3     Business              562                      2   \n",
       "4     Business              214                      3   \n",
       "...        ...              ...                    ...   \n",
       "9995  Business             3599                      3   \n",
       "9996  Business             3873                      5   \n",
       "9997  Business              319                      4   \n",
       "9998  Business             1363                      5   \n",
       "9999  Business             3938                      4   \n",
       "\n",
       "      Departure/Arrival time convenient  ...  Inflight entertainment  \\\n",
       "0                                     4  ...                       5   \n",
       "1                                     2  ...                       1   \n",
       "2                                     2  ...                       5   \n",
       "3                                     5  ...                       2   \n",
       "4                                     3  ...                       3   \n",
       "...                                 ...  ...                     ...   \n",
       "9995                                  3  ...                       5   \n",
       "9996                                  5  ...                       4   \n",
       "9997                                  4  ...                       4   \n",
       "9998                                  5  ...                       4   \n",
       "9999                                  4  ...                       5   \n",
       "\n",
       "      On-board service  Leg room service  Baggage handling  Checkin service  \\\n",
       "0                    4                 3                 4                4   \n",
       "1                    1                 5                 3                1   \n",
       "2                    4                 3                 4                4   \n",
       "3                    2                 5                 3                1   \n",
       "4                    3                 4                 4                3   \n",
       "...                ...               ...               ...              ...   \n",
       "9995                 5                 5                 5                5   \n",
       "9996                 4                 4                 4                3   \n",
       "9997                 4                 4                 4                3   \n",
       "9998                 4                 3                 4                5   \n",
       "9999                 5                 4                 5                5   \n",
       "\n",
       "      Inflight service  Cleanliness  Departure Delay in Minutes  \\\n",
       "0                    5            5                          25   \n",
       "1                    4            1                           1   \n",
       "2                    4            5                           0   \n",
       "3                    4            2                          11   \n",
       "4                    3            3                           0   \n",
       "...                ...          ...                         ...   \n",
       "9995                 5            4                          12   \n",
       "9996                 4            5                           0   \n",
       "9997                 4            2                           0   \n",
       "9998                 4            5                           1   \n",
       "9999                 5            4                           0   \n",
       "\n",
       "      Arrival Delay in Minutes             satisfaction  \n",
       "0                         18.0  neutral or dissatisfied  \n",
       "1                          6.0  neutral or dissatisfied  \n",
       "2                          0.0                satisfied  \n",
       "3                          9.0  neutral or dissatisfied  \n",
       "4                          0.0                satisfied  \n",
       "...                        ...                      ...  \n",
       "9995                      24.0                satisfied  \n",
       "9996                       0.0                satisfied  \n",
       "9997                       0.0                satisfied  \n",
       "9998                      11.0                satisfied  \n",
       "9999                       0.0                satisfied  \n",
       "\n",
       "[10000 rows x 25 columns]"
      ]
     },
     "execution_count": 4,
     "metadata": {},
     "output_type": "execute_result"
    }
   ],
   "source": [
    "data"
   ]
  },
  {
   "cell_type": "markdown",
   "id": "2113907f",
   "metadata": {},
   "source": [
    "2) print all the column names."
   ]
  },
  {
   "cell_type": "code",
   "execution_count": 6,
   "id": "837762ab",
   "metadata": {},
   "outputs": [
    {
     "data": {
      "text/plain": [
       "Index(['Unnamed: 0', 'id', 'Gender', 'Customer Type', 'Age', 'Type of Travel',\n",
       "       'Class', 'Flight Distance', 'Inflight wifi service',\n",
       "       'Departure/Arrival time convenient', 'Ease of Online booking',\n",
       "       'Gate location', 'Food and drink', 'Online boarding', 'Seat comfort',\n",
       "       'Inflight entertainment', 'On-board service', 'Leg room service',\n",
       "       'Baggage handling', 'Checkin service', 'Inflight service',\n",
       "       'Cleanliness', 'Departure Delay in Minutes', 'Arrival Delay in Minutes',\n",
       "       'satisfaction'],\n",
       "      dtype='object')"
      ]
     },
     "execution_count": 6,
     "metadata": {},
     "output_type": "execute_result"
    }
   ],
   "source": [
    "data.columns"
   ]
  },
  {
   "cell_type": "markdown",
   "id": "2782e643",
   "metadata": {},
   "source": [
    "3) describe the data "
   ]
  },
  {
   "cell_type": "code",
   "execution_count": 8,
   "id": "44f06843",
   "metadata": {},
   "outputs": [
    {
     "data": {
      "text/html": [
       "<div>\n",
       "<style scoped>\n",
       "    .dataframe tbody tr th:only-of-type {\n",
       "        vertical-align: middle;\n",
       "    }\n",
       "\n",
       "    .dataframe tbody tr th {\n",
       "        vertical-align: top;\n",
       "    }\n",
       "\n",
       "    .dataframe thead th {\n",
       "        text-align: right;\n",
       "    }\n",
       "</style>\n",
       "<table border=\"1\" class=\"dataframe\">\n",
       "  <thead>\n",
       "    <tr style=\"text-align: right;\">\n",
       "      <th></th>\n",
       "      <th>Unnamed: 0</th>\n",
       "      <th>id</th>\n",
       "      <th>Age</th>\n",
       "      <th>Flight Distance</th>\n",
       "      <th>Inflight wifi service</th>\n",
       "      <th>Departure/Arrival time convenient</th>\n",
       "      <th>Ease of Online booking</th>\n",
       "      <th>Gate location</th>\n",
       "      <th>Food and drink</th>\n",
       "      <th>Online boarding</th>\n",
       "      <th>Seat comfort</th>\n",
       "      <th>Inflight entertainment</th>\n",
       "      <th>On-board service</th>\n",
       "      <th>Leg room service</th>\n",
       "      <th>Baggage handling</th>\n",
       "      <th>Checkin service</th>\n",
       "      <th>Inflight service</th>\n",
       "      <th>Cleanliness</th>\n",
       "      <th>Departure Delay in Minutes</th>\n",
       "      <th>Arrival Delay in Minutes</th>\n",
       "    </tr>\n",
       "  </thead>\n",
       "  <tbody>\n",
       "    <tr>\n",
       "      <th>count</th>\n",
       "      <td>10000.00000</td>\n",
       "      <td>10000.000000</td>\n",
       "      <td>10000.000000</td>\n",
       "      <td>10000.000000</td>\n",
       "      <td>10000.000000</td>\n",
       "      <td>10000.000000</td>\n",
       "      <td>10000.000000</td>\n",
       "      <td>10000.00000</td>\n",
       "      <td>10000.000000</td>\n",
       "      <td>10000.000000</td>\n",
       "      <td>10000.000000</td>\n",
       "      <td>10000.000000</td>\n",
       "      <td>10000.000000</td>\n",
       "      <td>10000.000000</td>\n",
       "      <td>10000.000000</td>\n",
       "      <td>10000.000000</td>\n",
       "      <td>10000.000000</td>\n",
       "      <td>10000.000000</td>\n",
       "      <td>10000.000000</td>\n",
       "      <td>9974.000000</td>\n",
       "    </tr>\n",
       "    <tr>\n",
       "      <th>mean</th>\n",
       "      <td>4999.50000</td>\n",
       "      <td>64950.978500</td>\n",
       "      <td>39.303700</td>\n",
       "      <td>1198.823800</td>\n",
       "      <td>2.731500</td>\n",
       "      <td>3.038900</td>\n",
       "      <td>2.753600</td>\n",
       "      <td>2.96890</td>\n",
       "      <td>3.208800</td>\n",
       "      <td>3.240300</td>\n",
       "      <td>3.411300</td>\n",
       "      <td>3.335500</td>\n",
       "      <td>3.366000</td>\n",
       "      <td>3.346500</td>\n",
       "      <td>3.619900</td>\n",
       "      <td>3.285600</td>\n",
       "      <td>3.627400</td>\n",
       "      <td>3.268200</td>\n",
       "      <td>14.785400</td>\n",
       "      <td>15.242130</td>\n",
       "    </tr>\n",
       "    <tr>\n",
       "      <th>std</th>\n",
       "      <td>2886.89568</td>\n",
       "      <td>37420.905082</td>\n",
       "      <td>15.116478</td>\n",
       "      <td>1001.774138</td>\n",
       "      <td>1.328226</td>\n",
       "      <td>1.528077</td>\n",
       "      <td>1.403241</td>\n",
       "      <td>1.28425</td>\n",
       "      <td>1.339769</td>\n",
       "      <td>1.350755</td>\n",
       "      <td>1.326012</td>\n",
       "      <td>1.340567</td>\n",
       "      <td>1.288336</td>\n",
       "      <td>1.311415</td>\n",
       "      <td>1.190028</td>\n",
       "      <td>1.269013</td>\n",
       "      <td>1.181401</td>\n",
       "      <td>1.321077</td>\n",
       "      <td>38.217509</td>\n",
       "      <td>38.810195</td>\n",
       "    </tr>\n",
       "    <tr>\n",
       "      <th>min</th>\n",
       "      <td>0.00000</td>\n",
       "      <td>8.000000</td>\n",
       "      <td>7.000000</td>\n",
       "      <td>31.000000</td>\n",
       "      <td>0.000000</td>\n",
       "      <td>0.000000</td>\n",
       "      <td>0.000000</td>\n",
       "      <td>1.00000</td>\n",
       "      <td>0.000000</td>\n",
       "      <td>0.000000</td>\n",
       "      <td>0.000000</td>\n",
       "      <td>0.000000</td>\n",
       "      <td>0.000000</td>\n",
       "      <td>0.000000</td>\n",
       "      <td>1.000000</td>\n",
       "      <td>0.000000</td>\n",
       "      <td>0.000000</td>\n",
       "      <td>0.000000</td>\n",
       "      <td>0.000000</td>\n",
       "      <td>0.000000</td>\n",
       "    </tr>\n",
       "    <tr>\n",
       "      <th>25%</th>\n",
       "      <td>2499.75000</td>\n",
       "      <td>32330.500000</td>\n",
       "      <td>27.000000</td>\n",
       "      <td>413.000000</td>\n",
       "      <td>2.000000</td>\n",
       "      <td>2.000000</td>\n",
       "      <td>2.000000</td>\n",
       "      <td>2.00000</td>\n",
       "      <td>2.000000</td>\n",
       "      <td>2.000000</td>\n",
       "      <td>2.000000</td>\n",
       "      <td>2.000000</td>\n",
       "      <td>2.000000</td>\n",
       "      <td>2.000000</td>\n",
       "      <td>3.000000</td>\n",
       "      <td>2.000000</td>\n",
       "      <td>3.000000</td>\n",
       "      <td>2.000000</td>\n",
       "      <td>0.000000</td>\n",
       "      <td>0.000000</td>\n",
       "    </tr>\n",
       "    <tr>\n",
       "      <th>50%</th>\n",
       "      <td>4999.50000</td>\n",
       "      <td>64941.000000</td>\n",
       "      <td>40.000000</td>\n",
       "      <td>852.500000</td>\n",
       "      <td>3.000000</td>\n",
       "      <td>3.000000</td>\n",
       "      <td>3.000000</td>\n",
       "      <td>3.00000</td>\n",
       "      <td>3.000000</td>\n",
       "      <td>3.000000</td>\n",
       "      <td>4.000000</td>\n",
       "      <td>4.000000</td>\n",
       "      <td>4.000000</td>\n",
       "      <td>4.000000</td>\n",
       "      <td>4.000000</td>\n",
       "      <td>3.000000</td>\n",
       "      <td>4.000000</td>\n",
       "      <td>3.000000</td>\n",
       "      <td>0.000000</td>\n",
       "      <td>0.000000</td>\n",
       "    </tr>\n",
       "    <tr>\n",
       "      <th>75%</th>\n",
       "      <td>7499.25000</td>\n",
       "      <td>97579.750000</td>\n",
       "      <td>51.000000</td>\n",
       "      <td>1747.000000</td>\n",
       "      <td>4.000000</td>\n",
       "      <td>4.000000</td>\n",
       "      <td>4.000000</td>\n",
       "      <td>4.00000</td>\n",
       "      <td>4.000000</td>\n",
       "      <td>4.000000</td>\n",
       "      <td>4.000000</td>\n",
       "      <td>4.000000</td>\n",
       "      <td>4.000000</td>\n",
       "      <td>4.000000</td>\n",
       "      <td>5.000000</td>\n",
       "      <td>4.000000</td>\n",
       "      <td>5.000000</td>\n",
       "      <td>4.000000</td>\n",
       "      <td>13.000000</td>\n",
       "      <td>13.000000</td>\n",
       "    </tr>\n",
       "    <tr>\n",
       "      <th>max</th>\n",
       "      <td>9999.00000</td>\n",
       "      <td>129863.000000</td>\n",
       "      <td>85.000000</td>\n",
       "      <td>4983.000000</td>\n",
       "      <td>5.000000</td>\n",
       "      <td>5.000000</td>\n",
       "      <td>5.000000</td>\n",
       "      <td>5.00000</td>\n",
       "      <td>5.000000</td>\n",
       "      <td>5.000000</td>\n",
       "      <td>5.000000</td>\n",
       "      <td>5.000000</td>\n",
       "      <td>5.000000</td>\n",
       "      <td>5.000000</td>\n",
       "      <td>5.000000</td>\n",
       "      <td>5.000000</td>\n",
       "      <td>5.000000</td>\n",
       "      <td>5.000000</td>\n",
       "      <td>1305.000000</td>\n",
       "      <td>1280.000000</td>\n",
       "    </tr>\n",
       "  </tbody>\n",
       "</table>\n",
       "</div>"
      ],
      "text/plain": [
       "        Unnamed: 0             id           Age  Flight Distance  \\\n",
       "count  10000.00000   10000.000000  10000.000000     10000.000000   \n",
       "mean    4999.50000   64950.978500     39.303700      1198.823800   \n",
       "std     2886.89568   37420.905082     15.116478      1001.774138   \n",
       "min        0.00000       8.000000      7.000000        31.000000   \n",
       "25%     2499.75000   32330.500000     27.000000       413.000000   \n",
       "50%     4999.50000   64941.000000     40.000000       852.500000   \n",
       "75%     7499.25000   97579.750000     51.000000      1747.000000   \n",
       "max     9999.00000  129863.000000     85.000000      4983.000000   \n",
       "\n",
       "       Inflight wifi service  Departure/Arrival time convenient  \\\n",
       "count           10000.000000                       10000.000000   \n",
       "mean                2.731500                           3.038900   \n",
       "std                 1.328226                           1.528077   \n",
       "min                 0.000000                           0.000000   \n",
       "25%                 2.000000                           2.000000   \n",
       "50%                 3.000000                           3.000000   \n",
       "75%                 4.000000                           4.000000   \n",
       "max                 5.000000                           5.000000   \n",
       "\n",
       "       Ease of Online booking  Gate location  Food and drink  Online boarding  \\\n",
       "count            10000.000000    10000.00000    10000.000000     10000.000000   \n",
       "mean                 2.753600        2.96890        3.208800         3.240300   \n",
       "std                  1.403241        1.28425        1.339769         1.350755   \n",
       "min                  0.000000        1.00000        0.000000         0.000000   \n",
       "25%                  2.000000        2.00000        2.000000         2.000000   \n",
       "50%                  3.000000        3.00000        3.000000         3.000000   \n",
       "75%                  4.000000        4.00000        4.000000         4.000000   \n",
       "max                  5.000000        5.00000        5.000000         5.000000   \n",
       "\n",
       "       Seat comfort  Inflight entertainment  On-board service  \\\n",
       "count  10000.000000            10000.000000      10000.000000   \n",
       "mean       3.411300                3.335500          3.366000   \n",
       "std        1.326012                1.340567          1.288336   \n",
       "min        0.000000                0.000000          0.000000   \n",
       "25%        2.000000                2.000000          2.000000   \n",
       "50%        4.000000                4.000000          4.000000   \n",
       "75%        4.000000                4.000000          4.000000   \n",
       "max        5.000000                5.000000          5.000000   \n",
       "\n",
       "       Leg room service  Baggage handling  Checkin service  Inflight service  \\\n",
       "count      10000.000000      10000.000000     10000.000000      10000.000000   \n",
       "mean           3.346500          3.619900         3.285600          3.627400   \n",
       "std            1.311415          1.190028         1.269013          1.181401   \n",
       "min            0.000000          1.000000         0.000000          0.000000   \n",
       "25%            2.000000          3.000000         2.000000          3.000000   \n",
       "50%            4.000000          4.000000         3.000000          4.000000   \n",
       "75%            4.000000          5.000000         4.000000          5.000000   \n",
       "max            5.000000          5.000000         5.000000          5.000000   \n",
       "\n",
       "        Cleanliness  Departure Delay in Minutes  Arrival Delay in Minutes  \n",
       "count  10000.000000                10000.000000               9974.000000  \n",
       "mean       3.268200                   14.785400                 15.242130  \n",
       "std        1.321077                   38.217509                 38.810195  \n",
       "min        0.000000                    0.000000                  0.000000  \n",
       "25%        2.000000                    0.000000                  0.000000  \n",
       "50%        3.000000                    0.000000                  0.000000  \n",
       "75%        4.000000                   13.000000                 13.000000  \n",
       "max        5.000000                 1305.000000               1280.000000  "
      ]
     },
     "execution_count": 8,
     "metadata": {},
     "output_type": "execute_result"
    }
   ],
   "source": [
    "data.describe()"
   ]
  },
  {
   "cell_type": "markdown",
   "id": "3eb9bd28",
   "metadata": {},
   "source": [
    "4) Drop the column ‘Unnamed’"
   ]
  },
  {
   "cell_type": "code",
   "execution_count": 11,
   "id": "0a196442",
   "metadata": {},
   "outputs": [],
   "source": [
    "data = data.drop([\"Unnamed: 0\"],axis = 1)"
   ]
  },
  {
   "cell_type": "markdown",
   "id": "c78657ad",
   "metadata": {},
   "source": [
    "5) Replace all the “ “ in column with “_”."
   ]
  },
  {
   "cell_type": "code",
   "execution_count": 13,
   "id": "869ba148",
   "metadata": {},
   "outputs": [],
   "source": [
    "data.columns=[each.replace(\" \",\"_\") for each in data.columns]"
   ]
  },
  {
   "cell_type": "code",
   "execution_count": 14,
   "id": "48ea52ba",
   "metadata": {},
   "outputs": [
    {
     "data": {
      "text/plain": [
       "Index(['id', 'Gender', 'Customer_Type', 'Age', 'Type_of_Travel', 'Class',\n",
       "       'Flight_Distance', 'Inflight_wifi_service',\n",
       "       'Departure/Arrival_time_convenient', 'Ease_of_Online_booking',\n",
       "       'Gate_location', 'Food_and_drink', 'Online_boarding', 'Seat_comfort',\n",
       "       'Inflight_entertainment', 'On-board_service', 'Leg_room_service',\n",
       "       'Baggage_handling', 'Checkin_service', 'Inflight_service',\n",
       "       'Cleanliness', 'Departure_Delay_in_Minutes', 'Arrival_Delay_in_Minutes',\n",
       "       'satisfaction'],\n",
       "      dtype='object')"
      ]
     },
     "execution_count": 14,
     "metadata": {},
     "output_type": "execute_result"
    }
   ],
   "source": [
    "data.columns"
   ]
  },
  {
   "cell_type": "markdown",
   "id": "a1f249f7",
   "metadata": {},
   "source": [
    "6) Plot the number of satisfied customers and the number of unsatisfied customers."
   ]
  },
  {
   "cell_type": "code",
   "execution_count": 16,
   "id": "6c85a891",
   "metadata": {},
   "outputs": [
    {
     "data": {
      "text/plain": [
       "neutral or dissatisfied    5689\n",
       "satisfied                  4311\n",
       "Name: satisfaction, dtype: int64"
      ]
     },
     "execution_count": 16,
     "metadata": {},
     "output_type": "execute_result"
    }
   ],
   "source": [
    "data[\"satisfaction\"].value_counts()"
   ]
  },
  {
   "cell_type": "code",
   "execution_count": 17,
   "id": "cc11d1ab",
   "metadata": {},
   "outputs": [
    {
     "data": {
      "text/plain": [
       "<AxesSubplot:>"
      ]
     },
     "execution_count": 17,
     "metadata": {},
     "output_type": "execute_result"
    },
    {
     "data": {
      "image/png": "[encoded data removed]",
      "text/plain": [
       "<Figure size 432x288 with 1 Axes>"
      ]
     },
     "metadata": {
      "needs_background": "light"
     },
     "output_type": "display_data"
    }
   ],
   "source": [
    "data[\"satisfaction\"].value_counts().plot(kind='bar')"
   ]
  },
  {
   "cell_type": "markdown",
   "id": "b33cfd21",
   "metadata": {},
   "source": [
    "7) Plot the mean value of satisfaction of male and female customer"
   ]
  },
  {
   "cell_type": "code",
   "execution_count": 19,
   "id": "f146799e",
   "metadata": {},
   "outputs": [],
   "source": [
    "#Label Encoding for the Satisfication\n",
    "data[\"satisfaction\"] = [1 if each==\"satisfied\" else 0 for each in data.satisfaction]"
   ]
  },
  {
   "cell_type": "code",
   "execution_count": 23,
   "id": "3f4dd585",
   "metadata": {},
   "outputs": [
    {
     "data": {
      "text/html": [
       "<div>\n",
       "<style scoped>\n",
       "    .dataframe tbody tr th:only-of-type {\n",
       "        vertical-align: middle;\n",
       "    }\n",
       "\n",
       "    .dataframe tbody tr th {\n",
       "        vertical-align: top;\n",
       "    }\n",
       "\n",
       "    .dataframe thead th {\n",
       "        text-align: right;\n",
       "    }\n",
       "</style>\n",
       "<table border=\"1\" class=\"dataframe\">\n",
       "  <thead>\n",
       "    <tr style=\"text-align: right;\">\n",
       "      <th></th>\n",
       "      <th>Gender</th>\n",
       "      <th>satisfaction</th>\n",
       "    </tr>\n",
       "  </thead>\n",
       "  <tbody>\n",
       "    <tr>\n",
       "      <th>1</th>\n",
       "      <td>Male</td>\n",
       "      <td>0.438062</td>\n",
       "    </tr>\n",
       "    <tr>\n",
       "      <th>0</th>\n",
       "      <td>Female</td>\n",
       "      <td>0.424432</td>\n",
       "    </tr>\n",
       "  </tbody>\n",
       "</table>\n",
       "</div>"
      ],
      "text/plain": [
       "   Gender  satisfaction\n",
       "1    Male      0.438062\n",
       "0  Female      0.424432"
      ]
     },
     "execution_count": 23,
     "metadata": {},
     "output_type": "execute_result"
    }
   ],
   "source": [
    "data[[\"Gender\",\"satisfaction\"]].groupby([\"Gender\"],as_index=False).mean().sort_values(by=\"satisfaction\",ascending=False)"
   ]
  },
  {
   "cell_type": "code",
   "execution_count": 22,
   "id": "e647df6d",
   "metadata": {},
   "outputs": [
    {
     "data": {
      "text/plain": [
       "<AxesSubplot:>"
      ]
     },
     "execution_count": 22,
     "metadata": {},
     "output_type": "execute_result"
    },
    {
     "data": {
      "image/png": "[encoded data removed]",
      "text/plain": [
       "<Figure size 432x288 with 1 Axes>"
      ]
     },
     "metadata": {
      "needs_background": "light"
     },
     "output_type": "display_data"
    }
   ],
   "source": [
    "data[[\"Gender\",\"satisfaction\"]].groupby([\"Gender\"],as_index=False).mean().sort_values(by=\"satisfaction\",ascending=False).plot(kind= 'bar')"
   ]
  },
  {
   "cell_type": "markdown",
   "id": "ddf10a6b",
   "metadata": {},
   "source": [
    "8) Plot the mean value of satisfaction of customers with respect to Age."
   ]
  },
  {
   "cell_type": "code",
   "execution_count": 25,
   "id": "19159d87",
   "metadata": {},
   "outputs": [
    {
     "data": {
      "text/html": [
       "<div>\n",
       "<style scoped>\n",
       "    .dataframe tbody tr th:only-of-type {\n",
       "        vertical-align: middle;\n",
       "    }\n",
       "\n",
       "    .dataframe tbody tr th {\n",
       "        vertical-align: top;\n",
       "    }\n",
       "\n",
       "    .dataframe thead th {\n",
       "        text-align: right;\n",
       "    }\n",
       "</style>\n",
       "<table border=\"1\" class=\"dataframe\">\n",
       "  <thead>\n",
       "    <tr style=\"text-align: right;\">\n",
       "      <th></th>\n",
       "      <th>Age</th>\n",
       "      <th>satisfaction</th>\n",
       "    </tr>\n",
       "  </thead>\n",
       "  <tbody>\n",
       "    <tr>\n",
       "      <th>71</th>\n",
       "      <td>79</td>\n",
       "      <td>0.666667</td>\n",
       "    </tr>\n",
       "    <tr>\n",
       "      <th>39</th>\n",
       "      <td>46</td>\n",
       "      <td>0.643192</td>\n",
       "    </tr>\n",
       "    <tr>\n",
       "      <th>34</th>\n",
       "      <td>41</td>\n",
       "      <td>0.632743</td>\n",
       "    </tr>\n",
       "    <tr>\n",
       "      <th>38</th>\n",
       "      <td>45</td>\n",
       "      <td>0.608466</td>\n",
       "    </tr>\n",
       "    <tr>\n",
       "      <th>66</th>\n",
       "      <td>73</td>\n",
       "      <td>0.600000</td>\n",
       "    </tr>\n",
       "    <tr>\n",
       "      <th>...</th>\n",
       "      <td>...</td>\n",
       "      <td>...</td>\n",
       "    </tr>\n",
       "    <tr>\n",
       "      <th>7</th>\n",
       "      <td>14</td>\n",
       "      <td>0.076923</td>\n",
       "    </tr>\n",
       "    <tr>\n",
       "      <th>0</th>\n",
       "      <td>7</td>\n",
       "      <td>0.071429</td>\n",
       "    </tr>\n",
       "    <tr>\n",
       "      <th>59</th>\n",
       "      <td>66</td>\n",
       "      <td>0.050000</td>\n",
       "    </tr>\n",
       "    <tr>\n",
       "      <th>69</th>\n",
       "      <td>76</td>\n",
       "      <td>0.000000</td>\n",
       "    </tr>\n",
       "    <tr>\n",
       "      <th>73</th>\n",
       "      <td>85</td>\n",
       "      <td>0.000000</td>\n",
       "    </tr>\n",
       "  </tbody>\n",
       "</table>\n",
       "<p>74 rows × 2 columns</p>\n",
       "</div>"
      ],
      "text/plain": [
       "    Age  satisfaction\n",
       "71   79      0.666667\n",
       "39   46      0.643192\n",
       "34   41      0.632743\n",
       "38   45      0.608466\n",
       "66   73      0.600000\n",
       "..  ...           ...\n",
       "7    14      0.076923\n",
       "0     7      0.071429\n",
       "59   66      0.050000\n",
       "69   76      0.000000\n",
       "73   85      0.000000\n",
       "\n",
       "[74 rows x 2 columns]"
      ]
     },
     "execution_count": 25,
     "metadata": {},
     "output_type": "execute_result"
    }
   ],
   "source": [
    "data[[\"Age\",\"satisfaction\"]].groupby([\"Age\"],as_index=False).mean().sort_values(by=\"satisfaction\",ascending=False)"
   ]
  },
  {
   "cell_type": "markdown",
   "id": "a435ef54",
   "metadata": {},
   "source": [
    "9) Plot the mean value of satisfaction of customers with respect to Food_and_drink."
   ]
  },
  {
   "cell_type": "code",
   "execution_count": 27,
   "id": "6a66554b",
   "metadata": {},
   "outputs": [],
   "source": [
    "data1 = data[[\"Food_and_drink\",\"satisfaction\"]].groupby([\"Food_and_drink\"],as_index=False).mean().sort_values(by=\"satisfaction\",ascending=False)"
   ]
  },
  {
   "cell_type": "code",
   "execution_count": 30,
   "id": "ceb140a3",
   "metadata": {},
   "outputs": [
    {
     "data": {
      "text/html": [
       "<div>\n",
       "<style scoped>\n",
       "    .dataframe tbody tr th:only-of-type {\n",
       "        vertical-align: middle;\n",
       "    }\n",
       "\n",
       "    .dataframe tbody tr th {\n",
       "        vertical-align: top;\n",
       "    }\n",
       "\n",
       "    .dataframe thead th {\n",
       "        text-align: right;\n",
       "    }\n",
       "</style>\n",
       "<table border=\"1\" class=\"dataframe\">\n",
       "  <thead>\n",
       "    <tr style=\"text-align: right;\">\n",
       "      <th></th>\n",
       "      <th>Food_and_drink</th>\n",
       "      <th>satisfaction</th>\n",
       "    </tr>\n",
       "  </thead>\n",
       "  <tbody>\n",
       "    <tr>\n",
       "      <th>0</th>\n",
       "      <td>0</td>\n",
       "      <td>0.625000</td>\n",
       "    </tr>\n",
       "    <tr>\n",
       "      <th>5</th>\n",
       "      <td>5</td>\n",
       "      <td>0.566176</td>\n",
       "    </tr>\n",
       "    <tr>\n",
       "      <th>4</th>\n",
       "      <td>4</td>\n",
       "      <td>0.515050</td>\n",
       "    </tr>\n",
       "    <tr>\n",
       "      <th>3</th>\n",
       "      <td>3</td>\n",
       "      <td>0.404990</td>\n",
       "    </tr>\n",
       "    <tr>\n",
       "      <th>2</th>\n",
       "      <td>2</td>\n",
       "      <td>0.362305</td>\n",
       "    </tr>\n",
       "    <tr>\n",
       "      <th>1</th>\n",
       "      <td>1</td>\n",
       "      <td>0.198142</td>\n",
       "    </tr>\n",
       "  </tbody>\n",
       "</table>\n",
       "</div>"
      ],
      "text/plain": [
       "   Food_and_drink  satisfaction\n",
       "0               0      0.625000\n",
       "5               5      0.566176\n",
       "4               4      0.515050\n",
       "3               3      0.404990\n",
       "2               2      0.362305\n",
       "1               1      0.198142"
      ]
     },
     "execution_count": 30,
     "metadata": {},
     "output_type": "execute_result"
    }
   ],
   "source": [
    "data1"
   ]
  },
  {
   "cell_type": "code",
   "execution_count": 37,
   "id": "ad4a1178",
   "metadata": {},
   "outputs": [
    {
     "data": {
      "text/plain": [
       "<AxesSubplot:>"
      ]
     },
     "execution_count": 37,
     "metadata": {},
     "output_type": "execute_result"
    },
    {
     "data": {
      "image/png": "[encoded data removed]",
      "text/plain": [
       "<Figure size 432x288 with 1 Axes>"
      ]
     },
     "metadata": {
      "needs_background": "light"
     },
     "output_type": "display_data"
    }
   ],
   "source": [
    "data1.plot(kind = \"bar\")"
   ]
  },
  {
   "cell_type": "markdown",
   "id": "26148c84",
   "metadata": {},
   "source": [
    "10) Display a boxplot for Flight_Distance"
   ]
  },
  {
   "cell_type": "code",
   "execution_count": 38,
   "id": "7f2a3253",
   "metadata": {},
   "outputs": [
    {
     "data": {
      "text/plain": [
       "<AxesSubplot:>"
      ]
     },
     "execution_count": 38,
     "metadata": {},
     "output_type": "execute_result"
    },
    {
     "data": {
      "image/png": "[encoded data removed]",
      "text/plain": [
       "<Figure size 432x288 with 1 Axes>"
      ]
     },
     "metadata": {
      "needs_background": "light"
     },
     "output_type": "display_data"
    }
   ],
   "source": [
    "data['Flight_Distance'].plot(kind = 'box')"
   ]
  },
  {
   "cell_type": "markdown",
   "id": "c2bc2a46",
   "metadata": {},
   "source": [
    "11) Display a boxplot for Checkin_service"
   ]
  },
  {
   "cell_type": "code",
   "execution_count": 39,
   "id": "4fda6f84",
   "metadata": {},
   "outputs": [
    {
     "data": {
      "text/plain": [
       "<AxesSubplot:>"
      ]
     },
     "execution_count": 39,
     "metadata": {},
     "output_type": "execute_result"
    },
    {
     "data": {
      "image/png": "[encoded data removed]",
      "text/plain": [
       "<Figure size 432x288 with 1 Axes>"
      ]
     },
     "metadata": {
      "needs_background": "light"
     },
     "output_type": "display_data"
    }
   ],
   "source": [
    "data['Checkin_service'].plot(kind = 'box')"
   ]
  },
  {
   "cell_type": "markdown",
   "id": "e42d2bef",
   "metadata": {},
   "source": [
    "12) Find all the Null values "
   ]
  },
  {
   "cell_type": "code",
   "execution_count": 40,
   "id": "1a639d0a",
   "metadata": {},
   "outputs": [
    {
     "data": {
      "text/plain": [
       "id                                    0\n",
       "Gender                                0\n",
       "Customer_Type                         0\n",
       "Age                                   0\n",
       "Type_of_Travel                        0\n",
       "Class                                 0\n",
       "Flight_Distance                       0\n",
       "Inflight_wifi_service                 0\n",
       "Departure/Arrival_time_convenient     0\n",
       "Ease_of_Online_booking                0\n",
       "Gate_location                         0\n",
       "Food_and_drink                        0\n",
       "Online_boarding                       0\n",
       "Seat_comfort                          0\n",
       "Inflight_entertainment                0\n",
       "On-board_service                      0\n",
       "Leg_room_service                      0\n",
       "Baggage_handling                      0\n",
       "Checkin_service                       0\n",
       "Inflight_service                      0\n",
       "Cleanliness                           0\n",
       "Departure_Delay_in_Minutes            0\n",
       "Arrival_Delay_in_Minutes             26\n",
       "satisfaction                          0\n",
       "dtype: int64"
      ]
     },
     "execution_count": 40,
     "metadata": {},
     "output_type": "execute_result"
    }
   ],
   "source": [
    "data.isnull().sum()"
   ]
  },
  {
   "cell_type": "markdown",
   "id": "c066693b",
   "metadata": {},
   "source": [
    "13) Drop all the na values "
   ]
  },
  {
   "cell_type": "code",
   "execution_count": 41,
   "id": "37faaee6",
   "metadata": {},
   "outputs": [],
   "source": [
    "data = data.dropna(axis = 0)"
   ]
  },
  {
   "cell_type": "code",
   "execution_count": 42,
   "id": "fabb3825",
   "metadata": {},
   "outputs": [
    {
     "data": {
      "text/plain": [
       "id                                   0\n",
       "Gender                               0\n",
       "Customer_Type                        0\n",
       "Age                                  0\n",
       "Type_of_Travel                       0\n",
       "Class                                0\n",
       "Flight_Distance                      0\n",
       "Inflight_wifi_service                0\n",
       "Departure/Arrival_time_convenient    0\n",
       "Ease_of_Online_booking               0\n",
       "Gate_location                        0\n",
       "Food_and_drink                       0\n",
       "Online_boarding                      0\n",
       "Seat_comfort                         0\n",
       "Inflight_entertainment               0\n",
       "On-board_service                     0\n",
       "Leg_room_service                     0\n",
       "Baggage_handling                     0\n",
       "Checkin_service                      0\n",
       "Inflight_service                     0\n",
       "Cleanliness                          0\n",
       "Departure_Delay_in_Minutes           0\n",
       "Arrival_Delay_in_Minutes             0\n",
       "satisfaction                         0\n",
       "dtype: int64"
      ]
     },
     "execution_count": 42,
     "metadata": {},
     "output_type": "execute_result"
    }
   ],
   "source": [
    "data.isnull().sum()"
   ]
  },
  {
   "cell_type": "markdown",
   "id": "48997cb7",
   "metadata": {},
   "source": [
    "14) Find the unique values in Flight_Distance"
   ]
  },
  {
   "cell_type": "code",
   "execution_count": 45,
   "id": "35cd6ebb",
   "metadata": {},
   "outputs": [
    {
     "data": {
      "text/plain": [
       "array([ 460,  235, 1142, ..., 3033, 1319, 1443], dtype=int64)"
      ]
     },
     "execution_count": 45,
     "metadata": {},
     "output_type": "execute_result"
    }
   ],
   "source": [
    "data['Flight_Distance'].unique()"
   ]
  },
  {
   "cell_type": "markdown",
   "id": "233d18f6",
   "metadata": {},
   "source": [
    "# Part-2: Working with Models "
   ]
  },
  {
   "cell_type": "markdown",
   "id": "131136c4",
   "metadata": {},
   "source": [
    "1) Perform encoding in columns Gender, Customer_Type, Type_of_Travel, and Class. "
   ]
  },
  {
   "cell_type": "code",
   "execution_count": 47,
   "id": "7fbe7edc",
   "metadata": {},
   "outputs": [],
   "source": [
    "labelencoder = LabelEncoder()"
   ]
  },
  {
   "cell_type": "code",
   "execution_count": 49,
   "id": "f6ef7b60",
   "metadata": {},
   "outputs": [],
   "source": [
    "import warnings\n",
    "warnings.filterwarnings(\"ignore\")"
   ]
  },
  {
   "cell_type": "code",
   "execution_count": 50,
   "id": "14786eac",
   "metadata": {},
   "outputs": [],
   "source": [
    "data[['Gender','Customer_Type','Type_of_Travel','Class']] = data[['Gender','Customer_Type','Type_of_Travel','Class']].apply(labelencoder.fit_transform)"
   ]
  },
  {
   "cell_type": "markdown",
   "id": "04b90638",
   "metadata": {},
   "source": [
    "2) Drop the column id "
   ]
  },
  {
   "cell_type": "code",
   "execution_count": 52,
   "id": "a2d5489a",
   "metadata": {},
   "outputs": [],
   "source": [
    "data = data.drop(\"id\",axis = 1)"
   ]
  },
  {
   "cell_type": "code",
   "execution_count": 53,
   "id": "f09ca367",
   "metadata": {},
   "outputs": [
    {
     "name": "stdout",
     "output_type": "stream",
     "text": [
      "<class 'pandas.core.frame.DataFrame'>\n",
      "Int64Index: 9974 entries, 0 to 9999\n",
      "Data columns (total 23 columns):\n",
      " #   Column                             Non-Null Count  Dtype  \n",
      "---  ------                             --------------  -----  \n",
      " 0   Gender                             9974 non-null   int64  \n",
      " 1   Customer_Type                      9974 non-null   int64  \n",
      " 2   Age                                9974 non-null   int64  \n",
      " 3   Type_of_Travel                     9974 non-null   int64  \n",
      " 4   Class                              9974 non-null   int64  \n",
      " 5   Flight_Distance                    9974 non-null   int64  \n",
      " 6   Inflight_wifi_service              9974 non-null   int64  \n",
      " 7   Departure/Arrival_time_convenient  9974 non-null   int64  \n",
      " 8   Ease_of_Online_booking             9974 non-null   int64  \n",
      " 9   Gate_location                      9974 non-null   int64  \n",
      " 10  Food_and_drink                     9974 non-null   int64  \n",
      " 11  Online_boarding                    9974 non-null   int64  \n",
      " 12  Seat_comfort                       9974 non-null   int64  \n",
      " 13  Inflight_entertainment             9974 non-null   int64  \n",
      " 14  On-board_service                   9974 non-null   int64  \n",
      " 15  Leg_room_service                   9974 non-null   int64  \n",
      " 16  Baggage_handling                   9974 non-null   int64  \n",
      " 17  Checkin_service                    9974 non-null   int64  \n",
      " 18  Inflight_service                   9974 non-null   int64  \n",
      " 19  Cleanliness                        9974 non-null   int64  \n",
      " 20  Departure_Delay_in_Minutes         9974 non-null   int64  \n",
      " 21  Arrival_Delay_in_Minutes           9974 non-null   float64\n",
      " 22  satisfaction                       9974 non-null   int64  \n",
      "dtypes: float64(1), int64(22)\n",
      "memory usage: 1.8 MB\n"
     ]
    }
   ],
   "source": [
    "data.info()\n"
   ]
  },
  {
   "cell_type": "markdown",
   "id": "10f3b437",
   "metadata": {},
   "source": [
    "3) Create the features and target Data "
   ]
  },
  {
   "cell_type": "code",
   "execution_count": 56,
   "id": "b345aa1b",
   "metadata": {},
   "outputs": [],
   "source": [
    "Y = data['satisfaction']\n",
    "X = data.drop(['satisfaction'],axis =1)"
   ]
  },
  {
   "cell_type": "code",
   "execution_count": 57,
   "id": "8f1ecbee",
   "metadata": {},
   "outputs": [
    {
     "name": "stdout",
     "output_type": "stream",
     "text": [
      "Shape of X:-  (9974, 22)\n",
      "Shape of Y:-  (9974,)\n"
     ]
    }
   ],
   "source": [
    "print(\"Shape of X:- \",X.shape)\n",
    "print(\"Shape of Y:- \",Y.shape)"
   ]
  },
  {
   "cell_type": "markdown",
   "id": "2000ebd3",
   "metadata": {},
   "source": [
    "4) Perform scaling on features data."
   ]
  },
  {
   "cell_type": "code",
   "execution_count": 58,
   "id": "a837e5f8",
   "metadata": {},
   "outputs": [],
   "source": [
    "from sklearn.preprocessing import RobustScaler"
   ]
  },
  {
   "cell_type": "code",
   "execution_count": 59,
   "id": "6287ce46",
   "metadata": {},
   "outputs": [],
   "source": [
    "Ro_scaler = RobustScaler() "
   ]
  },
  {
   "cell_type": "code",
   "execution_count": 60,
   "id": "680c702e",
   "metadata": {},
   "outputs": [],
   "source": [
    "X_scale= Ro_scaler.fit_transform(X)"
   ]
  },
  {
   "cell_type": "markdown",
   "id": "572b762f",
   "metadata": {},
   "source": [
    "5) Fit the decision tree model with various parameters."
   ]
  },
  {
   "cell_type": "code",
   "execution_count": 61,
   "id": "d4d528c9",
   "metadata": {},
   "outputs": [],
   "source": [
    "from sklearn.tree import DecisionTreeClassifier\n",
    "params_dt = {'max_depth': 12,    \n",
    "             'max_features': \"sqrt\",\n",
    "            'min_samples_leaf':1,\n",
    "             'min_samples_split':2,\n",
    "            'criterion':'gini'}\n",
    "\n",
    "model_dt = DecisionTreeClassifier(**params_dt)"
   ]
  },
  {
   "cell_type": "markdown",
   "id": "6235acde",
   "metadata": {},
   "source": [
    "6) Split the data in training and testing sets."
   ]
  },
  {
   "cell_type": "code",
   "execution_count": 63,
   "id": "1404cd1d",
   "metadata": {},
   "outputs": [],
   "source": [
    "from sklearn.model_selection import train_test_split\n",
    "X_train,X_test,Y_train,Y_test=train_test_split(X_scale,Y,test_size=0.2,random_state=10)"
   ]
  },
  {
   "cell_type": "code",
   "execution_count": 66,
   "id": "84fdac42",
   "metadata": {},
   "outputs": [
    {
     "name": "stdout",
     "output_type": "stream",
     "text": [
      "Shape of Training data for X:-  (7979, 22)\n",
      "Shape of Training data for Y:-  (7979,)\n",
      "Shape of Testing data for X:-  (1995, 22)\n",
      "Shape of Testing data for Y:-  (1995,)\n"
     ]
    }
   ],
   "source": [
    "print(\"Shape of Training data for X:- \",X_train.shape)\n",
    "print(\"Shape of Training data for Y:- \",Y_train.shape)\n",
    "print(\"Shape of Testing data for X:- \",X_test.shape)\n",
    "print(\"Shape of Testing data for Y:- \",Y_test.shape)"
   ]
  },
  {
   "cell_type": "markdown",
   "id": "96289d4a",
   "metadata": {},
   "source": [
    "7) Create a function to display precision score, recall score, accuracy, classification report, confusion matrix, F1 Score."
   ]
  },
  {
   "cell_type": "code",
   "execution_count": 67,
   "id": "0bfb12ff",
   "metadata": {},
   "outputs": [],
   "source": [
    "from sklearn.metrics import accuracy_score,confusion_matrix,classification_report,precision_score,recall_score"
   ]
  },
  {
   "cell_type": "code",
   "execution_count": 71,
   "id": "04a6279f",
   "metadata": {},
   "outputs": [],
   "source": [
    "def run_model(model, X_train, y_train, X_test, y_test):\n",
    "    model.fit(X_train,y_train.ravel())\n",
    "    y_pred = model.predict(X_test)\n",
    "    accuracy = accuracy_score(y_test, y_pred)\n",
    "    print(\"Pricison_score: \",precision_score(y_test, y_pred))\n",
    "    print(\"\\n\")\n",
    "    print(\"Recall_score: \",recall_score(y_test, y_pred))\n",
    "    print(\"\\n\")\n",
    "    print(\"Accuracy = {}\".format(accuracy))\n",
    "    print(\"\\n\")\n",
    "    print(\"Classification Report:- \")\n",
    "    print(classification_report(y_test,y_pred,digits=5))\n",
    "    print(\"\\n\")\n",
    "    print(\"Confusion Matrix:- \")\n",
    "    print(confusion_matrix(y_test,y_pred))"
   ]
  },
  {
   "cell_type": "code",
   "execution_count": 72,
   "id": "a3c03a33",
   "metadata": {},
   "outputs": [
    {
     "name": "stdout",
     "output_type": "stream",
     "text": [
      "Pricison_score:  0.8985330073349633\n",
      "\n",
      "\n",
      "Recall_score:  0.8708530805687204\n",
      "\n",
      "\n",
      "Accuracy = 0.9037593984962407\n",
      "\n",
      "\n",
      "Classification Report:- \n",
      "              precision    recall  f1-score   support\n",
      "\n",
      "           0    0.90739   0.92789   0.91753      1151\n",
      "           1    0.89853   0.87085   0.88448       844\n",
      "\n",
      "    accuracy                        0.90376      1995\n",
      "   macro avg    0.90296   0.89937   0.90100      1995\n",
      "weighted avg    0.90364   0.90376   0.90354      1995\n",
      "\n",
      "\n",
      "\n",
      "Confusion Matrix:- \n",
      "[[1068   83]\n",
      " [ 109  735]]\n"
     ]
    }
   ],
   "source": [
    "run_model(model_dt,X_train, Y_train, X_test, Y_test)"
   ]
  }
 ],
 "metadata": {
  "kernelspec": {
   "display_name": "Python 3",
   "language": "python",
   "name": "python3"
  },
  "language_info": {
   "codemirror_mode": {
    "name": "ipython",
    "version": 3
   },
   "file_extension": ".py",
   "mimetype": "text/x-python",
   "name": "python",
   "nbconvert_exporter": "python",
   "pygments_lexer": "ipython3",
   "version": "3.8.8"
  }
 },
 "nbformat": 4,
 "nbformat_minor": 5
}

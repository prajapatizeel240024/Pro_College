{
 "cells": [
  {
   "cell_type": "markdown",
   "id": "32d75f8f",
   "metadata": {},
   "source": [
    "# Part-1: Data Exploration and Pre-processing"
   ]
  },
  {
   "cell_type": "markdown",
   "id": "a952b0a6",
   "metadata": {},
   "source": [
    "Importing the data."
   ]
  },
  {
   "cell_type": "code",
   "execution_count": 1,
   "id": "ae322e94",
   "metadata": {},
   "outputs": [],
   "source": [
    "import numpy as np\n",
    "import pandas as pd\n",
    "import matplotlib.pyplot as plt\n",
    "plt.style.use('ggplot')\n",
    "import seaborn as sns\n",
    "sns.set()\n",
    "import warnings\n",
    "warnings.filterwarnings('ignore')\n",
    "%matplotlib inline"
   ]
  },
  {
   "cell_type": "markdown",
   "id": "36535cd4",
   "metadata": {},
   "source": [
    "1) Load the given dataset."
   ]
  },
  {
   "cell_type": "code",
   "execution_count": 2,
   "id": "7e02d692",
   "metadata": {},
   "outputs": [
    {
     "name": "stdout",
     "output_type": "stream",
     "text": [
      "E:\\Data Sci\\Machince_Langauage\\Ass\n"
     ]
    }
   ],
   "source": [
    "cd E:\\Data Sci\\Machince_Langauage\\Ass"
   ]
  },
  {
   "cell_type": "code",
   "execution_count": 3,
   "id": "be1e1016",
   "metadata": {},
   "outputs": [],
   "source": [
    "data = pd.read_excel(\"Ass-7.xlsx\")"
   ]
  },
  {
   "cell_type": "code",
   "execution_count": 4,
   "id": "5cc93ef7",
   "metadata": {},
   "outputs": [
    {
     "data": {
      "text/html": [
       "<div>\n",
       "<style scoped>\n",
       "    .dataframe tbody tr th:only-of-type {\n",
       "        vertical-align: middle;\n",
       "    }\n",
       "\n",
       "    .dataframe tbody tr th {\n",
       "        vertical-align: top;\n",
       "    }\n",
       "\n",
       "    .dataframe thead th {\n",
       "        text-align: right;\n",
       "    }\n",
       "</style>\n",
       "<table border=\"1\" class=\"dataframe\">\n",
       "  <thead>\n",
       "    <tr style=\"text-align: right;\">\n",
       "      <th></th>\n",
       "      <th>Age</th>\n",
       "      <th>Total Work Experience</th>\n",
       "      <th>Number of years in city</th>\n",
       "      <th>Cost to Request Ratio</th>\n",
       "      <th>Cibil score</th>\n",
       "      <th>Overdrafts past12months</th>\n",
       "      <th>Total bounces past12months</th>\n",
       "    </tr>\n",
       "  </thead>\n",
       "  <tbody>\n",
       "    <tr>\n",
       "      <th>0</th>\n",
       "      <td>40.50</td>\n",
       "      <td>2</td>\n",
       "      <td>6</td>\n",
       "      <td>0.842666</td>\n",
       "      <td>594</td>\n",
       "      <td>0</td>\n",
       "      <td>0</td>\n",
       "    </tr>\n",
       "    <tr>\n",
       "      <th>1</th>\n",
       "      <td>41.25</td>\n",
       "      <td>5</td>\n",
       "      <td>2</td>\n",
       "      <td>0.791667</td>\n",
       "      <td>754</td>\n",
       "      <td>0</td>\n",
       "      <td>0</td>\n",
       "    </tr>\n",
       "    <tr>\n",
       "      <th>2</th>\n",
       "      <td>39.50</td>\n",
       "      <td>5</td>\n",
       "      <td>2</td>\n",
       "      <td>0.727273</td>\n",
       "      <td>779</td>\n",
       "      <td>0</td>\n",
       "      <td>0</td>\n",
       "    </tr>\n",
       "    <tr>\n",
       "      <th>3</th>\n",
       "      <td>35.00</td>\n",
       "      <td>1</td>\n",
       "      <td>4</td>\n",
       "      <td>0.820232</td>\n",
       "      <td>818</td>\n",
       "      <td>0</td>\n",
       "      <td>0</td>\n",
       "    </tr>\n",
       "    <tr>\n",
       "      <th>4</th>\n",
       "      <td>34.00</td>\n",
       "      <td>3</td>\n",
       "      <td>3</td>\n",
       "      <td>0.455581</td>\n",
       "      <td>853</td>\n",
       "      <td>0</td>\n",
       "      <td>1</td>\n",
       "    </tr>\n",
       "    <tr>\n",
       "      <th>...</th>\n",
       "      <td>...</td>\n",
       "      <td>...</td>\n",
       "      <td>...</td>\n",
       "      <td>...</td>\n",
       "      <td>...</td>\n",
       "      <td>...</td>\n",
       "      <td>...</td>\n",
       "    </tr>\n",
       "    <tr>\n",
       "      <th>8990</th>\n",
       "      <td>30.80</td>\n",
       "      <td>3</td>\n",
       "      <td>3</td>\n",
       "      <td>0.596748</td>\n",
       "      <td>763</td>\n",
       "      <td>0</td>\n",
       "      <td>0</td>\n",
       "    </tr>\n",
       "    <tr>\n",
       "      <th>8991</th>\n",
       "      <td>31.83</td>\n",
       "      <td>3</td>\n",
       "      <td>6</td>\n",
       "      <td>0.986793</td>\n",
       "      <td>532</td>\n",
       "      <td>0</td>\n",
       "      <td>0</td>\n",
       "    </tr>\n",
       "    <tr>\n",
       "      <th>8992</th>\n",
       "      <td>32.67</td>\n",
       "      <td>2</td>\n",
       "      <td>5</td>\n",
       "      <td>0.628330</td>\n",
       "      <td>590</td>\n",
       "      <td>0</td>\n",
       "      <td>0</td>\n",
       "    </tr>\n",
       "    <tr>\n",
       "      <th>8993</th>\n",
       "      <td>37.00</td>\n",
       "      <td>3</td>\n",
       "      <td>3</td>\n",
       "      <td>0.797193</td>\n",
       "      <td>812</td>\n",
       "      <td>0</td>\n",
       "      <td>0</td>\n",
       "    </tr>\n",
       "    <tr>\n",
       "      <th>8994</th>\n",
       "      <td>32.08</td>\n",
       "      <td>1</td>\n",
       "      <td>6</td>\n",
       "      <td>0.287659</td>\n",
       "      <td>817</td>\n",
       "      <td>0</td>\n",
       "      <td>0</td>\n",
       "    </tr>\n",
       "  </tbody>\n",
       "</table>\n",
       "<p>8995 rows × 7 columns</p>\n",
       "</div>"
      ],
      "text/plain": [
       "        Age  Total Work Experience  Number of years in city  \\\n",
       "0     40.50                      2                        6   \n",
       "1     41.25                      5                        2   \n",
       "2     39.50                      5                        2   \n",
       "3     35.00                      1                        4   \n",
       "4     34.00                      3                        3   \n",
       "...     ...                    ...                      ...   \n",
       "8990  30.80                      3                        3   \n",
       "8991  31.83                      3                        6   \n",
       "8992  32.67                      2                        5   \n",
       "8993  37.00                      3                        3   \n",
       "8994  32.08                      1                        6   \n",
       "\n",
       "      Cost to Request Ratio  Cibil score  Overdrafts past12months  \\\n",
       "0                  0.842666          594                        0   \n",
       "1                  0.791667          754                        0   \n",
       "2                  0.727273          779                        0   \n",
       "3                  0.820232          818                        0   \n",
       "4                  0.455581          853                        0   \n",
       "...                     ...          ...                      ...   \n",
       "8990               0.596748          763                        0   \n",
       "8991               0.986793          532                        0   \n",
       "8992               0.628330          590                        0   \n",
       "8993               0.797193          812                        0   \n",
       "8994               0.287659          817                        0   \n",
       "\n",
       "      Total bounces past12months  \n",
       "0                              0  \n",
       "1                              0  \n",
       "2                              0  \n",
       "3                              0  \n",
       "4                              1  \n",
       "...                          ...  \n",
       "8990                           0  \n",
       "8991                           0  \n",
       "8992                           0  \n",
       "8993                           0  \n",
       "8994                           0  \n",
       "\n",
       "[8995 rows x 7 columns]"
      ]
     },
     "execution_count": 4,
     "metadata": {},
     "output_type": "execute_result"
    }
   ],
   "source": [
    "data"
   ]
  },
  {
   "cell_type": "markdown",
   "id": "2fae766f",
   "metadata": {},
   "source": [
    "2) Check for the null values."
   ]
  },
  {
   "cell_type": "code",
   "execution_count": 5,
   "id": "02543554",
   "metadata": {},
   "outputs": [
    {
     "data": {
      "text/plain": [
       "Age                           0\n",
       "Total Work Experience         0\n",
       "Number of years in city       0\n",
       "Cost to Request Ratio         0\n",
       "Cibil score                   0\n",
       "Overdrafts past12months       0\n",
       "Total bounces past12months    0\n",
       "dtype: int64"
      ]
     },
     "execution_count": 5,
     "metadata": {},
     "output_type": "execute_result"
    }
   ],
   "source": [
    "data.isnull().sum()"
   ]
  },
  {
   "cell_type": "markdown",
   "id": "e9191b5e",
   "metadata": {},
   "source": [
    "3) Get basic information from data."
   ]
  },
  {
   "cell_type": "code",
   "execution_count": 6,
   "id": "122b5ad9",
   "metadata": {},
   "outputs": [
    {
     "name": "stdout",
     "output_type": "stream",
     "text": [
      "<class 'pandas.core.frame.DataFrame'>\n",
      "RangeIndex: 8995 entries, 0 to 8994\n",
      "Data columns (total 7 columns):\n",
      " #   Column                      Non-Null Count  Dtype  \n",
      "---  ------                      --------------  -----  \n",
      " 0   Age                         8995 non-null   float64\n",
      " 1   Total Work Experience       8995 non-null   int64  \n",
      " 2   Number of years in city     8995 non-null   int64  \n",
      " 3   Cost to Request Ratio       8995 non-null   float64\n",
      " 4   Cibil score                 8995 non-null   int64  \n",
      " 5   Overdrafts past12months     8995 non-null   int64  \n",
      " 6   Total bounces past12months  8995 non-null   int64  \n",
      "dtypes: float64(2), int64(5)\n",
      "memory usage: 492.0 KB\n"
     ]
    }
   ],
   "source": [
    "data.info()"
   ]
  },
  {
   "cell_type": "markdown",
   "id": "a25e71f1",
   "metadata": {},
   "source": [
    "4) Describe the dataset."
   ]
  },
  {
   "cell_type": "code",
   "execution_count": 7,
   "id": "7601bdbe",
   "metadata": {},
   "outputs": [
    {
     "data": {
      "text/html": [
       "<div>\n",
       "<style scoped>\n",
       "    .dataframe tbody tr th:only-of-type {\n",
       "        vertical-align: middle;\n",
       "    }\n",
       "\n",
       "    .dataframe tbody tr th {\n",
       "        vertical-align: top;\n",
       "    }\n",
       "\n",
       "    .dataframe thead th {\n",
       "        text-align: right;\n",
       "    }\n",
       "</style>\n",
       "<table border=\"1\" class=\"dataframe\">\n",
       "  <thead>\n",
       "    <tr style=\"text-align: right;\">\n",
       "      <th></th>\n",
       "      <th>Age</th>\n",
       "      <th>Total Work Experience</th>\n",
       "      <th>Number of years in city</th>\n",
       "      <th>Cost to Request Ratio</th>\n",
       "      <th>Cibil score</th>\n",
       "      <th>Overdrafts past12months</th>\n",
       "      <th>Total bounces past12months</th>\n",
       "    </tr>\n",
       "  </thead>\n",
       "  <tbody>\n",
       "    <tr>\n",
       "      <th>count</th>\n",
       "      <td>8995.000000</td>\n",
       "      <td>8995.000000</td>\n",
       "      <td>8995.000000</td>\n",
       "      <td>8995.000000</td>\n",
       "      <td>8995.000000</td>\n",
       "      <td>8995.000000</td>\n",
       "      <td>8995.000000</td>\n",
       "    </tr>\n",
       "    <tr>\n",
       "      <th>mean</th>\n",
       "      <td>38.808202</td>\n",
       "      <td>2.131073</td>\n",
       "      <td>4.288160</td>\n",
       "      <td>0.831183</td>\n",
       "      <td>752.626570</td>\n",
       "      <td>0.322068</td>\n",
       "      <td>1.162757</td>\n",
       "    </tr>\n",
       "    <tr>\n",
       "      <th>std</th>\n",
       "      <td>10.203371</td>\n",
       "      <td>0.892141</td>\n",
       "      <td>1.269416</td>\n",
       "      <td>0.490216</td>\n",
       "      <td>67.645792</td>\n",
       "      <td>0.914998</td>\n",
       "      <td>2.352798</td>\n",
       "    </tr>\n",
       "    <tr>\n",
       "      <th>min</th>\n",
       "      <td>18.100000</td>\n",
       "      <td>1.000000</td>\n",
       "      <td>1.000000</td>\n",
       "      <td>0.008466</td>\n",
       "      <td>351.000000</td>\n",
       "      <td>0.000000</td>\n",
       "      <td>0.000000</td>\n",
       "    </tr>\n",
       "    <tr>\n",
       "      <th>25%</th>\n",
       "      <td>30.830000</td>\n",
       "      <td>1.000000</td>\n",
       "      <td>3.000000</td>\n",
       "      <td>0.662147</td>\n",
       "      <td>730.000000</td>\n",
       "      <td>0.000000</td>\n",
       "      <td>0.000000</td>\n",
       "    </tr>\n",
       "    <tr>\n",
       "      <th>50%</th>\n",
       "      <td>37.200000</td>\n",
       "      <td>2.000000</td>\n",
       "      <td>4.000000</td>\n",
       "      <td>0.800000</td>\n",
       "      <td>768.000000</td>\n",
       "      <td>0.000000</td>\n",
       "      <td>0.000000</td>\n",
       "    </tr>\n",
       "    <tr>\n",
       "      <th>75%</th>\n",
       "      <td>45.400000</td>\n",
       "      <td>3.000000</td>\n",
       "      <td>5.000000</td>\n",
       "      <td>0.930908</td>\n",
       "      <td>797.000000</td>\n",
       "      <td>0.000000</td>\n",
       "      <td>1.000000</td>\n",
       "    </tr>\n",
       "    <tr>\n",
       "      <th>max</th>\n",
       "      <td>83.800000</td>\n",
       "      <td>5.000000</td>\n",
       "      <td>6.000000</td>\n",
       "      <td>12.006623</td>\n",
       "      <td>882.000000</td>\n",
       "      <td>12.000000</td>\n",
       "      <td>12.000000</td>\n",
       "    </tr>\n",
       "  </tbody>\n",
       "</table>\n",
       "</div>"
      ],
      "text/plain": [
       "               Age  Total Work Experience  Number of years in city  \\\n",
       "count  8995.000000            8995.000000              8995.000000   \n",
       "mean     38.808202               2.131073                 4.288160   \n",
       "std      10.203371               0.892141                 1.269416   \n",
       "min      18.100000               1.000000                 1.000000   \n",
       "25%      30.830000               1.000000                 3.000000   \n",
       "50%      37.200000               2.000000                 4.000000   \n",
       "75%      45.400000               3.000000                 5.000000   \n",
       "max      83.800000               5.000000                 6.000000   \n",
       "\n",
       "       Cost to Request Ratio  Cibil score  Overdrafts past12months  \\\n",
       "count            8995.000000  8995.000000              8995.000000   \n",
       "mean                0.831183   752.626570                 0.322068   \n",
       "std                 0.490216    67.645792                 0.914998   \n",
       "min                 0.008466   351.000000                 0.000000   \n",
       "25%                 0.662147   730.000000                 0.000000   \n",
       "50%                 0.800000   768.000000                 0.000000   \n",
       "75%                 0.930908   797.000000                 0.000000   \n",
       "max                12.006623   882.000000                12.000000   \n",
       "\n",
       "       Total bounces past12months  \n",
       "count                 8995.000000  \n",
       "mean                     1.162757  \n",
       "std                      2.352798  \n",
       "min                      0.000000  \n",
       "25%                      0.000000  \n",
       "50%                      0.000000  \n",
       "75%                      1.000000  \n",
       "max                     12.000000  "
      ]
     },
     "execution_count": 7,
     "metadata": {},
     "output_type": "execute_result"
    }
   ],
   "source": [
    "data.describe()"
   ]
  },
  {
   "cell_type": "markdown",
   "id": "c68e17b4",
   "metadata": {},
   "source": [
    "5) Display scatterplot between age & Total work Experience."
   ]
  },
  {
   "cell_type": "code",
   "execution_count": 8,
   "id": "0007fb16",
   "metadata": {},
   "outputs": [],
   "source": [
    "x = data['Age']\n",
    "y = data['Total Work Experience']"
   ]
  },
  {
   "cell_type": "code",
   "execution_count": 14,
   "id": "21cf1240",
   "metadata": {},
   "outputs": [
    {
     "data": {
      "image/png": "[encoded data removed]",
      "text/plain": [
       "<Figure size 864x864 with 1 Axes>"
      ]
     },
     "metadata": {
      "needs_background": "light"
     },
     "output_type": "display_data"
    }
   ],
   "source": [
    "plt.figure(figsize = (12,12))\n",
    "plt.xlabel(\"Age\")\n",
    "plt.ylabel(\"Total Work Experience\")\n",
    "plt.scatter(x,y)\n",
    "plt.show()"
   ]
  },
  {
   "cell_type": "markdown",
   "id": "890cc6f6",
   "metadata": {},
   "source": [
    "6) Display box plot for age."
   ]
  },
  {
   "cell_type": "code",
   "execution_count": 17,
   "id": "31f5bad5",
   "metadata": {},
   "outputs": [
    {
     "data": {
      "text/plain": [
       "<AxesSubplot:>"
      ]
     },
     "execution_count": 17,
     "metadata": {},
     "output_type": "execute_result"
    },
    {
     "data": {
      "image/png": "[encoded data removed]",
      "text/plain": [
       "<Figure size 432x288 with 1 Axes>"
      ]
     },
     "metadata": {
      "needs_background": "light"
     },
     "output_type": "display_data"
    }
   ],
   "source": [
    "data['Age'].plot(kind = 'box')"
   ]
  },
  {
   "cell_type": "markdown",
   "id": "94d4d125",
   "metadata": {},
   "source": [
    "7) Display box plot for Cibil score."
   ]
  },
  {
   "cell_type": "code",
   "execution_count": 18,
   "id": "9cc334fb",
   "metadata": {},
   "outputs": [
    {
     "data": {
      "text/plain": [
       "<AxesSubplot:>"
      ]
     },
     "execution_count": 18,
     "metadata": {},
     "output_type": "execute_result"
    },
    {
     "data": {
      "image/png": "[encoded data removed]",
      "text/plain": [
       "<Figure size 432x288 with 1 Axes>"
      ]
     },
     "metadata": {
      "needs_background": "light"
     },
     "output_type": "display_data"
    }
   ],
   "source": [
    "data['Cibil score'].plot(kind = 'box')"
   ]
  },
  {
   "cell_type": "markdown",
   "id": "349e2d6c",
   "metadata": {},
   "source": [
    "8) Create target and features data where target is Total bounces past12months."
   ]
  },
  {
   "cell_type": "code",
   "execution_count": 20,
   "id": "f0938551",
   "metadata": {},
   "outputs": [],
   "source": [
    "Y = data['Total bounces past12months']\n",
    "X = data.drop([\"Total bounces past12months\"],axis =1)"
   ]
  },
  {
   "cell_type": "code",
   "execution_count": 21,
   "id": "026f4a98",
   "metadata": {},
   "outputs": [
    {
     "name": "stdout",
     "output_type": "stream",
     "text": [
      "Feature:-  (8995, 6)\n",
      "Target:-  (8995,)\n"
     ]
    }
   ],
   "source": [
    "print(\"Feature:- \",X.shape)\n",
    "print(\"Target:- \",Y.shape)"
   ]
  },
  {
   "cell_type": "markdown",
   "id": "6996f441",
   "metadata": {},
   "source": [
    "# Part-2: Working with Model"
   ]
  },
  {
   "cell_type": "markdown",
   "id": "06be9387",
   "metadata": {},
   "source": [
    "1) Split data into training and testing sets."
   ]
  },
  {
   "cell_type": "markdown",
   "id": "1bac57ab",
   "metadata": {},
   "source": [
    "We will use Scaler"
   ]
  },
  {
   "cell_type": "code",
   "execution_count": 22,
   "id": "76bb3457",
   "metadata": {},
   "outputs": [],
   "source": [
    "from sklearn.preprocessing import StandardScaler\n",
    "sc_X = StandardScaler()"
   ]
  },
  {
   "cell_type": "code",
   "execution_count": 23,
   "id": "74fa6de8",
   "metadata": {},
   "outputs": [],
   "source": [
    "cols = X.columns"
   ]
  },
  {
   "cell_type": "code",
   "execution_count": 25,
   "id": "6a00e7c3",
   "metadata": {},
   "outputs": [],
   "source": [
    "#importing train_test_split\n",
    "from sklearn.model_selection import train_test_split\n",
    "X_train,X_test,Y_train,Y_test = train_test_split(X,Y,test_size=0.2,random_state = 13)"
   ]
  },
  {
   "cell_type": "code",
   "execution_count": 26,
   "id": "54bad490",
   "metadata": {},
   "outputs": [],
   "source": [
    "from sklearn.preprocessing import StandardScaler\n",
    "scaler = StandardScaler()\n",
    "X_train = scaler.fit_transform(X_train)\n",
    "X_test = scaler.transform(X_test)"
   ]
  },
  {
   "cell_type": "code",
   "execution_count": 27,
   "id": "0f9961c3",
   "metadata": {},
   "outputs": [],
   "source": [
    "X_train = pd.DataFrame(X_train, columns=[cols])\n",
    "X_test = pd.DataFrame(X_test, columns=[cols])"
   ]
  },
  {
   "cell_type": "code",
   "execution_count": 28,
   "id": "afb06707",
   "metadata": {
    "scrolled": true
   },
   "outputs": [
    {
     "name": "stdout",
     "output_type": "stream",
     "text": [
      "Shape of Training data for X:-  (7196, 6)\n",
      "Shape of Training data for Y:-  (7196,)\n",
      "Shape of Testing data for X:-  (1799, 6)\n",
      "Shape of Testing data for Y:-  (1799,)\n"
     ]
    }
   ],
   "source": [
    "print(\"Shape of Training data for X:- \",X_train.shape)\n",
    "print(\"Shape of Training data for Y:- \",Y_train.shape)\n",
    "print(\"Shape of Testing data for X:- \",X_test.shape)\n",
    "print(\"Shape of Testing data for Y:- \",Y_test.shape)"
   ]
  },
  {
   "cell_type": "markdown",
   "id": "a919454a",
   "metadata": {},
   "source": [
    "2) Create a KNN classifier between Features and target data."
   ]
  },
  {
   "cell_type": "code",
   "execution_count": 29,
   "id": "a61afed0",
   "metadata": {},
   "outputs": [],
   "source": [
    "from sklearn.neighbors import KNeighborsClassifier"
   ]
  },
  {
   "cell_type": "code",
   "execution_count": 31,
   "id": "8242cbf4",
   "metadata": {},
   "outputs": [
    {
     "data": {
      "text/plain": [
       "KNeighborsClassifier(n_neighbors=1)"
      ]
     },
     "execution_count": 31,
     "metadata": {},
     "output_type": "execute_result"
    }
   ],
   "source": [
    "model = KNeighborsClassifier(1)\n",
    "model.fit(X_train,Y_train)"
   ]
  },
  {
   "cell_type": "markdown",
   "id": "2824ce29",
   "metadata": {},
   "source": [
    "3) Display the test score."
   ]
  },
  {
   "cell_type": "code",
   "execution_count": 32,
   "id": "f4293acb",
   "metadata": {},
   "outputs": [
    {
     "data": {
      "text/plain": [
       "0.5714285714285714"
      ]
     },
     "execution_count": 32,
     "metadata": {},
     "output_type": "execute_result"
    }
   ],
   "source": [
    "model.score(X_test,Y_test)"
   ]
  },
  {
   "cell_type": "markdown",
   "id": "5b40cea5",
   "metadata": {},
   "source": [
    "4) Display the training score."
   ]
  },
  {
   "cell_type": "code",
   "execution_count": 33,
   "id": "bb03bf16",
   "metadata": {
    "scrolled": true
   },
   "outputs": [
    {
     "data": {
      "text/plain": [
       "1.0"
      ]
     },
     "execution_count": 33,
     "metadata": {},
     "output_type": "execute_result"
    }
   ],
   "source": [
    "model.score(X_train,Y_train)"
   ]
  },
  {
   "cell_type": "markdown",
   "id": "44419bf7",
   "metadata": {},
   "source": [
    "5) Print the accuracy score."
   ]
  },
  {
   "cell_type": "code",
   "execution_count": 34,
   "id": "0eca8649",
   "metadata": {},
   "outputs": [],
   "source": [
    "Y_pre = model.predict(X_test)"
   ]
  },
  {
   "cell_type": "code",
   "execution_count": 35,
   "id": "827ef726",
   "metadata": {},
   "outputs": [],
   "source": [
    "from sklearn.metrics import accuracy_score"
   ]
  },
  {
   "cell_type": "code",
   "execution_count": 36,
   "id": "88c6ef6e",
   "metadata": {},
   "outputs": [
    {
     "data": {
      "text/plain": [
       "0.5714285714285714"
      ]
     },
     "execution_count": 36,
     "metadata": {},
     "output_type": "execute_result"
    }
   ],
   "source": [
    "accuracy_score(Y_test,Y_pre)"
   ]
  },
  {
   "cell_type": "markdown",
   "id": "26cb0952",
   "metadata": {},
   "source": [
    "# Model is Overfitting"
   ]
  },
  {
   "cell_type": "markdown",
   "id": "40b16168",
   "metadata": {},
   "source": [
    "6) Try 1 to 14 k values for classifier."
   ]
  },
  {
   "cell_type": "code",
   "execution_count": 38,
   "id": "d503a620",
   "metadata": {},
   "outputs": [],
   "source": [
    "from sklearn.neighbors import KNeighborsClassifier\n",
    "test_scores = []\n",
    "train_scores = []\n",
    "for i in range(1,15):\n",
    "    model = KNeighborsClassifier(i)\n",
    "    model.fit(X_train,Y_train)\n",
    "    train_scores.append(model.score(X_train,Y_train))\n",
    "    test_scores.append(model.score(X_test,Y_test))"
   ]
  },
  {
   "cell_type": "markdown",
   "id": "3c3bf8a5",
   "metadata": {},
   "source": [
    "7) Display training and testing score for all the 1 to 14 k values."
   ]
  },
  {
   "cell_type": "code",
   "execution_count": 43,
   "id": "5e439c13",
   "metadata": {},
   "outputs": [
    {
     "name": "stdout",
     "output_type": "stream",
     "text": [
      "Traing Score:-  [1.0, 0.7879377431906615, 0.7547248471372985, 0.7399944413563091, 0.7338799332962757, 0.7267926625903279, 0.7248471372984991, 0.7220678154530294, 0.716787103946637, 0.7163702056698166, 0.712201222901612, 0.712757087270706, 0.7110894941634242, 0.7090050027793219]\n",
      "Testing Score:-  [0.5714285714285714, 0.6575875486381323, 0.6553640911617565, 0.6614785992217899, 0.6681489716509171, 0.6725958866036688, 0.6742634797109506, 0.6737076153418566, 0.6720400222345748, 0.6748193440800445, 0.6814897165091718, 0.6826014452473597, 0.6826014452473597, 0.6848249027237354]\n"
     ]
    }
   ],
   "source": [
    "print(\"Traing Score:- \",train_scores)\n",
    "print(\"Testing Score:- \",test_scores)"
   ]
  },
  {
   "cell_type": "code",
   "execution_count": 39,
   "id": "a10c3260",
   "metadata": {},
   "outputs": [
    {
     "data": {
      "image/png": "[encoded data removed]",
      "text/plain": [
       "<Figure size 864x360 with 1 Axes>"
      ]
     },
     "metadata": {
      "needs_background": "light"
     },
     "output_type": "display_data"
    }
   ],
   "source": [
    "plt.figure(figsize=(12,5))\n",
    "p = sns.lineplot(range(1,15),train_scores,marker='*',label='Train Score')\n",
    "p = sns.lineplot(range(1,15),test_scores,marker='o',label='Test Score')"
   ]
  },
  {
   "cell_type": "code",
   "execution_count": 41,
   "id": "f8f693dc",
   "metadata": {},
   "outputs": [
    {
     "data": {
      "text/plain": [
       "KNeighborsClassifier(n_neighbors=14)"
      ]
     },
     "execution_count": 41,
     "metadata": {},
     "output_type": "execute_result"
    }
   ],
   "source": [
    "#Setup a knn classifier with k neighbors\n",
    "knn = KNeighborsClassifier(14)\n",
    "knn.fit(X_train,Y_train)"
   ]
  },
  {
   "cell_type": "code",
   "execution_count": 46,
   "id": "dcf945bd",
   "metadata": {
    "scrolled": true
   },
   "outputs": [
    {
     "name": "stdout",
     "output_type": "stream",
     "text": [
      "Training Score:-  0.7090050027793219\n"
     ]
    }
   ],
   "source": [
    "print(\"Training Score:- \",knn.score(X_train,Y_train))"
   ]
  },
  {
   "cell_type": "code",
   "execution_count": 47,
   "id": "63f6b036",
   "metadata": {},
   "outputs": [
    {
     "name": "stdout",
     "output_type": "stream",
     "text": [
      "Testing Score:-  0.6848249027237354\n"
     ]
    }
   ],
   "source": [
    "print(\"Testing Score:- \",knn.score(X_test,Y_test))"
   ]
  },
  {
   "cell_type": "code",
   "execution_count": 50,
   "id": "ff7cabb1",
   "metadata": {},
   "outputs": [],
   "source": [
    "Y_pred_1 = knn.predict(X_test)"
   ]
  },
  {
   "cell_type": "code",
   "execution_count": 51,
   "id": "0e271f88",
   "metadata": {},
   "outputs": [
    {
     "data": {
      "text/plain": [
       "0.6848249027237354"
      ]
     },
     "execution_count": 51,
     "metadata": {},
     "output_type": "execute_result"
    }
   ],
   "source": [
    "accuracy_score(Y_test,Y_pred_1)"
   ]
  }
 ],
 "metadata": {
  "kernelspec": {
   "display_name": "Python 3",
   "language": "python",
   "name": "python3"
  },
  "language_info": {
   "codemirror_mode": {
    "name": "ipython",
    "version": 3
   },
   "file_extension": ".py",
   "mimetype": "text/x-python",
   "name": "python",
   "nbconvert_exporter": "python",
   "pygments_lexer": "ipython3",
   "version": "3.8.8"
  }
 },
 "nbformat": 4,
 "nbformat_minor": 5
}

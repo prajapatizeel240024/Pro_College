{
 "cells": [
  {
   "cell_type": "markdown",
   "id": "7acc571e",
   "metadata": {},
   "source": [
    "# Part-1"
   ]
  },
  {
   "cell_type": "markdown",
   "id": "025ba4b5",
   "metadata": {},
   "source": [
    "Importing Lib"
   ]
  },
  {
   "cell_type": "code",
   "execution_count": 57,
   "id": "f98653ca",
   "metadata": {},
   "outputs": [],
   "source": [
    "import pandas as pd\n",
    "import numpy as np \n",
    "import matplotlib.pyplot as plt\n",
    "%matplotlib inline\n",
    "from sklearn.linear_model import LinearRegression \n",
    "from sklearn.metrics import r2_score,mean_absolute_error,mean_squared_error \n",
    "import seaborn as sns\n",
    "from sklearn.preprocessing import LabelEncoder\n",
    "from sklearn.preprocessing import OneHotEncoder"
   ]
  },
  {
   "cell_type": "markdown",
   "id": "9dacd463",
   "metadata": {},
   "source": [
    "1) Load the given dataset "
   ]
  },
  {
   "cell_type": "code",
   "execution_count": 58,
   "id": "f4580882",
   "metadata": {},
   "outputs": [
    {
     "name": "stdout",
     "output_type": "stream",
     "text": [
      "E:\\Data Sci\\Machince_Langauage\\Ass\n"
     ]
    }
   ],
   "source": [
    "cd E:\\Data Sci\\Machince_Langauage\\Ass"
   ]
  },
  {
   "cell_type": "code",
   "execution_count": 59,
   "id": "8cbb7626",
   "metadata": {},
   "outputs": [
    {
     "data": {
      "text/html": [
       "<div>\n",
       "<style scoped>\n",
       "    .dataframe tbody tr th:only-of-type {\n",
       "        vertical-align: middle;\n",
       "    }\n",
       "\n",
       "    .dataframe tbody tr th {\n",
       "        vertical-align: top;\n",
       "    }\n",
       "\n",
       "    .dataframe thead th {\n",
       "        text-align: right;\n",
       "    }\n",
       "</style>\n",
       "<table border=\"1\" class=\"dataframe\">\n",
       "  <thead>\n",
       "    <tr style=\"text-align: right;\">\n",
       "      <th></th>\n",
       "      <th>Quality_Category</th>\n",
       "      <th>volatileacidity</th>\n",
       "      <th>citricacid</th>\n",
       "      <th>residualsugar</th>\n",
       "      <th>chlorides</th>\n",
       "      <th>freesulfurdioxide</th>\n",
       "      <th>totalsulfurdioxide</th>\n",
       "      <th>density</th>\n",
       "      <th>sulphates</th>\n",
       "      <th>alcohol</th>\n",
       "    </tr>\n",
       "  </thead>\n",
       "  <tbody>\n",
       "    <tr>\n",
       "      <th>0</th>\n",
       "      <td>0</td>\n",
       "      <td>0.30</td>\n",
       "      <td>0.34</td>\n",
       "      <td>1.6</td>\n",
       "      <td>0.049</td>\n",
       "      <td>14</td>\n",
       "      <td>132</td>\n",
       "      <td>0.994</td>\n",
       "      <td>0.49</td>\n",
       "      <td>9.5</td>\n",
       "    </tr>\n",
       "    <tr>\n",
       "      <th>1</th>\n",
       "      <td>0</td>\n",
       "      <td>0.23</td>\n",
       "      <td>0.32</td>\n",
       "      <td>8.5</td>\n",
       "      <td>0.058</td>\n",
       "      <td>47</td>\n",
       "      <td>186</td>\n",
       "      <td>0.996</td>\n",
       "      <td>0.40</td>\n",
       "      <td>9.9</td>\n",
       "    </tr>\n",
       "    <tr>\n",
       "      <th>2</th>\n",
       "      <td>0</td>\n",
       "      <td>0.28</td>\n",
       "      <td>0.40</td>\n",
       "      <td>6.9</td>\n",
       "      <td>0.050</td>\n",
       "      <td>30</td>\n",
       "      <td>97</td>\n",
       "      <td>0.995</td>\n",
       "      <td>0.44</td>\n",
       "      <td>10.1</td>\n",
       "    </tr>\n",
       "    <tr>\n",
       "      <th>3</th>\n",
       "      <td>0</td>\n",
       "      <td>0.32</td>\n",
       "      <td>0.16</td>\n",
       "      <td>7.0</td>\n",
       "      <td>0.045</td>\n",
       "      <td>30</td>\n",
       "      <td>136</td>\n",
       "      <td>0.995</td>\n",
       "      <td>0.47</td>\n",
       "      <td>9.6</td>\n",
       "    </tr>\n",
       "    <tr>\n",
       "      <th>4</th>\n",
       "      <td>0</td>\n",
       "      <td>0.27</td>\n",
       "      <td>0.36</td>\n",
       "      <td>20.7</td>\n",
       "      <td>0.045</td>\n",
       "      <td>45</td>\n",
       "      <td>170</td>\n",
       "      <td>1.001</td>\n",
       "      <td>0.45</td>\n",
       "      <td>8.8</td>\n",
       "    </tr>\n",
       "    <tr>\n",
       "      <th>...</th>\n",
       "      <td>...</td>\n",
       "      <td>...</td>\n",
       "      <td>...</td>\n",
       "      <td>...</td>\n",
       "      <td>...</td>\n",
       "      <td>...</td>\n",
       "      <td>...</td>\n",
       "      <td>...</td>\n",
       "      <td>...</td>\n",
       "      <td>...</td>\n",
       "    </tr>\n",
       "    <tr>\n",
       "      <th>4889</th>\n",
       "      <td>0</td>\n",
       "      <td>0.21</td>\n",
       "      <td>0.29</td>\n",
       "      <td>1.6</td>\n",
       "      <td>0.039</td>\n",
       "      <td>24</td>\n",
       "      <td>92</td>\n",
       "      <td>0.991</td>\n",
       "      <td>0.50</td>\n",
       "      <td>11.2</td>\n",
       "    </tr>\n",
       "    <tr>\n",
       "      <th>4890</th>\n",
       "      <td>0</td>\n",
       "      <td>0.32</td>\n",
       "      <td>0.36</td>\n",
       "      <td>8.0</td>\n",
       "      <td>0.047</td>\n",
       "      <td>57</td>\n",
       "      <td>168</td>\n",
       "      <td>0.995</td>\n",
       "      <td>0.46</td>\n",
       "      <td>9.6</td>\n",
       "    </tr>\n",
       "    <tr>\n",
       "      <th>4891</th>\n",
       "      <td>0</td>\n",
       "      <td>0.24</td>\n",
       "      <td>0.19</td>\n",
       "      <td>1.2</td>\n",
       "      <td>0.041</td>\n",
       "      <td>30</td>\n",
       "      <td>111</td>\n",
       "      <td>0.993</td>\n",
       "      <td>0.46</td>\n",
       "      <td>9.4</td>\n",
       "    </tr>\n",
       "    <tr>\n",
       "      <th>4892</th>\n",
       "      <td>1</td>\n",
       "      <td>0.29</td>\n",
       "      <td>0.30</td>\n",
       "      <td>1.1</td>\n",
       "      <td>0.022</td>\n",
       "      <td>20</td>\n",
       "      <td>110</td>\n",
       "      <td>0.989</td>\n",
       "      <td>0.38</td>\n",
       "      <td>12.8</td>\n",
       "    </tr>\n",
       "    <tr>\n",
       "      <th>4893</th>\n",
       "      <td>0</td>\n",
       "      <td>0.21</td>\n",
       "      <td>0.38</td>\n",
       "      <td>0.8</td>\n",
       "      <td>0.020</td>\n",
       "      <td>22</td>\n",
       "      <td>98</td>\n",
       "      <td>0.989</td>\n",
       "      <td>0.32</td>\n",
       "      <td>11.8</td>\n",
       "    </tr>\n",
       "  </tbody>\n",
       "</table>\n",
       "<p>4894 rows × 10 columns</p>\n",
       "</div>"
      ],
      "text/plain": [
       "      Quality_Category  volatileacidity  citricacid  residualsugar  chlorides  \\\n",
       "0                    0             0.30        0.34            1.6      0.049   \n",
       "1                    0             0.23        0.32            8.5      0.058   \n",
       "2                    0             0.28        0.40            6.9      0.050   \n",
       "3                    0             0.32        0.16            7.0      0.045   \n",
       "4                    0             0.27        0.36           20.7      0.045   \n",
       "...                ...              ...         ...            ...        ...   \n",
       "4889                 0             0.21        0.29            1.6      0.039   \n",
       "4890                 0             0.32        0.36            8.0      0.047   \n",
       "4891                 0             0.24        0.19            1.2      0.041   \n",
       "4892                 1             0.29        0.30            1.1      0.022   \n",
       "4893                 0             0.21        0.38            0.8      0.020   \n",
       "\n",
       "      freesulfurdioxide  totalsulfurdioxide  density  sulphates  alcohol  \n",
       "0                    14                 132    0.994       0.49      9.5  \n",
       "1                    47                 186    0.996       0.40      9.9  \n",
       "2                    30                  97    0.995       0.44     10.1  \n",
       "3                    30                 136    0.995       0.47      9.6  \n",
       "4                    45                 170    1.001       0.45      8.8  \n",
       "...                 ...                 ...      ...        ...      ...  \n",
       "4889                 24                  92    0.991       0.50     11.2  \n",
       "4890                 57                 168    0.995       0.46      9.6  \n",
       "4891                 30                 111    0.993       0.46      9.4  \n",
       "4892                 20                 110    0.989       0.38     12.8  \n",
       "4893                 22                  98    0.989       0.32     11.8  \n",
       "\n",
       "[4894 rows x 10 columns]"
      ]
     },
     "execution_count": 59,
     "metadata": {},
     "output_type": "execute_result"
    }
   ],
   "source": [
    "data = pd.read_csv(\"Ass-6.csv\")\n",
    "data"
   ]
  },
  {
   "cell_type": "markdown",
   "id": "bf3a1c36",
   "metadata": {},
   "source": [
    "2) Print the information from dataset."
   ]
  },
  {
   "cell_type": "code",
   "execution_count": 60,
   "id": "7a44ddbf",
   "metadata": {},
   "outputs": [
    {
     "name": "stdout",
     "output_type": "stream",
     "text": [
      "<class 'pandas.core.frame.DataFrame'>\n",
      "RangeIndex: 4894 entries, 0 to 4893\n",
      "Data columns (total 10 columns):\n",
      " #   Column              Non-Null Count  Dtype  \n",
      "---  ------              --------------  -----  \n",
      " 0   Quality_Category    4894 non-null   int64  \n",
      " 1   volatileacidity     4894 non-null   float64\n",
      " 2   citricacid          4894 non-null   float64\n",
      " 3   residualsugar       4894 non-null   float64\n",
      " 4   chlorides           4894 non-null   float64\n",
      " 5   freesulfurdioxide   4894 non-null   int64  \n",
      " 6   totalsulfurdioxide  4894 non-null   int64  \n",
      " 7   density             4894 non-null   float64\n",
      " 8   sulphates           4894 non-null   float64\n",
      " 9   alcohol             4894 non-null   float64\n",
      "dtypes: float64(7), int64(3)\n",
      "memory usage: 382.5 KB\n"
     ]
    }
   ],
   "source": [
    "data.info()"
   ]
  },
  {
   "cell_type": "markdown",
   "id": "754b313c",
   "metadata": {},
   "source": [
    "3) Describe the dataset."
   ]
  },
  {
   "cell_type": "code",
   "execution_count": 61,
   "id": "b358d6bc",
   "metadata": {},
   "outputs": [
    {
     "data": {
      "text/html": [
       "<div>\n",
       "<style scoped>\n",
       "    .dataframe tbody tr th:only-of-type {\n",
       "        vertical-align: middle;\n",
       "    }\n",
       "\n",
       "    .dataframe tbody tr th {\n",
       "        vertical-align: top;\n",
       "    }\n",
       "\n",
       "    .dataframe thead th {\n",
       "        text-align: right;\n",
       "    }\n",
       "</style>\n",
       "<table border=\"1\" class=\"dataframe\">\n",
       "  <thead>\n",
       "    <tr style=\"text-align: right;\">\n",
       "      <th></th>\n",
       "      <th>Quality_Category</th>\n",
       "      <th>volatileacidity</th>\n",
       "      <th>citricacid</th>\n",
       "      <th>residualsugar</th>\n",
       "      <th>chlorides</th>\n",
       "      <th>freesulfurdioxide</th>\n",
       "      <th>totalsulfurdioxide</th>\n",
       "      <th>density</th>\n",
       "      <th>sulphates</th>\n",
       "      <th>alcohol</th>\n",
       "    </tr>\n",
       "  </thead>\n",
       "  <tbody>\n",
       "    <tr>\n",
       "      <th>count</th>\n",
       "      <td>4894.000000</td>\n",
       "      <td>4894.000000</td>\n",
       "      <td>4894.000000</td>\n",
       "      <td>4894.000000</td>\n",
       "      <td>4894.000000</td>\n",
       "      <td>4894.000000</td>\n",
       "      <td>4894.000000</td>\n",
       "      <td>4894.000000</td>\n",
       "      <td>4894.000000</td>\n",
       "      <td>4894.000000</td>\n",
       "    </tr>\n",
       "    <tr>\n",
       "      <th>mean</th>\n",
       "      <td>0.216387</td>\n",
       "      <td>0.278335</td>\n",
       "      <td>0.334146</td>\n",
       "      <td>6.391582</td>\n",
       "      <td>0.045773</td>\n",
       "      <td>35.311606</td>\n",
       "      <td>138.368615</td>\n",
       "      <td>0.994048</td>\n",
       "      <td>0.489904</td>\n",
       "      <td>10.514610</td>\n",
       "    </tr>\n",
       "    <tr>\n",
       "      <th>std</th>\n",
       "      <td>0.411823</td>\n",
       "      <td>0.100801</td>\n",
       "      <td>0.121047</td>\n",
       "      <td>5.071695</td>\n",
       "      <td>0.021855</td>\n",
       "      <td>17.019553</td>\n",
       "      <td>42.498278</td>\n",
       "      <td>0.003007</td>\n",
       "      <td>0.114153</td>\n",
       "      <td>1.230665</td>\n",
       "    </tr>\n",
       "    <tr>\n",
       "      <th>min</th>\n",
       "      <td>0.000000</td>\n",
       "      <td>0.080000</td>\n",
       "      <td>0.000000</td>\n",
       "      <td>0.600000</td>\n",
       "      <td>0.009000</td>\n",
       "      <td>2.000000</td>\n",
       "      <td>9.000000</td>\n",
       "      <td>0.987000</td>\n",
       "      <td>0.220000</td>\n",
       "      <td>8.000000</td>\n",
       "    </tr>\n",
       "    <tr>\n",
       "      <th>25%</th>\n",
       "      <td>0.000000</td>\n",
       "      <td>0.210000</td>\n",
       "      <td>0.270000</td>\n",
       "      <td>1.700000</td>\n",
       "      <td>0.036000</td>\n",
       "      <td>23.000000</td>\n",
       "      <td>108.000000</td>\n",
       "      <td>0.992000</td>\n",
       "      <td>0.410000</td>\n",
       "      <td>9.500000</td>\n",
       "    </tr>\n",
       "    <tr>\n",
       "      <th>50%</th>\n",
       "      <td>0.000000</td>\n",
       "      <td>0.260000</td>\n",
       "      <td>0.320000</td>\n",
       "      <td>5.200000</td>\n",
       "      <td>0.043000</td>\n",
       "      <td>34.000000</td>\n",
       "      <td>134.000000</td>\n",
       "      <td>0.994000</td>\n",
       "      <td>0.470000</td>\n",
       "      <td>10.400000</td>\n",
       "    </tr>\n",
       "    <tr>\n",
       "      <th>75%</th>\n",
       "      <td>0.000000</td>\n",
       "      <td>0.320000</td>\n",
       "      <td>0.390000</td>\n",
       "      <td>9.900000</td>\n",
       "      <td>0.050000</td>\n",
       "      <td>46.000000</td>\n",
       "      <td>167.000000</td>\n",
       "      <td>0.996000</td>\n",
       "      <td>0.550000</td>\n",
       "      <td>11.400000</td>\n",
       "    </tr>\n",
       "    <tr>\n",
       "      <th>max</th>\n",
       "      <td>1.000000</td>\n",
       "      <td>1.100000</td>\n",
       "      <td>1.660000</td>\n",
       "      <td>65.800000</td>\n",
       "      <td>0.346000</td>\n",
       "      <td>289.000000</td>\n",
       "      <td>440.000000</td>\n",
       "      <td>1.039000</td>\n",
       "      <td>1.080000</td>\n",
       "      <td>14.200000</td>\n",
       "    </tr>\n",
       "  </tbody>\n",
       "</table>\n",
       "</div>"
      ],
      "text/plain": [
       "       Quality_Category  volatileacidity   citricacid  residualsugar  \\\n",
       "count       4894.000000      4894.000000  4894.000000    4894.000000   \n",
       "mean           0.216387         0.278335     0.334146       6.391582   \n",
       "std            0.411823         0.100801     0.121047       5.071695   \n",
       "min            0.000000         0.080000     0.000000       0.600000   \n",
       "25%            0.000000         0.210000     0.270000       1.700000   \n",
       "50%            0.000000         0.260000     0.320000       5.200000   \n",
       "75%            0.000000         0.320000     0.390000       9.900000   \n",
       "max            1.000000         1.100000     1.660000      65.800000   \n",
       "\n",
       "         chlorides  freesulfurdioxide  totalsulfurdioxide      density  \\\n",
       "count  4894.000000        4894.000000         4894.000000  4894.000000   \n",
       "mean      0.045773          35.311606          138.368615     0.994048   \n",
       "std       0.021855          17.019553           42.498278     0.003007   \n",
       "min       0.009000           2.000000            9.000000     0.987000   \n",
       "25%       0.036000          23.000000          108.000000     0.992000   \n",
       "50%       0.043000          34.000000          134.000000     0.994000   \n",
       "75%       0.050000          46.000000          167.000000     0.996000   \n",
       "max       0.346000         289.000000          440.000000     1.039000   \n",
       "\n",
       "         sulphates      alcohol  \n",
       "count  4894.000000  4894.000000  \n",
       "mean      0.489904    10.514610  \n",
       "std       0.114153     1.230665  \n",
       "min       0.220000     8.000000  \n",
       "25%       0.410000     9.500000  \n",
       "50%       0.470000    10.400000  \n",
       "75%       0.550000    11.400000  \n",
       "max       1.080000    14.200000  "
      ]
     },
     "execution_count": 61,
     "metadata": {},
     "output_type": "execute_result"
    }
   ],
   "source": [
    "data.describe()"
   ]
  },
  {
   "cell_type": "markdown",
   "id": "317930c1",
   "metadata": {},
   "source": [
    "4) Print the column names from dataset."
   ]
  },
  {
   "cell_type": "code",
   "execution_count": 62,
   "id": "a4e047f8",
   "metadata": {},
   "outputs": [
    {
     "data": {
      "text/plain": [
       "Index(['Quality_Category', 'volatileacidity', 'citricacid', 'residualsugar',\n",
       "       'chlorides', 'freesulfurdioxide', 'totalsulfurdioxide', 'density',\n",
       "       'sulphates', 'alcohol'],\n",
       "      dtype='object')"
      ]
     },
     "execution_count": 62,
     "metadata": {},
     "output_type": "execute_result"
    }
   ],
   "source": [
    "data.columns"
   ]
  },
  {
   "cell_type": "markdown",
   "id": "e9bbfa7f",
   "metadata": {},
   "source": [
    "5) Display the barchart of Quality_Category value counts."
   ]
  },
  {
   "cell_type": "code",
   "execution_count": 63,
   "id": "1262866e",
   "metadata": {},
   "outputs": [
    {
     "data": {
      "text/plain": [
       "<AxesSubplot:>"
      ]
     },
     "execution_count": 63,
     "metadata": {},
     "output_type": "execute_result"
    },
    {
     "data": {
      "image/png": "[encoded data removed]",
      "text/plain": [
       "<Figure size 432x288 with 1 Axes>"
      ]
     },
     "metadata": {
      "needs_background": "light"
     },
     "output_type": "display_data"
    }
   ],
   "source": [
    "data['Quality_Category'].value_counts().plot(kind = 'bar')"
   ]
  },
  {
   "cell_type": "markdown",
   "id": "92e0f875",
   "metadata": {},
   "source": [
    "6) Display scatter plot between volatileacidity & citricacid."
   ]
  },
  {
   "cell_type": "code",
   "execution_count": 64,
   "id": "6d090362",
   "metadata": {},
   "outputs": [],
   "source": [
    "x = data['volatileacidity']\n",
    "y = data['citricacid']"
   ]
  },
  {
   "cell_type": "code",
   "execution_count": 65,
   "id": "888facd3",
   "metadata": {},
   "outputs": [
    {
     "data": {
      "image/png": "[encoded data removed]",
      "text/plain": [
       "<Figure size 432x288 with 1 Axes>"
      ]
     },
     "metadata": {
      "needs_background": "light"
     },
     "output_type": "display_data"
    }
   ],
   "source": [
    "plt.xlabel(\"Volatileacidity\")\n",
    "plt.ylabel(\"Citricacid\")\n",
    "plt.scatter(x,y)\n",
    "plt.show()"
   ]
  },
  {
   "cell_type": "markdown",
   "id": "d5ab4b90",
   "metadata": {},
   "source": [
    "7) Display scatter plot between residualsuger & chlorides."
   ]
  },
  {
   "cell_type": "code",
   "execution_count": 66,
   "id": "45bd84a6",
   "metadata": {},
   "outputs": [],
   "source": [
    "x = data['residualsugar']\n",
    "y = data['chlorides']"
   ]
  },
  {
   "cell_type": "code",
   "execution_count": 67,
   "id": "92e2b042",
   "metadata": {},
   "outputs": [
    {
     "data": {
      "image/png": "[encoded data removed]",
      "text/plain": [
       "<Figure size 432x288 with 1 Axes>"
      ]
     },
     "metadata": {
      "needs_background": "light"
     },
     "output_type": "display_data"
    }
   ],
   "source": [
    "plt.xlabel(\"Residualsugar\")\n",
    "plt.ylabel(\"Chlorides\")\n",
    "plt.scatter(x,y)\n",
    "plt.show()"
   ]
  },
  {
   "cell_type": "markdown",
   "id": "3f7be702",
   "metadata": {},
   "source": [
    "8) Display scatterplot between sulphates and alcohol."
   ]
  },
  {
   "cell_type": "code",
   "execution_count": 68,
   "id": "5c7c8290",
   "metadata": {},
   "outputs": [],
   "source": [
    "x = data['sulphates']\n",
    "y = data['alcohol']"
   ]
  },
  {
   "cell_type": "code",
   "execution_count": 69,
   "id": "4f8e6af8",
   "metadata": {},
   "outputs": [
    {
     "data": {
      "image/png": "[encoded data removed]",
      "text/plain": [
       "<Figure size 432x288 with 1 Axes>"
      ]
     },
     "metadata": {
      "needs_background": "light"
     },
     "output_type": "display_data"
    }
   ],
   "source": [
    "plt.xlabel(\"Sulphates\")\n",
    "plt.ylabel(\"Alcohol\")\n",
    "plt.scatter(x,y)\n",
    "plt.show()"
   ]
  },
  {
   "cell_type": "markdown",
   "id": "ceb2abaf",
   "metadata": {},
   "source": [
    "9) Display histplot of dataset."
   ]
  },
  {
   "cell_type": "code",
   "execution_count": 70,
   "id": "cfe2d096",
   "metadata": {},
   "outputs": [
    {
     "data": {
      "text/plain": [
       "array([[<AxesSubplot:title={'center':'Quality_Category'}>,\n",
       "        <AxesSubplot:title={'center':'volatileacidity'}>,\n",
       "        <AxesSubplot:title={'center':'citricacid'}>],\n",
       "       [<AxesSubplot:title={'center':'residualsugar'}>,\n",
       "        <AxesSubplot:title={'center':'chlorides'}>,\n",
       "        <AxesSubplot:title={'center':'freesulfurdioxide'}>],\n",
       "       [<AxesSubplot:title={'center':'totalsulfurdioxide'}>,\n",
       "        <AxesSubplot:title={'center':'density'}>,\n",
       "        <AxesSubplot:title={'center':'sulphates'}>],\n",
       "       [<AxesSubplot:title={'center':'alcohol'}>, <AxesSubplot:>,\n",
       "        <AxesSubplot:>]], dtype=object)"
      ]
     },
     "execution_count": 70,
     "metadata": {},
     "output_type": "execute_result"
    },
    {
     "data": {
      "image/png": "[encoded data removed]",
      "text/plain": [
       "<Figure size 864x864 with 12 Axes>"
      ]
     },
     "metadata": {
      "needs_background": "light"
     },
     "output_type": "display_data"
    }
   ],
   "source": [
    "data.hist(figsize = (12,12))"
   ]
  },
  {
   "cell_type": "markdown",
   "id": "02a871ab",
   "metadata": {},
   "source": [
    "10) Find the null values."
   ]
  },
  {
   "cell_type": "code",
   "execution_count": 71,
   "id": "3296b122",
   "metadata": {},
   "outputs": [
    {
     "data": {
      "text/plain": [
       "Quality_Category      0\n",
       "volatileacidity       0\n",
       "citricacid            0\n",
       "residualsugar         0\n",
       "chlorides             0\n",
       "freesulfurdioxide     0\n",
       "totalsulfurdioxide    0\n",
       "density               0\n",
       "sulphates             0\n",
       "alcohol               0\n",
       "dtype: int64"
      ]
     },
     "execution_count": 71,
     "metadata": {},
     "output_type": "execute_result"
    }
   ],
   "source": [
    "data.isnull().sum()"
   ]
  },
  {
   "cell_type": "markdown",
   "id": "592e03d8",
   "metadata": {},
   "source": [
    "11) Create features and target data."
   ]
  },
  {
   "cell_type": "code",
   "execution_count": 72,
   "id": "b0832914",
   "metadata": {},
   "outputs": [],
   "source": [
    "Y = data['Quality_Category']\n",
    "X = data.drop([\"Quality_Category\"],axis = 1)"
   ]
  },
  {
   "cell_type": "code",
   "execution_count": 73,
   "id": "a96a2abe",
   "metadata": {
    "scrolled": true
   },
   "outputs": [
    {
     "name": "stdout",
     "output_type": "stream",
     "text": [
      "X:-  (4894, 9)\n",
      "Y:-  (4894,)\n"
     ]
    }
   ],
   "source": [
    "print(\"X:- \",X.shape)\n",
    "print(\"Y:- \",Y.shape)"
   ]
  },
  {
   "cell_type": "markdown",
   "id": "a11b096c",
   "metadata": {},
   "source": [
    "# Part-2: Working with Models"
   ]
  },
  {
   "cell_type": "markdown",
   "id": "1df4c454",
   "metadata": {},
   "source": [
    "1) Split into training and testing."
   ]
  },
  {
   "cell_type": "code",
   "execution_count": 74,
   "id": "d11adea6",
   "metadata": {},
   "outputs": [],
   "source": [
    "from sklearn.model_selection import train_test_split\n",
    "X_train,X_test,Y_train,Y_test = train_test_split(X,Y,test_size=0.2)"
   ]
  },
  {
   "cell_type": "code",
   "execution_count": 75,
   "id": "bfddd8b9",
   "metadata": {},
   "outputs": [
    {
     "name": "stdout",
     "output_type": "stream",
     "text": [
      "Shape of Training data for X:-  (3915, 9)\n",
      "Shape of Training data for Y:-  (3915,)\n",
      "Shape of Testing data for X:-  (979, 9)\n",
      "Shape of Testing data for Y:-  (979,)\n"
     ]
    }
   ],
   "source": [
    "print(\"Shape of Training data for X:- \",X_train.shape)\n",
    "print(\"Shape of Training data for Y:- \",Y_train.shape)\n",
    "print(\"Shape of Testing data for X:- \",X_test.shape)\n",
    "print(\"Shape of Testing data for Y:- \",Y_test.shape)"
   ]
  },
  {
   "cell_type": "markdown",
   "id": "7649c867",
   "metadata": {},
   "source": [
    "2) Apply support vector machine. "
   ]
  },
  {
   "cell_type": "code",
   "execution_count": 76,
   "id": "85b0cc41",
   "metadata": {},
   "outputs": [],
   "source": [
    "# import SVC classifier\n",
    "from sklearn.svm import SVC"
   ]
  },
  {
   "cell_type": "code",
   "execution_count": 78,
   "id": "d6aa5034",
   "metadata": {
    "scrolled": true
   },
   "outputs": [
    {
     "data": {
      "text/plain": [
       "SVC()"
      ]
     },
     "execution_count": 78,
     "metadata": {},
     "output_type": "execute_result"
    }
   ],
   "source": [
    "clf = SVC()\n",
    "clf.fit(X_train,Y_train)"
   ]
  },
  {
   "cell_type": "markdown",
   "id": "d0ff74df",
   "metadata": {},
   "source": [
    "3) Show training score."
   ]
  },
  {
   "cell_type": "code",
   "execution_count": 79,
   "id": "852a4ee1",
   "metadata": {},
   "outputs": [
    {
     "name": "stdout",
     "output_type": "stream",
     "text": [
      "Traning Score:-  0.7854406130268199\n"
     ]
    }
   ],
   "source": [
    "print(\"Traning Score:- \",clf.score(X_train,Y_train))"
   ]
  },
  {
   "cell_type": "markdown",
   "id": "2887a9af",
   "metadata": {},
   "source": [
    "4) show the testing score."
   ]
  },
  {
   "cell_type": "code",
   "execution_count": 80,
   "id": "949b8d7a",
   "metadata": {},
   "outputs": [
    {
     "name": "stdout",
     "output_type": "stream",
     "text": [
      "Testing Score:-  0.7763023493360572\n"
     ]
    }
   ],
   "source": [
    "print(\"Testing Score:- \",clf.score(X_test,Y_test))"
   ]
  },
  {
   "cell_type": "markdown",
   "id": "330c124e",
   "metadata": {},
   "source": [
    "5) Show the accuracy. "
   ]
  },
  {
   "cell_type": "code",
   "execution_count": 83,
   "id": "17a65116",
   "metadata": {},
   "outputs": [],
   "source": [
    "from sklearn.metrics import accuracy_score"
   ]
  },
  {
   "cell_type": "code",
   "execution_count": 85,
   "id": "5254ada4",
   "metadata": {},
   "outputs": [
    {
     "name": "stdout",
     "output_type": "stream",
     "text": [
      "Model accuracy score  without scaling  0.7763\n"
     ]
    }
   ],
   "source": [
    "Y_pred=clf.predict(X_test)\n",
    "print('Model accuracy score  without scaling  {0:0.4f}'. format(accuracy_score(Y_test,Y_pred)))"
   ]
  },
  {
   "cell_type": "markdown",
   "id": "3769c7a7",
   "metadata": {},
   "source": [
    "# With Feature Scaling"
   ]
  },
  {
   "cell_type": "code",
   "execution_count": 86,
   "id": "93755a7a",
   "metadata": {},
   "outputs": [],
   "source": [
    "#create column list\n",
    "col = X_train.columns"
   ]
  },
  {
   "cell_type": "code",
   "execution_count": 87,
   "id": "97d4c8aa",
   "metadata": {},
   "outputs": [],
   "source": [
    "from sklearn.preprocessing import StandardScaler\n",
    "scaler = StandardScaler()\n",
    "X_train = scaler.fit_transform(X_train)\n",
    "X_test = scaler.transform(X_test)"
   ]
  },
  {
   "cell_type": "markdown",
   "id": "61837470",
   "metadata": {},
   "source": [
    "convert into dataframe"
   ]
  },
  {
   "cell_type": "code",
   "execution_count": 88,
   "id": "3bc312c6",
   "metadata": {},
   "outputs": [
    {
     "data": {
      "text/html": [
       "<div>\n",
       "<style scoped>\n",
       "    .dataframe tbody tr th:only-of-type {\n",
       "        vertical-align: middle;\n",
       "    }\n",
       "\n",
       "    .dataframe tbody tr th {\n",
       "        vertical-align: top;\n",
       "    }\n",
       "\n",
       "    .dataframe thead tr th {\n",
       "        text-align: left;\n",
       "    }\n",
       "</style>\n",
       "<table border=\"1\" class=\"dataframe\">\n",
       "  <thead>\n",
       "    <tr>\n",
       "      <th></th>\n",
       "      <th>volatileacidity</th>\n",
       "      <th>citricacid</th>\n",
       "      <th>residualsugar</th>\n",
       "      <th>chlorides</th>\n",
       "      <th>freesulfurdioxide</th>\n",
       "      <th>totalsulfurdioxide</th>\n",
       "      <th>density</th>\n",
       "      <th>sulphates</th>\n",
       "      <th>alcohol</th>\n",
       "    </tr>\n",
       "  </thead>\n",
       "  <tbody>\n",
       "    <tr>\n",
       "      <th>0</th>\n",
       "      <td>-0.282239</td>\n",
       "      <td>-1.275444</td>\n",
       "      <td>-0.981607</td>\n",
       "      <td>0.470267</td>\n",
       "      <td>-1.304295</td>\n",
       "      <td>-0.039988</td>\n",
       "      <td>-0.021862</td>\n",
       "      <td>-0.608684</td>\n",
       "      <td>-0.823687</td>\n",
       "    </tr>\n",
       "    <tr>\n",
       "      <th>1</th>\n",
       "      <td>0.416600</td>\n",
       "      <td>0.946389</td>\n",
       "      <td>-0.686878</td>\n",
       "      <td>-0.767522</td>\n",
       "      <td>0.094823</td>\n",
       "      <td>-1.047133</td>\n",
       "      <td>-1.343712</td>\n",
       "      <td>0.970681</td>\n",
       "      <td>1.534705</td>\n",
       "    </tr>\n",
       "    <tr>\n",
       "      <th>2</th>\n",
       "      <td>0.716103</td>\n",
       "      <td>-0.617123</td>\n",
       "      <td>0.079417</td>\n",
       "      <td>-0.538301</td>\n",
       "      <td>0.036527</td>\n",
       "      <td>-0.438162</td>\n",
       "      <td>-0.682787</td>\n",
       "      <td>-0.784169</td>\n",
       "      <td>0.802790</td>\n",
       "    </tr>\n",
       "    <tr>\n",
       "      <th>3</th>\n",
       "      <td>-0.282239</td>\n",
       "      <td>-1.110864</td>\n",
       "      <td>-0.981607</td>\n",
       "      <td>-0.996742</td>\n",
       "      <td>-0.371549</td>\n",
       "      <td>-0.883179</td>\n",
       "      <td>-0.682787</td>\n",
       "      <td>0.444226</td>\n",
       "      <td>0.233523</td>\n",
       "    </tr>\n",
       "    <tr>\n",
       "      <th>4</th>\n",
       "      <td>-1.679917</td>\n",
       "      <td>-0.617123</td>\n",
       "      <td>1.651305</td>\n",
       "      <td>0.332735</td>\n",
       "      <td>0.502899</td>\n",
       "      <td>-1.023711</td>\n",
       "      <td>0.969525</td>\n",
       "      <td>-1.222881</td>\n",
       "      <td>-0.579716</td>\n",
       "    </tr>\n",
       "  </tbody>\n",
       "</table>\n",
       "</div>"
      ],
      "text/plain": [
       "  volatileacidity citricacid residualsugar chlorides freesulfurdioxide  \\\n",
       "0       -0.282239  -1.275444     -0.981607  0.470267         -1.304295   \n",
       "1        0.416600   0.946389     -0.686878 -0.767522          0.094823   \n",
       "2        0.716103  -0.617123      0.079417 -0.538301          0.036527   \n",
       "3       -0.282239  -1.110864     -0.981607 -0.996742         -0.371549   \n",
       "4       -1.679917  -0.617123      1.651305  0.332735          0.502899   \n",
       "\n",
       "  totalsulfurdioxide   density sulphates   alcohol  \n",
       "0          -0.039988 -0.021862 -0.608684 -0.823687  \n",
       "1          -1.047133 -1.343712  0.970681  1.534705  \n",
       "2          -0.438162 -0.682787 -0.784169  0.802790  \n",
       "3          -0.883179 -0.682787  0.444226  0.233523  \n",
       "4          -1.023711  0.969525 -1.222881 -0.579716  "
      ]
     },
     "execution_count": 88,
     "metadata": {},
     "output_type": "execute_result"
    }
   ],
   "source": [
    "# create dataframe and give columns name\n",
    "X_train = pd.DataFrame(X_train, columns=[col])\n",
    "X_test = pd.DataFrame(X_test, columns=[col])\n",
    "X_train.head()"
   ]
  },
  {
   "cell_type": "markdown",
   "id": "eaa18635",
   "metadata": {},
   "source": [
    "Run SVM with polynomial kernel "
   ]
  },
  {
   "cell_type": "code",
   "execution_count": 89,
   "id": "93cce62f",
   "metadata": {},
   "outputs": [],
   "source": [
    "from sklearn.svm import SVC\n",
    "from sklearn.metrics import accuracy_score"
   ]
  },
  {
   "cell_type": "code",
   "execution_count": 90,
   "id": "b6151cf0",
   "metadata": {},
   "outputs": [
    {
     "data": {
      "text/plain": [
       "SVC()"
      ]
     },
     "execution_count": 90,
     "metadata": {},
     "output_type": "execute_result"
    }
   ],
   "source": [
    "# instantiate classifier with default hyperparameters\n",
    "svc=SVC() \n",
    "svc.fit(X_train,Y_train)"
   ]
  },
  {
   "cell_type": "code",
   "execution_count": 92,
   "id": "b253b08c",
   "metadata": {},
   "outputs": [
    {
     "name": "stdout",
     "output_type": "stream",
     "text": [
      "Model accuracy score rbf  0.8253\n"
     ]
    }
   ],
   "source": [
    "# make predictions on test set\n",
    "Y_pred=svc.predict(X_test)\n",
    "print('Model accuracy score rbf  {0:0.4f}'. format(accuracy_score(Y_test,Y_pred)))"
   ]
  },
  {
   "cell_type": "markdown",
   "id": "a9ecd3cd",
   "metadata": {},
   "source": [
    "# Run SVM with  c=100"
   ]
  },
  {
   "cell_type": "markdown",
   "id": "bdf83c21",
   "metadata": {},
   "source": [
    "6) create a new model and try it with parameter c = 100"
   ]
  },
  {
   "cell_type": "code",
   "execution_count": 94,
   "id": "23979078",
   "metadata": {},
   "outputs": [
    {
     "data": {
      "text/plain": [
       "SVC(C=100)"
      ]
     },
     "execution_count": 94,
     "metadata": {},
     "output_type": "execute_result"
    }
   ],
   "source": [
    "# instantiate classifier with rbf kernel and C=100\n",
    "svc_1=SVC(C=100) \n",
    "# fit classifier to training set\n",
    "svc_1.fit(X_train,Y_train)"
   ]
  },
  {
   "cell_type": "markdown",
   "id": "e200f744",
   "metadata": {},
   "source": [
    "Show training score"
   ]
  },
  {
   "cell_type": "code",
   "execution_count": 95,
   "id": "1b7d4210",
   "metadata": {},
   "outputs": [
    {
     "name": "stdout",
     "output_type": "stream",
     "text": [
      "Traning Score:-  0.9044699872286079\n"
     ]
    }
   ],
   "source": [
    "print(\"Traning Score:- \",svc_1.score(X_train,Y_train))"
   ]
  },
  {
   "cell_type": "markdown",
   "id": "041e1061",
   "metadata": {},
   "source": [
    "Show the testing score."
   ]
  },
  {
   "cell_type": "code",
   "execution_count": 96,
   "id": "e9289eba",
   "metadata": {},
   "outputs": [
    {
     "name": "stdout",
     "output_type": "stream",
     "text": [
      "Testing Score:-  0.8345250255362615\n"
     ]
    }
   ],
   "source": [
    "print(\"Testing Score:- \",svc_1.score(X_test,Y_test))"
   ]
  },
  {
   "cell_type": "markdown",
   "id": "a5c1a499",
   "metadata": {},
   "source": [
    "Show the accuracy."
   ]
  },
  {
   "cell_type": "code",
   "execution_count": 97,
   "id": "ac7822d0",
   "metadata": {},
   "outputs": [
    {
     "name": "stdout",
     "output_type": "stream",
     "text": [
      "Model accuracy score rbf  0.8345\n"
     ]
    }
   ],
   "source": [
    "C_Y_pred = svc_1.predict(X_test)\n",
    "print('Model accuracy score rbf  {0:0.4f}'. format(accuracy_score(Y_test,C_Y_pred)))"
   ]
  }
 ],
 "metadata": {
  "kernelspec": {
   "display_name": "Python 3",
   "language": "python",
   "name": "python3"
  },
  "language_info": {
   "codemirror_mode": {
    "name": "ipython",
    "version": 3
   },
   "file_extension": ".py",
   "mimetype": "text/x-python",
   "name": "python",
   "nbconvert_exporter": "python",
   "pygments_lexer": "ipython3",
   "version": "3.8.8"
  }
 },
 "nbformat": 4,
 "nbformat_minor": 5
}

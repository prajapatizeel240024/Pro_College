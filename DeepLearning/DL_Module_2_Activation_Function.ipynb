{
 "cells": [
  {
   "cell_type": "markdown",
   "metadata": {
    "id": "EU8HdjZuZUEp"
   },
   "source": [
    "# Module 1 - Artificial Neural Network\n",
    "In this module we will learn about different activations used in Neural Networks"
   ]
  },
  {
   "cell_type": "markdown",
   "metadata": {
    "id": "zUbVY4TbdOoX"
   },
   "source": [
    "## **Sigmoid Function**"
   ]
  },
  {
   "cell_type": "code",
   "execution_count": 1,
   "metadata": {
    "id": "3wAfwKJTdNnX"
   },
   "outputs": [],
   "source": [
    "import math\n",
    "#Define Sigmoid Function \n",
    "def sigmoid(x):\n",
    "  val =  1 / (1 + math.exp(-x))\n",
    "  return val"
   ]
  },
  {
   "cell_type": "code",
   "execution_count": 2,
   "metadata": {
    "colab": {
     "base_uri": "https://localhost:8080/"
    },
    "id": "hPHVGOmrdW1U",
    "outputId": "48e65061-e166-401e-afc6-57feb055056c"
   },
   "outputs": [
    {
     "data": {
      "text/plain": [
       "1.0"
      ]
     },
     "execution_count": 2,
     "metadata": {},
     "output_type": "execute_result"
    }
   ],
   "source": [
    "sigmoid(100)"
   ]
  },
  {
   "cell_type": "code",
   "execution_count": 3,
   "metadata": {
    "colab": {
     "base_uri": "https://localhost:8080/"
    },
    "id": "396r5Vr-dYvm",
    "outputId": "459737ca-0cb3-4686-8cce-6d6ee1b538d0"
   },
   "outputs": [
    {
     "data": {
      "text/plain": [
       "3.059022269256247e-07"
      ]
     },
     "execution_count": 3,
     "metadata": {},
     "output_type": "execute_result"
    }
   ],
   "source": [
    "sigmoid(-15)"
   ]
  },
  {
   "cell_type": "code",
   "execution_count": 6,
   "metadata": {
    "colab": {
     "base_uri": "https://localhost:8080/"
    },
    "id": "mDwBqm7FdbPp",
    "outputId": "1f5f04cc-851c-431a-fa0f-69854bc50600"
   },
   "outputs": [
    {
     "data": {
      "text/plain": [
       "1.0"
      ]
     },
     "execution_count": 6,
     "metadata": {},
     "output_type": "execute_result"
    }
   ],
   "source": [
    "sigmoid(300)"
   ]
  },
  {
   "cell_type": "code",
   "execution_count": 7,
   "metadata": {
    "colab": {
     "base_uri": "https://localhost:8080/"
    },
    "id": "OmURM08EdddT",
    "outputId": "096d3a93-ed0d-4018-80f9-453d7827437b"
   },
   "outputs": [
    {
     "data": {
      "text/plain": [
       "0.6224593312018546"
      ]
     },
     "execution_count": 7,
     "metadata": {},
     "output_type": "execute_result"
    }
   ],
   "source": [
    "sigmoid(0.5)"
   ]
  },
  {
   "cell_type": "markdown",
   "metadata": {
    "id": "Rz6M3DBnZztU"
   },
   "source": [
    "## **Ploting a Sigmoid function**"
   ]
  },
  {
   "cell_type": "code",
   "execution_count": 8,
   "metadata": {
    "colab": {
     "base_uri": "https://localhost:8080/",
     "height": 312
    },
    "id": "xNsOLnX0W0e6",
    "outputId": "b585c03b-b6b0-4418-b391-05843a96bec2"
   },
   "outputs": [
    {
     "data": {
      "text/plain": [
       "Text(0.5, 1.0, 'Sigrnoid Function')"
      ]
     },
     "execution_count": 8,
     "metadata": {},
     "output_type": "execute_result"
    },
    {
     "data": {
      "image/png": "[encoded data removed]",
      "text/plain": [
       "<Figure size 432x288 with 1 Axes>"
      ]
     },
     "metadata": {
      "needs_background": "light"
     },
     "output_type": "display_data"
    }
   ],
   "source": [
    "# Import required Libraries \n",
    "import numpy as np \n",
    "import matplotlib.pyplot as plt \n",
    "# Generating input datoset :  \n",
    "input =  np.linspace(-10,10,106) \n",
    "\n",
    "# Output vaLues :\n",
    "sigmoid = np.vectorize(sigmoid)\n",
    "#output = sigmoid(input)\n",
    "output = sigmoid(input)\n",
    "#PLotting the graph for sigmold function : \n",
    "plt.plot(input,output) \n",
    "plt.xlabel(\"Input\") \n",
    "plt.ylabel('Output') \n",
    "plt.title(\"Sigrnoid Function\") "
   ]
  },
  {
   "cell_type": "markdown",
   "metadata": {
    "id": "w4qwyDZqeTYh"
   },
   "source": [
    "## **TanH function**"
   ]
  },
  {
   "cell_type": "code",
   "execution_count": 9,
   "metadata": {
    "id": "iA_uvmprXpur"
   },
   "outputs": [],
   "source": [
    "def tanh(x):\n",
    "  val = (math.exp(x) - math.exp(-x)) / (math.exp(x) + math.exp(-x))\n",
    "  return val"
   ]
  },
  {
   "cell_type": "code",
   "execution_count": 10,
   "metadata": {
    "colab": {
     "base_uri": "https://localhost:8080/"
    },
    "id": "arto1Z00eY4A",
    "outputId": "9345e48d-475f-4002-9a48-5abe77fb5c12"
   },
   "outputs": [
    {
     "data": {
      "text/plain": [
       "-0.9999999999998128"
      ]
     },
     "execution_count": 10,
     "metadata": {},
     "output_type": "execute_result"
    }
   ],
   "source": [
    "tanh(-15)"
   ]
  },
  {
   "cell_type": "code",
   "execution_count": 11,
   "metadata": {
    "colab": {
     "base_uri": "https://localhost:8080/"
    },
    "id": "9TQb1RMfeaJ5",
    "outputId": "fd1ff205-def8-4106-d2d9-3f70de9f520a"
   },
   "outputs": [
    {
     "data": {
      "text/plain": [
       "1.0"
      ]
     },
     "execution_count": 11,
     "metadata": {},
     "output_type": "execute_result"
    }
   ],
   "source": [
    "tanh(100)"
   ]
  },
  {
   "cell_type": "code",
   "execution_count": 12,
   "metadata": {
    "colab": {
     "base_uri": "https://localhost:8080/"
    },
    "id": "7SaQB3pTebb_",
    "outputId": "9edac90e-b01d-48f1-80df-e6da96402c60"
   },
   "outputs": [
    {
     "data": {
      "text/plain": [
       "0.4621171572600098"
      ]
     },
     "execution_count": 12,
     "metadata": {},
     "output_type": "execute_result"
    }
   ],
   "source": [
    "tanh(0.5)"
   ]
  },
  {
   "cell_type": "code",
   "execution_count": 13,
   "metadata": {
    "colab": {
     "base_uri": "https://localhost:8080/",
     "height": 312
    },
    "id": "t4TMvDMqechU",
    "outputId": "27bd38e2-6f48-434b-b9f4-44c9498be3db"
   },
   "outputs": [
    {
     "data": {
      "text/plain": [
       "Text(0.5, 1.0, 'Tanh Function')"
      ]
     },
     "execution_count": 13,
     "metadata": {},
     "output_type": "execute_result"
    },
    {
     "data": {
      "image/png": "[encoded data removed]",
      "text/plain": [
       "<Figure size 432x288 with 1 Axes>"
      ]
     },
     "metadata": {
      "needs_background": "light"
     },
     "output_type": "display_data"
    }
   ],
   "source": [
    "# Generating input datoset :  \n",
    "input =  np.linspace(-10,10,106) \n",
    "f2 = np.vectorize(tanh)\n",
    "# Output vaLues : \n",
    "output = f2(input) \n",
    "#PLotting the graph for sigmold function : \n",
    "plt.plot(input,output) \n",
    "plt.xlabel(\"Input\") \n",
    "plt.ylabel('Output') \n",
    "plt.title(\"Tanh Function\") "
   ]
  },
  {
   "cell_type": "markdown",
   "metadata": {
    "id": "wDSPkHXwfwIB"
   },
   "source": [
    "## **ReLu Activation function**"
   ]
  },
  {
   "cell_type": "code",
   "execution_count": 14,
   "metadata": {
    "id": "rDjTmbNWemoS"
   },
   "outputs": [],
   "source": [
    "def relu(x):\n",
    "  val = max(0,x)\n",
    "  return val"
   ]
  },
  {
   "cell_type": "code",
   "execution_count": 15,
   "metadata": {
    "colab": {
     "base_uri": "https://localhost:8080/"
    },
    "id": "-QZEKgiUf4y7",
    "outputId": "9aecda3a-d894-41b0-a39f-17383364c885"
   },
   "outputs": [
    {
     "data": {
      "text/plain": [
       "0"
      ]
     },
     "execution_count": 15,
     "metadata": {},
     "output_type": "execute_result"
    }
   ],
   "source": [
    "relu(-15)"
   ]
  },
  {
   "cell_type": "code",
   "execution_count": 16,
   "metadata": {
    "colab": {
     "base_uri": "https://localhost:8080/"
    },
    "id": "nWz8f_PJf8QZ",
    "outputId": "e1cf6f55-c263-4ccf-82b8-99838a2ae51a"
   },
   "outputs": [
    {
     "data": {
      "text/plain": [
       "100"
      ]
     },
     "execution_count": 16,
     "metadata": {},
     "output_type": "execute_result"
    }
   ],
   "source": [
    "relu(100)"
   ]
  },
  {
   "cell_type": "code",
   "execution_count": 17,
   "metadata": {
    "colab": {
     "base_uri": "https://localhost:8080/"
    },
    "id": "vC5v-dPTf-k9",
    "outputId": "32ff8199-94b5-4ea1-fc54-3501b9a95fd6"
   },
   "outputs": [
    {
     "data": {
      "text/plain": [
       "0"
      ]
     },
     "execution_count": 17,
     "metadata": {},
     "output_type": "execute_result"
    }
   ],
   "source": [
    "relu(-0.5)"
   ]
  },
  {
   "cell_type": "code",
   "execution_count": 18,
   "metadata": {
    "colab": {
     "base_uri": "https://localhost:8080/",
     "height": 312
    },
    "id": "O8zNAPs0gBBQ",
    "outputId": "509e7c91-36f4-4079-b4ac-72807eaa2f05"
   },
   "outputs": [
    {
     "data": {
      "text/plain": [
       "Text(0.5, 1.0, 'Relu Function')"
      ]
     },
     "execution_count": 18,
     "metadata": {},
     "output_type": "execute_result"
    },
    {
     "data": {
      "image/png": "[encoded data removed]",
      "text/plain": [
       "<Figure size 432x288 with 1 Axes>"
      ]
     },
     "metadata": {
      "needs_background": "light"
     },
     "output_type": "display_data"
    }
   ],
   "source": [
    "# define a series of inputs\n",
    "input = [x for x in range(-10, 11)]\n",
    "# calculate outputs for our inputs\n",
    "output = [relu(x) for x in input]\n",
    "# line plot of raw inputs to rectified outputs\n",
    "plt.plot(input, output)\n",
    "plt.xlabel(\"Input\") \n",
    "plt.ylabel('Output') \n",
    "plt.title(\"Relu Function\") "
   ]
  },
  {
   "cell_type": "markdown",
   "metadata": {
    "id": "3NYdpCyGgqmh"
   },
   "source": [
    "## **Leaky Relu Function**"
   ]
  },
  {
   "cell_type": "code",
   "execution_count": 19,
   "metadata": {
    "id": "mqDumjQLgE58"
   },
   "outputs": [],
   "source": [
    "def leaky_relu(x):\n",
    "    return max(0.1*x,x)"
   ]
  },
  {
   "cell_type": "code",
   "execution_count": 20,
   "metadata": {
    "colab": {
     "base_uri": "https://localhost:8080/"
    },
    "id": "zM-PW__7gv0K",
    "outputId": "69862d23-7855-4901-fd0d-db21c7c4ec61"
   },
   "outputs": [
    {
     "data": {
      "text/plain": [
       "-0.05"
      ]
     },
     "execution_count": 20,
     "metadata": {},
     "output_type": "execute_result"
    }
   ],
   "source": [
    "leaky_relu(-0.5)"
   ]
  },
  {
   "cell_type": "code",
   "execution_count": 21,
   "metadata": {
    "colab": {
     "base_uri": "https://localhost:8080/"
    },
    "id": "0T-koe5Pgx23",
    "outputId": "b01bba86-b631-4875-cf50-3d338b255e86"
   },
   "outputs": [
    {
     "data": {
      "text/plain": [
       "15"
      ]
     },
     "execution_count": 21,
     "metadata": {},
     "output_type": "execute_result"
    }
   ],
   "source": [
    "leaky_relu(15)"
   ]
  },
  {
   "cell_type": "code",
   "execution_count": 22,
   "metadata": {
    "colab": {
     "base_uri": "https://localhost:8080/",
     "height": 312
    },
    "id": "RGZgryzWg0Cj",
    "outputId": "14f110da-d293-4727-e7e3-d4a8513c3d96"
   },
   "outputs": [
    {
     "data": {
      "text/plain": [
       "Text(0.5, 1.0, 'leaky relu Function')"
      ]
     },
     "execution_count": 22,
     "metadata": {},
     "output_type": "execute_result"
    },
    {
     "data": {
      "image/png": "[encoded data removed]",
      "text/plain": [
       "<Figure size 432x288 with 1 Axes>"
      ]
     },
     "metadata": {
      "needs_background": "light"
     },
     "output_type": "display_data"
    }
   ],
   "source": [
    "# define a series of inputs\n",
    "input = [x for x in range(-10, 11)]\n",
    "# calculate outputs for our inputs\n",
    "output = [leaky_relu(x) for x in input]\n",
    "# line plot of raw inputs to rectified outputs\n",
    "plt.plot(input, output)\n",
    "plt.xlabel(\"Input\") \n",
    "plt.ylabel('Output') \n",
    "plt.title(\"leaky relu Function\") "
   ]
  },
  {
   "cell_type": "code",
   "execution_count": null,
   "metadata": {
    "id": "6TxHQpzqg6y7"
   },
   "outputs": [],
   "source": []
  }
 ],
 "metadata": {
  "accelerator": "GPU",
  "colab": {
   "collapsed_sections": [],
   "name": "Module 2 - Implement Activation Functions.ipynb",
   "provenance": []
  },
  "kernelspec": {
   "display_name": "Python 3",
   "language": "python",
   "name": "python3"
  },
  "language_info": {
   "codemirror_mode": {
    "name": "ipython",
    "version": 3
   },
   "file_extension": ".py",
   "mimetype": "text/x-python",
   "name": "python",
   "nbconvert_exporter": "python",
   "pygments_lexer": "ipython3",
   "version": "3.8.8"
  }
 },
 "nbformat": 4,
 "nbformat_minor": 1
}

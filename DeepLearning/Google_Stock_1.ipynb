{
 "cells": [
  {
   "cell_type": "markdown",
   "id": "ac322bf6",
   "metadata": {},
   "source": [
    "## Google Stock Price Prediction using Recurrent Neural Network"
   ]
  },
  {
   "cell_type": "raw",
   "id": "38a8bebd",
   "metadata": {},
   "source": [
    "We have taken google stock price dataset. We will take days opening stock price and predict the ouput on that."
   ]
  },
  {
   "cell_type": "markdown",
   "id": "d89d2194",
   "metadata": {},
   "source": [
    "#### Part 1: Data Preprocessing"
   ]
  },
  {
   "cell_type": "code",
   "execution_count": 1,
   "id": "b029ca2c",
   "metadata": {},
   "outputs": [],
   "source": [
    "# import libraries\n",
    "import numpy as np\n",
    "import pandas as pd\n",
    "import matplotlib.pyplot as plt"
   ]
  },
  {
   "cell_type": "code",
   "execution_count": 2,
   "id": "d9d19b2a",
   "metadata": {},
   "outputs": [],
   "source": [
    "# import training set\n",
    "training_set=pd.read_csv('Google_Stock_Price_Train.csv')\n",
    "training_set=training_set.iloc[:,1:2].values"
   ]
  },
  {
   "cell_type": "code",
   "execution_count": 3,
   "id": "d7b5cb89",
   "metadata": {},
   "outputs": [
    {
     "data": {
      "text/plain": [
       "array([[325.25],\n",
       "       [331.27],\n",
       "       [329.83],\n",
       "       ...,\n",
       "       [793.7 ],\n",
       "       [783.33],\n",
       "       [782.75]])"
      ]
     },
     "execution_count": 3,
     "metadata": {},
     "output_type": "execute_result"
    }
   ],
   "source": [
    "training_set"
   ]
  },
  {
   "cell_type": "raw",
   "id": "18130d87",
   "metadata": {},
   "source": [
    "# MinMaxScaler transform the dataset into the range of (0,1). Here is formula below\n",
    "# X_std = (X - X.min(axis=0)) / (X.max(axis=0) - X.min(axis=0))\n",
    "# X_scaled = X_std * (max - min) + min"
   ]
  },
  {
   "cell_type": "code",
   "execution_count": 4,
   "id": "5cac2f08",
   "metadata": {},
   "outputs": [],
   "source": [
    "# feature Scaling\n",
    "from sklearn.preprocessing import MinMaxScaler\n",
    "sc= MinMaxScaler()\n",
    "training_set=sc.fit_transform(training_set)"
   ]
  },
  {
   "cell_type": "code",
   "execution_count": 5,
   "id": "9d8ecb2e",
   "metadata": {},
   "outputs": [],
   "source": [
    "# Getting the input and output\n",
    "X_train= training_set[0:1257]\n",
    "y_train= training_set[1:1258]#This is second col as after open for next day perdiction\n",
    "#Here last row we will eleminate that's why 1258"
   ]
  },
  {
   "cell_type": "code",
   "execution_count": 6,
   "id": "61657d4c",
   "metadata": {},
   "outputs": [
    {
     "data": {
      "text/plain": [
       "array([[0.08581368],\n",
       "       [0.09701243],\n",
       "       [0.09433366],\n",
       "       ...,\n",
       "       [0.95163331],\n",
       "       [0.95725128],\n",
       "       [0.93796041]])"
      ]
     },
     "execution_count": 6,
     "metadata": {},
     "output_type": "execute_result"
    }
   ],
   "source": [
    "X_train"
   ]
  },
  {
   "cell_type": "code",
   "execution_count": 7,
   "id": "8ffa79f6",
   "metadata": {},
   "outputs": [
    {
     "data": {
      "text/plain": [
       "array([[0.09701243],\n",
       "       [0.09433366],\n",
       "       [0.09156187],\n",
       "       ...,\n",
       "       [0.95725128],\n",
       "       [0.93796041],\n",
       "       [0.93688146]])"
      ]
     },
     "execution_count": 7,
     "metadata": {},
     "output_type": "execute_result"
    }
   ],
   "source": [
    "y_train"
   ]
  },
  {
   "cell_type": "code",
   "execution_count": 8,
   "id": "477273a0",
   "metadata": {},
   "outputs": [],
   "source": [
    "# Reshaping\n",
    "X_train=np.reshape(X_train, (1257 , 1 , 1))\n",
    "#onr Row"
   ]
  },
  {
   "cell_type": "markdown",
   "id": "241cfefc",
   "metadata": {},
   "source": [
    "#### Part 2: Building the RNN"
   ]
  },
  {
   "cell_type": "code",
   "execution_count": 9,
   "id": "019e5436",
   "metadata": {},
   "outputs": [],
   "source": [
    "# importing the Keras libraries and Packages\n",
    "from tensorflow import keras\n",
    "from keras.models import Sequential\n",
    "from keras.layers import Dense\n",
    "from keras.layers import LSTM"
   ]
  },
  {
   "cell_type": "code",
   "execution_count": 10,
   "id": "21c88c47",
   "metadata": {},
   "outputs": [],
   "source": [
    "# initialize the RNN\n",
    "regressor = Sequential()"
   ]
  },
  {
   "cell_type": "code",
   "execution_count": 11,
   "id": "a2bcc18d",
   "metadata": {},
   "outputs": [],
   "source": [
    "# adding the input layer and LSTM layer\n",
    "#units = 4 means input node\n",
    "regressor.add(LSTM(units=4, activation= 'sigmoid', input_shape= (None,1)))"
   ]
  },
  {
   "cell_type": "code",
   "execution_count": 12,
   "id": "b6989b57",
   "metadata": {},
   "outputs": [],
   "source": [
    "# adding the output layer\n",
    "#nothing process it just collect the all the data into one node.\n",
    "regressor.add(Dense( units=1 ))"
   ]
  },
  {
   "cell_type": "code",
   "execution_count": 13,
   "id": "6f9e2490",
   "metadata": {},
   "outputs": [],
   "source": [
    "# compiling the RNN\n",
    "regressor.compile(optimizer='adam', loss='mean_squared_error')"
   ]
  },
  {
   "cell_type": "code",
   "execution_count": 14,
   "id": "d5fcac5a",
   "metadata": {},
   "outputs": [
    {
     "name": "stdout",
     "output_type": "stream",
     "text": [
      "Epoch 1/200\n",
      "40/40 [==============================] - 1s 1ms/step - loss: 0.0875\n",
      "Epoch 2/200\n",
      "40/40 [==============================] - 0s 1ms/step - loss: 0.0844\n",
      "Epoch 3/200\n",
      "40/40 [==============================] - 0s 1ms/step - loss: 0.0821\n",
      "Epoch 4/200\n",
      "40/40 [==============================] - 0s 1ms/step - loss: 0.0801\n",
      "Epoch 5/200\n",
      "40/40 [==============================] - 0s 1ms/step - loss: 0.0780\n",
      "Epoch 6/200\n",
      "40/40 [==============================] - 0s 1ms/step - loss: 0.0761\n",
      "Epoch 7/200\n",
      "40/40 [==============================] - 0s 1ms/step - loss: 0.0742\n",
      "Epoch 8/200\n",
      "40/40 [==============================] - 0s 1ms/step - loss: 0.0723\n",
      "Epoch 9/200\n",
      "40/40 [==============================] - 0s 1ms/step - loss: 0.0704\n",
      "Epoch 10/200\n",
      "40/40 [==============================] - 0s 1ms/step - loss: 0.0685\n",
      "Epoch 11/200\n",
      "40/40 [==============================] - 0s 1ms/step - loss: 0.0666\n",
      "Epoch 12/200\n",
      "40/40 [==============================] - 0s 1ms/step - loss: 0.0647\n",
      "Epoch 13/200\n",
      "40/40 [==============================] - 0s 1ms/step - loss: 0.0628\n",
      "Epoch 14/200\n",
      "40/40 [==============================] - 0s 2ms/step - loss: 0.0608\n",
      "Epoch 15/200\n",
      "40/40 [==============================] - 0s 2ms/step - loss: 0.0589\n",
      "Epoch 16/200\n",
      "40/40 [==============================] - 0s 1ms/step - loss: 0.0569\n",
      "Epoch 17/200\n",
      "40/40 [==============================] - 0s 1ms/step - loss: 0.0549\n",
      "Epoch 18/200\n",
      "40/40 [==============================] - 0s 1ms/step - loss: 0.0529\n",
      "Epoch 19/200\n",
      "40/40 [==============================] - 0s 1ms/step - loss: 0.0510\n",
      "Epoch 20/200\n",
      "40/40 [==============================] - 0s 1ms/step - loss: 0.0490\n",
      "Epoch 21/200\n",
      "40/40 [==============================] - 0s 1ms/step - loss: 0.0469\n",
      "Epoch 22/200\n",
      "40/40 [==============================] - 0s 1ms/step - loss: 0.0448\n",
      "Epoch 23/200\n",
      "40/40 [==============================] - 0s 2ms/step - loss: 0.0429\n",
      "Epoch 24/200\n",
      "40/40 [==============================] - 0s 1ms/step - loss: 0.0409\n",
      "Epoch 25/200\n",
      "40/40 [==============================] - 0s 1ms/step - loss: 0.0389\n",
      "Epoch 26/200\n",
      "40/40 [==============================] - 0s 1ms/step - loss: 0.0368\n",
      "Epoch 27/200\n",
      "40/40 [==============================] - 0s 1ms/step - loss: 0.0348\n",
      "Epoch 28/200\n",
      "40/40 [==============================] - 0s 2ms/step - loss: 0.0328\n",
      "Epoch 29/200\n",
      "40/40 [==============================] - 0s 1ms/step - loss: 0.0310\n",
      "Epoch 30/200\n",
      "40/40 [==============================] - 0s 1ms/step - loss: 0.0290\n",
      "Epoch 31/200\n",
      "40/40 [==============================] - 0s 2ms/step - loss: 0.0272\n",
      "Epoch 32/200\n",
      "40/40 [==============================] - 0s 2ms/step - loss: 0.0254\n",
      "Epoch 33/200\n",
      "40/40 [==============================] - 0s 1ms/step - loss: 0.0235\n",
      "Epoch 34/200\n",
      "40/40 [==============================] - 0s 1ms/step - loss: 0.0219\n",
      "Epoch 35/200\n",
      "40/40 [==============================] - 0s 1ms/step - loss: 0.0202\n",
      "Epoch 36/200\n",
      "40/40 [==============================] - 0s 1ms/step - loss: 0.0186\n",
      "Epoch 37/200\n",
      "40/40 [==============================] - 0s 1ms/step - loss: 0.0171\n",
      "Epoch 38/200\n",
      "40/40 [==============================] - 0s 1ms/step - loss: 0.0156\n",
      "Epoch 39/200\n",
      "40/40 [==============================] - 0s 1ms/step - loss: 0.0142\n",
      "Epoch 40/200\n",
      "40/40 [==============================] - 0s 1ms/step - loss: 0.0129\n",
      "Epoch 41/200\n",
      "40/40 [==============================] - 0s 1ms/step - loss: 0.0117\n",
      "Epoch 42/200\n",
      "40/40 [==============================] - 0s 1ms/step - loss: 0.0104\n",
      "Epoch 43/200\n",
      "40/40 [==============================] - 0s 1ms/step - loss: 0.0093\n",
      "Epoch 44/200\n",
      "40/40 [==============================] - 0s 1ms/step - loss: 0.0083\n",
      "Epoch 45/200\n",
      "40/40 [==============================] - 0s 1ms/step - loss: 0.0074\n",
      "Epoch 46/200\n",
      "40/40 [==============================] - 0s 1ms/step - loss: 0.0065\n",
      "Epoch 47/200\n",
      "40/40 [==============================] - 0s 1ms/step - loss: 0.0057\n",
      "Epoch 48/200\n",
      "40/40 [==============================] - 0s 2ms/step - loss: 0.0050\n",
      "Epoch 49/200\n",
      "40/40 [==============================] - 0s 1ms/step - loss: 0.0044\n",
      "Epoch 50/200\n",
      "40/40 [==============================] - 0s 2ms/step - loss: 0.0038\n",
      "Epoch 51/200\n",
      "40/40 [==============================] - 0s 2ms/step - loss: 0.0033\n",
      "Epoch 52/200\n",
      "40/40 [==============================] - 0s 2ms/step - loss: 0.0028\n",
      "Epoch 53/200\n",
      "40/40 [==============================] - 0s 2ms/step - loss: 0.0024\n",
      "Epoch 54/200\n",
      "40/40 [==============================] - 0s 1ms/step - loss: 0.0021\n",
      "Epoch 55/200\n",
      "40/40 [==============================] - 0s 1ms/step - loss: 0.0018\n",
      "Epoch 56/200\n",
      "40/40 [==============================] - 0s 1ms/step - loss: 0.0015\n",
      "Epoch 57/200\n",
      "40/40 [==============================] - 0s 1ms/step - loss: 0.0013\n",
      "Epoch 58/200\n",
      "40/40 [==============================] - 0s 1ms/step - loss: 0.0011\n",
      "Epoch 59/200\n",
      "40/40 [==============================] - 0s 1ms/step - loss: 9.7637e-04\n",
      "Epoch 60/200\n",
      "40/40 [==============================] - 0s 1ms/step - loss: 8.4292e-04\n",
      "Epoch 61/200\n",
      "40/40 [==============================] - 0s 1ms/step - loss: 7.3476e-04\n",
      "Epoch 62/200\n",
      "40/40 [==============================] - 0s 1ms/step - loss: 6.4283e-04\n",
      "Epoch 63/200\n",
      "40/40 [==============================] - 0s 1ms/step - loss: 5.6811e-04\n",
      "Epoch 64/200\n",
      "40/40 [==============================] - 0s 1ms/step - loss: 5.0900e-04\n",
      "Epoch 65/200\n",
      "40/40 [==============================] - 0s 1ms/step - loss: 4.6097e-04\n",
      "Epoch 66/200\n",
      "40/40 [==============================] - 0s 1ms/step - loss: 4.2119e-04\n",
      "Epoch 67/200\n",
      "40/40 [==============================] - 0s 1ms/step - loss: 3.9095e-04\n",
      "Epoch 68/200\n",
      "40/40 [==============================] - 0s 1ms/step - loss: 3.6813e-04\n",
      "Epoch 69/200\n",
      "40/40 [==============================] - 0s 1ms/step - loss: 3.4706e-04\n",
      "Epoch 70/200\n",
      "40/40 [==============================] - 0s 1ms/step - loss: 3.3311e-04\n",
      "Epoch 71/200\n",
      "40/40 [==============================] - 0s 1ms/step - loss: 3.2170e-04\n",
      "Epoch 72/200\n",
      "40/40 [==============================] - 0s 1ms/step - loss: 3.1292e-04\n",
      "Epoch 73/200\n",
      "40/40 [==============================] - 0s 2ms/step - loss: 3.0553e-04\n",
      "Epoch 74/200\n",
      "40/40 [==============================] - 0s 2ms/step - loss: 3.0105e-04\n",
      "Epoch 75/200\n",
      "40/40 [==============================] - 0s 2ms/step - loss: 2.9691e-04\n",
      "Epoch 76/200\n",
      "40/40 [==============================] - 0s 2ms/step - loss: 2.9392e-04\n",
      "Epoch 77/200\n",
      "40/40 [==============================] - 0s 1ms/step - loss: 2.9171e-04\n",
      "Epoch 78/200\n",
      "40/40 [==============================] - 0s 2ms/step - loss: 2.9158e-04\n",
      "Epoch 79/200\n",
      "40/40 [==============================] - 0s 2ms/step - loss: 2.8879e-04\n",
      "Epoch 80/200\n",
      "40/40 [==============================] - 0s 2ms/step - loss: 2.8748e-04\n",
      "Epoch 81/200\n",
      "40/40 [==============================] - 0s 2ms/step - loss: 2.8683e-04\n",
      "Epoch 82/200\n",
      "40/40 [==============================] - 0s 2ms/step - loss: 2.8564e-04\n",
      "Epoch 83/200\n",
      "40/40 [==============================] - 0s 2ms/step - loss: 2.8492e-04\n",
      "Epoch 84/200\n",
      "40/40 [==============================] - 0s 2ms/step - loss: 2.8496e-04\n",
      "Epoch 85/200\n",
      "40/40 [==============================] - 0s 1ms/step - loss: 2.8467e-04\n",
      "Epoch 86/200\n",
      "40/40 [==============================] - 0s 1ms/step - loss: 2.8549e-04\n",
      "Epoch 87/200\n",
      "40/40 [==============================] - 0s 1ms/step - loss: 2.8888e-04\n",
      "Epoch 88/200\n",
      "40/40 [==============================] - 0s 1ms/step - loss: 2.8461e-04\n",
      "Epoch 89/200\n",
      "40/40 [==============================] - 0s 1ms/step - loss: 2.8268e-04\n",
      "Epoch 90/200\n",
      "40/40 [==============================] - 0s 1ms/step - loss: 2.8192e-04\n",
      "Epoch 91/200\n",
      "40/40 [==============================] - 0s 1ms/step - loss: 2.8171e-04\n",
      "Epoch 92/200\n",
      "40/40 [==============================] - 0s 2ms/step - loss: 2.8128e-04\n",
      "Epoch 93/200\n",
      "40/40 [==============================] - 0s 2ms/step - loss: 2.8256e-04\n",
      "Epoch 94/200\n",
      "40/40 [==============================] - 0s 1ms/step - loss: 2.8046e-04\n",
      "Epoch 95/200\n",
      "40/40 [==============================] - 0s 1ms/step - loss: 2.8061e-04\n",
      "Epoch 96/200\n",
      "40/40 [==============================] - 0s 1ms/step - loss: 2.8288e-04\n",
      "Epoch 97/200\n",
      "40/40 [==============================] - 0s 1ms/step - loss: 2.8094e-04\n",
      "Epoch 98/200\n",
      "40/40 [==============================] - 0s 1ms/step - loss: 2.7878e-04\n",
      "Epoch 99/200\n",
      "40/40 [==============================] - 0s 1ms/step - loss: 2.7937e-04\n",
      "Epoch 100/200\n",
      "40/40 [==============================] - 0s 1ms/step - loss: 2.8036e-04\n",
      "Epoch 101/200\n",
      "40/40 [==============================] - 0s 1ms/step - loss: 2.7930e-04\n",
      "Epoch 102/200\n",
      "40/40 [==============================] - 0s 1ms/step - loss: 2.7856e-04\n",
      "Epoch 103/200\n",
      "40/40 [==============================] - 0s 1ms/step - loss: 2.8020e-04\n",
      "Epoch 104/200\n",
      "40/40 [==============================] - 0s 1ms/step - loss: 2.7948e-04\n",
      "Epoch 105/200\n",
      "40/40 [==============================] - 0s 1ms/step - loss: 2.7919e-04\n",
      "Epoch 106/200\n",
      "40/40 [==============================] - 0s 1ms/step - loss: 2.7803e-04\n",
      "Epoch 107/200\n",
      "40/40 [==============================] - 0s 1ms/step - loss: 2.7792e-04\n",
      "Epoch 108/200\n",
      "40/40 [==============================] - 0s 1ms/step - loss: 2.7697e-04\n",
      "Epoch 109/200\n",
      "40/40 [==============================] - 0s 1ms/step - loss: 2.7737e-04\n",
      "Epoch 110/200\n",
      "40/40 [==============================] - 0s 1ms/step - loss: 2.7701e-04\n",
      "Epoch 111/200\n",
      "40/40 [==============================] - 0s 1ms/step - loss: 2.7729e-04\n",
      "Epoch 112/200\n",
      "40/40 [==============================] - 0s 1ms/step - loss: 2.7761e-04\n",
      "Epoch 113/200\n",
      "40/40 [==============================] - 0s 1ms/step - loss: 2.7539e-04\n",
      "Epoch 114/200\n",
      "40/40 [==============================] - 0s 1ms/step - loss: 2.7577e-04\n",
      "Epoch 115/200\n",
      "40/40 [==============================] - 0s 1ms/step - loss: 2.7601e-04\n",
      "Epoch 116/200\n",
      "40/40 [==============================] - 0s 1ms/step - loss: 2.7648e-04\n",
      "Epoch 117/200\n",
      "40/40 [==============================] - 0s 1ms/step - loss: 2.7756e-04\n",
      "Epoch 118/200\n",
      "40/40 [==============================] - 0s 1ms/step - loss: 2.7466e-04\n",
      "Epoch 119/200\n",
      "40/40 [==============================] - 0s 1ms/step - loss: 2.7567e-04\n",
      "Epoch 120/200\n",
      "40/40 [==============================] - 0s 1ms/step - loss: 2.7559e-04\n",
      "Epoch 121/200\n",
      "40/40 [==============================] - 0s 1ms/step - loss: 2.7727e-04\n",
      "Epoch 122/200\n",
      "40/40 [==============================] - 0s 1ms/step - loss: 2.7544e-04\n",
      "Epoch 123/200\n",
      "40/40 [==============================] - 0s 1ms/step - loss: 2.7385e-04\n",
      "Epoch 124/200\n",
      "40/40 [==============================] - 0s 1ms/step - loss: 2.7522e-04\n",
      "Epoch 125/200\n",
      "40/40 [==============================] - 0s 1ms/step - loss: 2.7603e-04\n",
      "Epoch 126/200\n",
      "40/40 [==============================] - 0s 1ms/step - loss: 2.7223e-04\n",
      "Epoch 127/200\n",
      "40/40 [==============================] - 0s 1ms/step - loss: 2.7267e-04\n",
      "Epoch 128/200\n",
      "40/40 [==============================] - 0s 1ms/step - loss: 2.7430e-04\n",
      "Epoch 129/200\n",
      "40/40 [==============================] - 0s 1ms/step - loss: 2.7385e-04\n",
      "Epoch 130/200\n",
      "40/40 [==============================] - 0s 1ms/step - loss: 2.7270e-04\n",
      "Epoch 131/200\n",
      "40/40 [==============================] - 0s 1ms/step - loss: 2.7238e-04\n",
      "Epoch 132/200\n",
      "40/40 [==============================] - 0s 1ms/step - loss: 2.7274e-04\n",
      "Epoch 133/200\n",
      "40/40 [==============================] - 0s 1ms/step - loss: 2.7196e-04\n",
      "Epoch 134/200\n",
      "40/40 [==============================] - 0s 1ms/step - loss: 2.7487e-04\n",
      "Epoch 135/200\n",
      "40/40 [==============================] - 0s 1ms/step - loss: 2.7144e-04\n",
      "Epoch 136/200\n",
      "40/40 [==============================] - 0s 1ms/step - loss: 2.7097e-04\n",
      "Epoch 137/200\n",
      "40/40 [==============================] - 0s 1ms/step - loss: 2.7174e-04\n",
      "Epoch 138/200\n",
      "40/40 [==============================] - 0s 1ms/step - loss: 2.7060e-04\n",
      "Epoch 139/200\n",
      "40/40 [==============================] - 0s 1ms/step - loss: 2.7137e-04\n",
      "Epoch 140/200\n",
      "40/40 [==============================] - 0s 1ms/step - loss: 2.7270e-04\n",
      "Epoch 141/200\n",
      "40/40 [==============================] - 0s 1ms/step - loss: 2.7103e-04\n",
      "Epoch 142/200\n",
      "40/40 [==============================] - 0s 1ms/step - loss: 2.7159e-04\n",
      "Epoch 143/200\n",
      "40/40 [==============================] - 0s 1ms/step - loss: 2.7003e-04\n",
      "Epoch 144/200\n",
      "40/40 [==============================] - 0s 1ms/step - loss: 2.7826e-04\n",
      "Epoch 145/200\n",
      "40/40 [==============================] - 0s 1ms/step - loss: 2.7123e-04\n",
      "Epoch 146/200\n",
      "40/40 [==============================] - 0s 1ms/step - loss: 2.7128e-04\n",
      "Epoch 147/200\n",
      "40/40 [==============================] - 0s 1ms/step - loss: 2.7115e-04\n",
      "Epoch 148/200\n",
      "40/40 [==============================] - 0s 1ms/step - loss: 2.6904e-04\n",
      "Epoch 149/200\n",
      "40/40 [==============================] - 0s 1ms/step - loss: 2.7838e-04\n",
      "Epoch 150/200\n",
      "40/40 [==============================] - 0s 1ms/step - loss: 2.6991e-04\n",
      "Epoch 151/200\n",
      "40/40 [==============================] - 0s 1ms/step - loss: 2.7105e-04\n",
      "Epoch 152/200\n",
      "40/40 [==============================] - 0s 1ms/step - loss: 2.7384e-04\n",
      "Epoch 153/200\n",
      "40/40 [==============================] - 0s 1ms/step - loss: 2.7064e-04\n",
      "Epoch 154/200\n",
      "40/40 [==============================] - 0s 1ms/step - loss: 2.7070e-04\n",
      "Epoch 155/200\n",
      "40/40 [==============================] - 0s 1ms/step - loss: 2.7050e-04\n",
      "Epoch 156/200\n",
      "40/40 [==============================] - 0s 1ms/step - loss: 2.6844e-04\n",
      "Epoch 157/200\n",
      "40/40 [==============================] - 0s 1ms/step - loss: 2.6964e-04\n",
      "Epoch 158/200\n",
      "40/40 [==============================] - 0s 1ms/step - loss: 2.7055e-04\n",
      "Epoch 159/200\n",
      "40/40 [==============================] - 0s 1ms/step - loss: 2.6993e-04\n",
      "Epoch 160/200\n",
      "40/40 [==============================] - 0s 2ms/step - loss: 2.6933e-04\n",
      "Epoch 161/200\n",
      "40/40 [==============================] - 0s 2ms/step - loss: 2.7062e-04\n",
      "Epoch 162/200\n",
      "40/40 [==============================] - 0s 1ms/step - loss: 2.7142e-04\n",
      "Epoch 163/200\n",
      "40/40 [==============================] - 0s 1ms/step - loss: 2.7341e-04\n",
      "Epoch 164/200\n",
      "40/40 [==============================] - 0s 1ms/step - loss: 2.7407e-04\n",
      "Epoch 165/200\n",
      "40/40 [==============================] - 0s 1ms/step - loss: 2.6933e-04\n",
      "Epoch 166/200\n",
      "40/40 [==============================] - 0s 1ms/step - loss: 2.6806e-04\n",
      "Epoch 167/200\n",
      "40/40 [==============================] - 0s 1ms/step - loss: 2.7028e-04\n",
      "Epoch 168/200\n",
      "40/40 [==============================] - 0s 1ms/step - loss: 2.7025e-04\n",
      "Epoch 169/200\n",
      "40/40 [==============================] - 0s 1ms/step - loss: 2.7163e-04\n",
      "Epoch 170/200\n",
      "40/40 [==============================] - 0s 1ms/step - loss: 2.6866e-04\n",
      "Epoch 171/200\n",
      "40/40 [==============================] - 0s 1ms/step - loss: 2.6988e-04\n",
      "Epoch 172/200\n",
      "40/40 [==============================] - 0s 1ms/step - loss: 2.7159e-04\n",
      "Epoch 173/200\n",
      "40/40 [==============================] - 0s 1ms/step - loss: 2.6992e-04\n",
      "Epoch 174/200\n",
      "40/40 [==============================] - 0s 1ms/step - loss: 2.6968e-04\n",
      "Epoch 175/200\n",
      "40/40 [==============================] - 0s 1ms/step - loss: 2.7660e-04\n",
      "Epoch 176/200\n",
      "40/40 [==============================] - 0s 1ms/step - loss: 2.7409e-04\n",
      "Epoch 177/200\n",
      "40/40 [==============================] - 0s 1ms/step - loss: 2.7409e-04\n",
      "Epoch 178/200\n",
      "40/40 [==============================] - 0s 1ms/step - loss: 2.7453e-04\n",
      "Epoch 179/200\n",
      "40/40 [==============================] - 0s 2ms/step - loss: 2.6823e-04\n",
      "Epoch 180/200\n",
      "40/40 [==============================] - 0s 1ms/step - loss: 2.6927e-04\n",
      "Epoch 181/200\n",
      "40/40 [==============================] - 0s 1ms/step - loss: 2.6904e-04\n",
      "Epoch 182/200\n",
      "40/40 [==============================] - 0s 1ms/step - loss: 2.7110e-04\n",
      "Epoch 183/200\n",
      "40/40 [==============================] - 0s 1ms/step - loss: 2.6907e-04\n",
      "Epoch 184/200\n",
      "40/40 [==============================] - 0s 2ms/step - loss: 2.7058e-04\n",
      "Epoch 185/200\n",
      "40/40 [==============================] - 0s 2ms/step - loss: 2.6969e-04\n",
      "Epoch 186/200\n",
      "40/40 [==============================] - 0s 1ms/step - loss: 2.7051e-04\n",
      "Epoch 187/200\n",
      "40/40 [==============================] - 0s 1ms/step - loss: 2.7250e-04\n",
      "Epoch 188/200\n",
      "40/40 [==============================] - 0s 1ms/step - loss: 2.7765e-04\n",
      "Epoch 189/200\n",
      "40/40 [==============================] - 0s 1ms/step - loss: 2.6991e-04\n",
      "Epoch 190/200\n",
      "40/40 [==============================] - 0s 1ms/step - loss: 2.6996e-04\n",
      "Epoch 191/200\n",
      "40/40 [==============================] - 0s 2ms/step - loss: 2.7274e-04\n",
      "Epoch 192/200\n",
      "40/40 [==============================] - 0s 1ms/step - loss: 2.7082e-04\n",
      "Epoch 193/200\n",
      "40/40 [==============================] - 0s 2ms/step - loss: 2.6821e-04\n",
      "Epoch 194/200\n",
      "40/40 [==============================] - 0s 2ms/step - loss: 2.6995e-04\n",
      "Epoch 195/200\n",
      "40/40 [==============================] - 0s 2ms/step - loss: 2.7288e-04\n",
      "Epoch 196/200\n",
      "40/40 [==============================] - 0s 1ms/step - loss: 2.7021e-04\n",
      "Epoch 197/200\n",
      "40/40 [==============================] - 0s 2ms/step - loss: 2.7506e-04\n",
      "Epoch 198/200\n",
      "40/40 [==============================] - 0s 1ms/step - loss: 2.7022e-04\n",
      "Epoch 199/200\n",
      "40/40 [==============================] - 0s 1ms/step - loss: 2.6913e-04\n",
      "Epoch 200/200\n",
      "40/40 [==============================] - 0s 1ms/step - loss: 2.6802e-04\n"
     ]
    },
    {
     "data": {
      "text/plain": [
       "<keras.callbacks.History at 0x2438143ddf0>"
      ]
     },
     "execution_count": 14,
     "metadata": {},
     "output_type": "execute_result"
    }
   ],
   "source": [
    "# fitting the RNN to the training set\n",
    "regressor.fit(X_train, y_train, batch_size=32, epochs=200)"
   ]
  },
  {
   "cell_type": "markdown",
   "id": "ff3885fe",
   "metadata": {},
   "source": [
    "#### Part 3: Making the Prediction and Visulising the result"
   ]
  },
  {
   "cell_type": "code",
   "execution_count": 15,
   "id": "517a55bd",
   "metadata": {},
   "outputs": [],
   "source": [
    "# Geting the real stock price of 2017\n",
    "test_set = pd.read_csv('Google_Stock_Price_Test.csv')\n",
    "real_stock_price = test_set.iloc[:,1:2].values"
   ]
  },
  {
   "cell_type": "code",
   "execution_count": 16,
   "id": "beb0ce39",
   "metadata": {},
   "outputs": [],
   "source": [
    "# Geting the Predicted Stock Price of 2017\n",
    "inputs = real_stock_price"
   ]
  },
  {
   "cell_type": "code",
   "execution_count": 17,
   "id": "81bd1130",
   "metadata": {},
   "outputs": [],
   "source": [
    "inputs = sc.transform(inputs)"
   ]
  },
  {
   "cell_type": "code",
   "execution_count": 18,
   "id": "f1314e0e",
   "metadata": {},
   "outputs": [],
   "source": [
    "inputs = np.reshape(inputs, (20 , 1, 1))"
   ]
  },
  {
   "cell_type": "code",
   "execution_count": 19,
   "id": "158ac980",
   "metadata": {},
   "outputs": [],
   "source": [
    "predicted_stock_price = regressor.predict(inputs)"
   ]
  },
  {
   "cell_type": "code",
   "execution_count": 20,
   "id": "a2a03b8c",
   "metadata": {},
   "outputs": [],
   "source": [
    "predicted_stock_price = sc.inverse_transform(predicted_stock_price)"
   ]
  },
  {
   "cell_type": "code",
   "execution_count": 21,
   "id": "ea40118d",
   "metadata": {},
   "outputs": [
    {
     "data": {
      "text/plain": [
       "array([[776.5755 ],\n",
       "       [784.8031 ],\n",
       "       [782.8493 ],\n",
       "       [790.6759 ],\n",
       "       [800.0289 ],\n",
       "       [801.24274],\n",
       "       [798.86224],\n",
       "       [800.6445 ],\n",
       "       [800.92706],\n",
       "       [800.5946 ],\n",
       "       [799.5374 ],\n",
       "       [798.9623 ],\n",
       "       [800.45325],\n",
       "       [800.73584],\n",
       "       [813.0994 ],\n",
       "       [819.0053 ],\n",
       "       [825.52936],\n",
       "       [823.07043],\n",
       "       [806.86017],\n",
       "       [792.0291 ]], dtype=float32)"
      ]
     },
     "execution_count": 21,
     "metadata": {},
     "output_type": "execute_result"
    }
   ],
   "source": [
    "predicted_stock_price"
   ]
  },
  {
   "cell_type": "code",
   "execution_count": 22,
   "id": "7b78b599",
   "metadata": {},
   "outputs": [
    {
     "data": {
      "image/png": "[encoded data removed]",
      "text/plain": [
       "<Figure size 432x288 with 1 Axes>"
      ]
     },
     "metadata": {
      "needs_background": "light"
     },
     "output_type": "display_data"
    }
   ],
   "source": [
    "# Visulising the Result \n",
    "plt.plot( real_stock_price , color = 'red' , label = 'Real Google Stock Price')\n",
    "plt.plot( predicted_stock_price , color = 'blue' , label = 'Predicted Google Stock Price')\n",
    "plt.title('Google Stock Price Prediction')\n",
    "plt.xlabel( 'time' )\n",
    "plt.ylabel( 'Google Stock Price' )\n",
    "plt.legend()\n",
    "plt.show()"
   ]
  },
  {
   "cell_type": "code",
   "execution_count": 25,
   "id": "bfd6d958",
   "metadata": {},
   "outputs": [],
   "source": [
    "from sklearn.metrics import mean_squared_error,r2_score"
   ]
  },
  {
   "cell_type": "code",
   "execution_count": 26,
   "id": "5f91118b",
   "metadata": {},
   "outputs": [
    {
     "data": {
      "text/plain": [
       "0.7636146737549598"
      ]
     },
     "execution_count": 26,
     "metadata": {},
     "output_type": "execute_result"
    }
   ],
   "source": [
    "r2_score(real_stock_price,predicted_stock_price)"
   ]
  },
  {
   "cell_type": "code",
   "execution_count": 28,
   "id": "5b803850",
   "metadata": {},
   "outputs": [
    {
     "data": {
      "text/plain": [
       "7.1676987253074556"
      ]
     },
     "execution_count": 28,
     "metadata": {},
     "output_type": "execute_result"
    }
   ],
   "source": [
    "np.sqrt(mean_squared_error(real_stock_price,predicted_stock_price))"
   ]
  },
  {
   "cell_type": "code",
   "execution_count": 29,
   "id": "4a2ceba0",
   "metadata": {
    "scrolled": true
   },
   "outputs": [
    {
     "name": "stdout",
     "output_type": "stream",
     "text": [
      "INFO:tensorflow:Assets written to: Google_stoke.h5py\\assets\n"
     ]
    },
    {
     "name": "stderr",
     "output_type": "stream",
     "text": [
      "WARNING:absl:<keras.layers.recurrent.LSTMCell object at 0x0000024380273880> has the same name 'LSTMCell' as a built-in Keras object. Consider renaming <class 'keras.layers.recurrent.LSTMCell'> to avoid naming conflicts when loading with `tf.keras.models.load_model`. If renaming is not possible, pass the object in the `custom_objects` parameter of the load function.\n"
     ]
    }
   ],
   "source": [
    "regressor.save(\"Google_stoke.h5py\")"
   ]
  },
  {
   "cell_type": "code",
   "execution_count": 32,
   "id": "f2970e3e",
   "metadata": {},
   "outputs": [
    {
     "data": {
      "text/plain": [
       "'C:\\\\Users\\\\Zeel\\\\RNN'"
      ]
     },
     "execution_count": 32,
     "metadata": {},
     "output_type": "execute_result"
    }
   ],
   "source": [
    "pwd"
   ]
  },
  {
   "cell_type": "code",
   "execution_count": 33,
   "id": "7473e852",
   "metadata": {},
   "outputs": [
    {
     "name": "stdout",
     "output_type": "stream",
     "text": [
      "E:\\Data Sci\\Masters\\Deep Learning\\RNN_Part2\n"
     ]
    }
   ],
   "source": [
    "cd E:/Data Sci/Masters/Deep Learning/RNN_Part2"
   ]
  },
  {
   "cell_type": "code",
   "execution_count": 34,
   "id": "e093afa1",
   "metadata": {},
   "outputs": [
    {
     "data": {
      "text/plain": [
       "'E:\\\\Data Sci\\\\Masters\\\\Deep Learning\\\\RNN_Part2'"
      ]
     },
     "execution_count": 34,
     "metadata": {},
     "output_type": "execute_result"
    }
   ],
   "source": [
    "pwd"
   ]
  }
 ],
 "metadata": {
  "kernelspec": {
   "display_name": "Python 3",
   "language": "python",
   "name": "python3"
  },
  "language_info": {
   "codemirror_mode": {
    "name": "ipython",
    "version": 3
   },
   "file_extension": ".py",
   "mimetype": "text/x-python",
   "name": "python",
   "nbconvert_exporter": "python",
   "pygments_lexer": "ipython3",
   "version": "3.8.8"
  }
 },
 "nbformat": 4,
 "nbformat_minor": 5
}
